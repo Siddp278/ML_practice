{
 "cells": [
  {
   "cell_type": "markdown",
   "metadata": {},
   "source": [
    "### How to use GridSearchCV"
   ]
  },
  {
   "cell_type": "code",
   "execution_count": 1,
   "metadata": {},
   "outputs": [],
   "source": [
    "from sklearn.linear_model import LogisticRegression"
   ]
  },
  {
   "cell_type": "code",
   "execution_count": 6,
   "metadata": {},
   "outputs": [
    {
     "data": {
      "text/plain": [
       "{'C': 1.0,\n",
       " 'class_weight': None,\n",
       " 'dual': False,\n",
       " 'fit_intercept': True,\n",
       " 'intercept_scaling': 1,\n",
       " 'l1_ratio': None,\n",
       " 'max_iter': 100,\n",
       " 'multi_class': 'auto',\n",
       " 'n_jobs': None,\n",
       " 'penalty': 'l2',\n",
       " 'random_state': None,\n",
       " 'solver': 'lbfgs',\n",
       " 'tol': 0.0001,\n",
       " 'verbose': 0,\n",
       " 'warm_start': False}"
      ]
     },
     "execution_count": 6,
     "metadata": {},
     "output_type": "execute_result"
    }
   ],
   "source": [
    "lg = LogisticRegression()\n",
    "lg.get_params()"
   ]
  },
  {
   "cell_type": "code",
   "execution_count": 7,
   "metadata": {},
   "outputs": [],
   "source": [
    "#this is the default settings for Logistic Regression and all the parameters."
   ]
  },
  {
   "cell_type": "code",
   "execution_count": 8,
   "metadata": {},
   "outputs": [
    {
     "data": {
      "text/plain": [
       "{'C': 1.0,\n",
       " 'break_ties': False,\n",
       " 'cache_size': 200,\n",
       " 'class_weight': None,\n",
       " 'coef0': 0.0,\n",
       " 'decision_function_shape': 'ovr',\n",
       " 'degree': 3,\n",
       " 'gamma': 'scale',\n",
       " 'kernel': 'rbf',\n",
       " 'max_iter': -1,\n",
       " 'probability': False,\n",
       " 'random_state': None,\n",
       " 'shrinking': True,\n",
       " 'tol': 0.001,\n",
       " 'verbose': False}"
      ]
     },
     "execution_count": 8,
     "metadata": {},
     "output_type": "execute_result"
    }
   ],
   "source": [
    "from sklearn.svm import SVC\n",
    "svc = SVC()\n",
    "svc.get_params()"
   ]
  },
  {
   "cell_type": "code",
   "execution_count": 9,
   "metadata": {},
   "outputs": [
    {
     "data": {
      "text/plain": [
       "{'ccp_alpha': 0.0,\n",
       " 'class_weight': None,\n",
       " 'criterion': 'gini',\n",
       " 'max_depth': None,\n",
       " 'max_features': None,\n",
       " 'max_leaf_nodes': None,\n",
       " 'min_impurity_decrease': 0.0,\n",
       " 'min_impurity_split': None,\n",
       " 'min_samples_leaf': 1,\n",
       " 'min_samples_split': 2,\n",
       " 'min_weight_fraction_leaf': 0.0,\n",
       " 'presort': 'deprecated',\n",
       " 'random_state': None,\n",
       " 'splitter': 'best'}"
      ]
     },
     "execution_count": 9,
     "metadata": {},
     "output_type": "execute_result"
    }
   ],
   "source": [
    "from sklearn.tree import DecisionTreeClassifier\n",
    "Tr = DecisionTreeClassifier()\n",
    "Tr.get_params()"
   ]
  },
  {
   "cell_type": "code",
   "execution_count": 10,
   "metadata": {},
   "outputs": [
    {
     "data": {
      "text/plain": [
       "{'algorithm': 'auto',\n",
       " 'leaf_size': 30,\n",
       " 'metric': 'minkowski',\n",
       " 'metric_params': None,\n",
       " 'n_jobs': None,\n",
       " 'n_neighbors': 5,\n",
       " 'p': 2,\n",
       " 'weights': 'uniform'}"
      ]
     },
     "execution_count": 10,
     "metadata": {},
     "output_type": "execute_result"
    }
   ],
   "source": [
    "from sklearn.neighbors import KNeighborsClassifier\n",
    "KNN = KNeighborsClassifier()\n",
    "KNN.get_params()"
   ]
  },
  {
   "cell_type": "code",
   "execution_count": 11,
   "metadata": {},
   "outputs": [
    {
     "data": {
      "text/plain": [
       "{'copy_X': True, 'fit_intercept': True, 'n_jobs': None, 'normalize': False}"
      ]
     },
     "execution_count": 11,
     "metadata": {},
     "output_type": "execute_result"
    }
   ],
   "source": [
    "from sklearn.linear_model import LinearRegression\n",
    "l = LinearRegression()\n",
    "l.get_params()"
   ]
  },
  {
   "cell_type": "code",
   "execution_count": 12,
   "metadata": {},
   "outputs": [
    {
     "data": {
      "text/plain": [
       "{'priors': None, 'var_smoothing': 1e-09}"
      ]
     },
     "execution_count": 12,
     "metadata": {},
     "output_type": "execute_result"
    }
   ],
   "source": [
    "from sklearn.naive_bayes import GaussianNB\n",
    "gnb = GaussianNB()\n",
    "gnb.get_params()"
   ]
  },
  {
   "cell_type": "code",
   "execution_count": 13,
   "metadata": {},
   "outputs": [],
   "source": [
    "#This is basic list of all the parameters of certain models and their default values."
   ]
  },
  {
   "cell_type": "code",
   "execution_count": 14,
   "metadata": {},
   "outputs": [],
   "source": [
    "#Using GridSearchCV\n",
    "from sklearn.model_selection import GridSearchCV"
   ]
  },
  {
   "cell_type": "code",
   "execution_count": 15,
   "metadata": {},
   "outputs": [],
   "source": [
    "import pandas as pd\n",
    "import numpy as np"
   ]
  },
  {
   "cell_type": "code",
   "execution_count": 19,
   "metadata": {},
   "outputs": [],
   "source": [
    "data = pd.read_csv(r\"C:\\Users\\KIIT\\Desktop\\Machine Learning\\All Data files(excel sheets)\\Customer_DF.csv\")\n",
    "d = pd.DataFrame(data)"
   ]
  },
  {
   "cell_type": "code",
   "execution_count": 18,
   "metadata": {},
   "outputs": [],
   "source": [
    "from sklearn.preprocessing import StandardScaler"
   ]
  },
  {
   "cell_type": "code",
   "execution_count": 20,
   "metadata": {},
   "outputs": [
    {
     "data": {
      "text/html": [
       "<div>\n",
       "<style scoped>\n",
       "    .dataframe tbody tr th:only-of-type {\n",
       "        vertical-align: middle;\n",
       "    }\n",
       "\n",
       "    .dataframe tbody tr th {\n",
       "        vertical-align: top;\n",
       "    }\n",
       "\n",
       "    .dataframe thead th {\n",
       "        text-align: right;\n",
       "    }\n",
       "</style>\n",
       "<table border=\"1\" class=\"dataframe\">\n",
       "  <thead>\n",
       "    <tr style=\"text-align: right;\">\n",
       "      <th></th>\n",
       "      <th>Unnamed: 0</th>\n",
       "      <th>customerEmail</th>\n",
       "      <th>customerPhone</th>\n",
       "      <th>customerDevice</th>\n",
       "      <th>customerIPAddress</th>\n",
       "      <th>customerBillingAddress</th>\n",
       "      <th>No_Transactions</th>\n",
       "      <th>No_Orders</th>\n",
       "      <th>No_Payments</th>\n",
       "      <th>Fraud</th>\n",
       "    </tr>\n",
       "  </thead>\n",
       "  <tbody>\n",
       "    <tr>\n",
       "      <th>0</th>\n",
       "      <td>0</td>\n",
       "      <td>josephhoward@yahoo.com</td>\n",
       "      <td>400-108-5415</td>\n",
       "      <td>yyeiaxpltf82440jnb3v</td>\n",
       "      <td>8.129.104.40</td>\n",
       "      <td>5493 Jones Islands\\nBrownside, CA 51896</td>\n",
       "      <td>2</td>\n",
       "      <td>2</td>\n",
       "      <td>1</td>\n",
       "      <td>False</td>\n",
       "    </tr>\n",
       "    <tr>\n",
       "      <th>1</th>\n",
       "      <td>1</td>\n",
       "      <td>evansjeffery@yahoo.com</td>\n",
       "      <td>1-788-091-7546</td>\n",
       "      <td>r0jpm7xaeqqa3kr6mzum</td>\n",
       "      <td>219.173.211.202</td>\n",
       "      <td>356 Elizabeth Inlet Suite 120\\nPort Joshuabury...</td>\n",
       "      <td>3</td>\n",
       "      <td>3</td>\n",
       "      <td>7</td>\n",
       "      <td>True</td>\n",
       "    </tr>\n",
       "    <tr>\n",
       "      <th>2</th>\n",
       "      <td>2</td>\n",
       "      <td>andersonwilliam@yahoo.com</td>\n",
       "      <td>024.420.0375</td>\n",
       "      <td>4m7h5ipl1shyavt6vv2r</td>\n",
       "      <td>67b7:3db8:67e0:3bea:b9d0:90c1:2b60:b9f0</td>\n",
       "      <td>8478 Sean Ridges Apt. 441\\nDavisberg, PR 72250</td>\n",
       "      <td>5</td>\n",
       "      <td>3</td>\n",
       "      <td>2</td>\n",
       "      <td>False</td>\n",
       "    </tr>\n",
       "    <tr>\n",
       "      <th>3</th>\n",
       "      <td>3</td>\n",
       "      <td>rubenjuarez@yahoo.com</td>\n",
       "      <td>670.664.8168x94985</td>\n",
       "      <td>slovx60t0i558may4ks0</td>\n",
       "      <td>95de:8565:5a66:792c:26e0:6cfb:7d87:11af</td>\n",
       "      <td>7769 Elizabeth Bridge Apt. 343\\nNortonstad, FM...</td>\n",
       "      <td>3</td>\n",
       "      <td>3</td>\n",
       "      <td>1</td>\n",
       "      <td>False</td>\n",
       "    </tr>\n",
       "    <tr>\n",
       "      <th>4</th>\n",
       "      <td>4</td>\n",
       "      <td>uchen@malone.com</td>\n",
       "      <td>1-981-877-0870</td>\n",
       "      <td>j0pd24k5h8dl2fqu0cz4</td>\n",
       "      <td>196.89.235.192</td>\n",
       "      <td>148 Russell Lodge Apt. 445\\nPort Jenniferside,...</td>\n",
       "      <td>7</td>\n",
       "      <td>7</td>\n",
       "      <td>6</td>\n",
       "      <td>True</td>\n",
       "    </tr>\n",
       "  </tbody>\n",
       "</table>\n",
       "</div>"
      ],
      "text/plain": [
       "   Unnamed: 0              customerEmail       customerPhone  \\\n",
       "0           0     josephhoward@yahoo.com        400-108-5415   \n",
       "1           1     evansjeffery@yahoo.com      1-788-091-7546   \n",
       "2           2  andersonwilliam@yahoo.com        024.420.0375   \n",
       "3           3      rubenjuarez@yahoo.com  670.664.8168x94985   \n",
       "4           4           uchen@malone.com      1-981-877-0870   \n",
       "\n",
       "         customerDevice                        customerIPAddress  \\\n",
       "0  yyeiaxpltf82440jnb3v                             8.129.104.40   \n",
       "1  r0jpm7xaeqqa3kr6mzum                          219.173.211.202   \n",
       "2  4m7h5ipl1shyavt6vv2r  67b7:3db8:67e0:3bea:b9d0:90c1:2b60:b9f0   \n",
       "3  slovx60t0i558may4ks0  95de:8565:5a66:792c:26e0:6cfb:7d87:11af   \n",
       "4  j0pd24k5h8dl2fqu0cz4                           196.89.235.192   \n",
       "\n",
       "                              customerBillingAddress  No_Transactions  \\\n",
       "0            5493 Jones Islands\\nBrownside, CA 51896                2   \n",
       "1  356 Elizabeth Inlet Suite 120\\nPort Joshuabury...                3   \n",
       "2     8478 Sean Ridges Apt. 441\\nDavisberg, PR 72250                5   \n",
       "3  7769 Elizabeth Bridge Apt. 343\\nNortonstad, FM...                3   \n",
       "4  148 Russell Lodge Apt. 445\\nPort Jenniferside,...                7   \n",
       "\n",
       "   No_Orders  No_Payments  Fraud  \n",
       "0          2            1  False  \n",
       "1          3            7   True  \n",
       "2          3            2  False  \n",
       "3          3            1  False  \n",
       "4          7            6   True  "
      ]
     },
     "execution_count": 20,
     "metadata": {},
     "output_type": "execute_result"
    }
   ],
   "source": [
    "d.head()\n"
   ]
  },
  {
   "cell_type": "code",
   "execution_count": 21,
   "metadata": {},
   "outputs": [
    {
     "data": {
      "text/html": [
       "<div>\n",
       "<style scoped>\n",
       "    .dataframe tbody tr th:only-of-type {\n",
       "        vertical-align: middle;\n",
       "    }\n",
       "\n",
       "    .dataframe tbody tr th {\n",
       "        vertical-align: top;\n",
       "    }\n",
       "\n",
       "    .dataframe thead th {\n",
       "        text-align: right;\n",
       "    }\n",
       "</style>\n",
       "<table border=\"1\" class=\"dataframe\">\n",
       "  <thead>\n",
       "    <tr style=\"text-align: right;\">\n",
       "      <th></th>\n",
       "      <th>No_Transactions</th>\n",
       "      <th>No_Orders</th>\n",
       "      <th>No_Payments</th>\n",
       "      <th>Fraud</th>\n",
       "    </tr>\n",
       "  </thead>\n",
       "  <tbody>\n",
       "    <tr>\n",
       "      <th>0</th>\n",
       "      <td>2</td>\n",
       "      <td>2</td>\n",
       "      <td>1</td>\n",
       "      <td>False</td>\n",
       "    </tr>\n",
       "    <tr>\n",
       "      <th>1</th>\n",
       "      <td>3</td>\n",
       "      <td>3</td>\n",
       "      <td>7</td>\n",
       "      <td>True</td>\n",
       "    </tr>\n",
       "    <tr>\n",
       "      <th>2</th>\n",
       "      <td>5</td>\n",
       "      <td>3</td>\n",
       "      <td>2</td>\n",
       "      <td>False</td>\n",
       "    </tr>\n",
       "    <tr>\n",
       "      <th>3</th>\n",
       "      <td>3</td>\n",
       "      <td>3</td>\n",
       "      <td>1</td>\n",
       "      <td>False</td>\n",
       "    </tr>\n",
       "    <tr>\n",
       "      <th>4</th>\n",
       "      <td>7</td>\n",
       "      <td>7</td>\n",
       "      <td>6</td>\n",
       "      <td>True</td>\n",
       "    </tr>\n",
       "  </tbody>\n",
       "</table>\n",
       "</div>"
      ],
      "text/plain": [
       "   No_Transactions  No_Orders  No_Payments  Fraud\n",
       "0                2          2            1  False\n",
       "1                3          3            7   True\n",
       "2                5          3            2  False\n",
       "3                3          3            1  False\n",
       "4                7          7            6   True"
      ]
     },
     "execution_count": 21,
     "metadata": {},
     "output_type": "execute_result"
    }
   ],
   "source": [
    "D = d.drop(['Unnamed: 0','customerEmail','customerPhone','customerDevice','customerIPAddress','customerBillingAddress',], axis = 1)\n",
    "D.head()"
   ]
  },
  {
   "cell_type": "code",
   "execution_count": 37,
   "metadata": {},
   "outputs": [
    {
     "data": {
      "text/plain": [
       "array([[-0.6116095 , -0.42774965, -0.4915725 ],\n",
       "       [-0.25359418,  0.07832036,  2.35615783],\n",
       "       [ 0.46243645,  0.07832036, -0.01695078],\n",
       "       [-0.25359418,  0.07832036, -0.4915725 ],\n",
       "       [ 1.17846709,  2.1026004 ,  1.88153611],\n",
       "       [-0.96962482, -0.93381966, -0.01695078],\n",
       "       [-0.6116095 , -0.93381966, -0.01695078],\n",
       "       [ 0.82045177,  1.09046038, -0.01695078],\n",
       "       [ 0.46243645, -0.42774965, -0.4915725 ],\n",
       "       [-1.32764014, -1.43988968, -0.4915725 ],\n",
       "       [ 0.82045177,  1.09046038, -0.4915725 ],\n",
       "       [ 1.17846709,  1.09046038,  0.93229267],\n",
       "       [ 0.10442113,  0.58439037,  0.45767095],\n",
       "       [ 0.10442113, -0.42774965, -0.4915725 ],\n",
       "       [ 0.46243645,  1.09046038, -0.01695078],\n",
       "       [ 0.10442113,  0.58439037, -0.4915725 ],\n",
       "       [ 0.82045177,  0.07832036, -0.01695078],\n",
       "       [ 0.82045177,  0.58439037, -0.01695078],\n",
       "       [-0.6116095 , -0.42774965, -0.4915725 ],\n",
       "       [ 0.46243645,  0.58439037, -0.01695078],\n",
       "       [-0.96962482, -0.93381966, -0.4915725 ],\n",
       "       [ 0.82045177,  0.58439037, -0.01695078],\n",
       "       [ 0.10442113,  0.07832036, -0.4915725 ],\n",
       "       [-1.32764014, -1.43988968, -0.4915725 ],\n",
       "       [-0.96962482, -0.93381966, -0.4915725 ],\n",
       "       [ 1.53648241,  1.09046038, -0.01695078],\n",
       "       [-0.6116095 , -0.93381966, -0.4915725 ],\n",
       "       [ 0.82045177,  1.09046038, -0.4915725 ],\n",
       "       [ 0.46243645,  0.07832036, -0.01695078],\n",
       "       [ 0.46243645,  0.58439037,  1.88153611],\n",
       "       [-0.6116095 , -0.42774965, -0.4915725 ],\n",
       "       [ 0.82045177,  1.09046038, -0.01695078],\n",
       "       [-0.6116095 , -0.93381966, -0.4915725 ],\n",
       "       [ 0.10442113,  0.58439037,  0.45767095],\n",
       "       [-1.32764014, -1.43988968, -0.96619422],\n",
       "       [-0.96962482, -0.93381966, -0.4915725 ],\n",
       "       [-0.96962482, -0.93381966, -0.4915725 ],\n",
       "       [-0.6116095 , -0.93381966, -0.4915725 ],\n",
       "       [-1.32764014, -1.43988968, -0.96619422],\n",
       "       [ 0.46243645,  0.58439037, -0.01695078],\n",
       "       [-1.32764014, -1.43988968, -0.4915725 ],\n",
       "       [-1.32764014, -1.43988968, -0.4915725 ],\n",
       "       [ 1.53648241,  0.07832036, -0.4915725 ],\n",
       "       [-1.32764014, -1.43988968, -0.4915725 ],\n",
       "       [-1.32764014, -1.43988968, -0.96619422],\n",
       "       [-0.25359418, -0.42774965, -0.4915725 ],\n",
       "       [ 1.17846709,  0.07832036, -0.01695078],\n",
       "       [-1.32764014, -1.43988968, -0.96619422],\n",
       "       [ 1.17846709,  1.09046038, -0.01695078],\n",
       "       [-0.25359418,  0.07832036, -0.4915725 ],\n",
       "       [ 1.17846709,  1.59653039,  0.45767095],\n",
       "       [-1.32764014, -1.43988968, -0.4915725 ],\n",
       "       [ 0.46243645,  0.58439037,  0.45767095],\n",
       "       [ 0.46243645, -0.42774965,  0.45767095],\n",
       "       [-1.32764014, -1.43988968, -0.96619422],\n",
       "       [-0.96962482, -0.93381966, -0.4915725 ],\n",
       "       [ 1.53648241,  1.09046038, -0.01695078],\n",
       "       [-0.96962482, -0.93381966, -0.4915725 ],\n",
       "       [-0.25359418, -0.42774965, -0.4915725 ],\n",
       "       [ 0.82045177,  0.58439037, -0.4915725 ],\n",
       "       [ 0.10442113,  0.58439037,  1.88153611],\n",
       "       [ 0.10442113,  0.58439037, -0.01695078],\n",
       "       [ 0.82045177,  1.09046038, -0.01695078],\n",
       "       [ 1.17846709,  0.58439037, -0.4915725 ],\n",
       "       [ 0.46243645,  0.07832036, -0.01695078],\n",
       "       [ 1.17846709,  1.09046038, -0.4915725 ],\n",
       "       [-0.96962482, -0.93381966,  0.45767095],\n",
       "       [-1.32764014, -1.43988968, -0.4915725 ],\n",
       "       [-0.25359418,  0.07832036,  6.15313161],\n",
       "       [ 0.82045177,  0.58439037, -0.4915725 ],\n",
       "       [-1.32764014, -1.43988968, -0.96619422],\n",
       "       [-0.25359418,  0.07832036, -0.01695078],\n",
       "       [ 1.17846709,  1.09046038,  0.45767095],\n",
       "       [-0.6116095 , -0.42774965, -0.4915725 ],\n",
       "       [ 0.46243645,  0.58439037, -0.01695078],\n",
       "       [ 0.46243645,  0.07832036, -0.4915725 ],\n",
       "       [-1.32764014, -1.43988968, -0.4915725 ],\n",
       "       [-0.25359418,  0.07832036, -0.4915725 ],\n",
       "       [ 1.17846709,  1.59653039, -0.01695078],\n",
       "       [-0.6116095 , -0.42774965, -0.4915725 ],\n",
       "       [ 0.10442113,  0.58439037,  5.67850989],\n",
       "       [ 0.46243645,  0.58439037,  0.45767095],\n",
       "       [-1.32764014, -1.43988968, -0.01695078],\n",
       "       [-0.6116095 , -0.42774965, -0.4915725 ],\n",
       "       [ 2.61052837,  2.60867042, -0.4915725 ],\n",
       "       [ 0.46243645,  1.09046038,  0.93229267],\n",
       "       [-1.32764014, -1.43988968, -0.4915725 ],\n",
       "       [ 0.10442113,  0.07832036, -0.01695078],\n",
       "       [ 0.46243645,  0.58439037, -0.01695078],\n",
       "       [ 0.10442113,  0.58439037, -0.4915725 ],\n",
       "       [ 0.82045177,  0.58439037, -0.4915725 ],\n",
       "       [-0.6116095 , -0.42774965, -0.4915725 ],\n",
       "       [ 0.82045177,  1.09046038, -0.4915725 ],\n",
       "       [-0.6116095 , -0.42774965,  5.20388817],\n",
       "       [-0.6116095 , -0.42774965, -0.4915725 ],\n",
       "       [-0.6116095 , -0.42774965, -0.4915725 ],\n",
       "       [-1.32764014, -1.43988968,  0.45767095],\n",
       "       [ 2.25251305,  2.60867042, -0.4915725 ],\n",
       "       [ 2.25251305,  2.60867042,  1.40691439],\n",
       "       [-0.25359418,  0.07832036,  0.45767095],\n",
       "       [ 0.82045177,  0.58439037,  0.45767095],\n",
       "       [ 0.10442113,  0.07832036, -0.01695078],\n",
       "       [-0.96962482, -0.93381966,  0.93229267],\n",
       "       [ 3.32655901,  2.60867042, -0.4915725 ],\n",
       "       [ 0.10442113,  0.58439037, -0.4915725 ],\n",
       "       [-0.96962482, -0.93381966, -0.01695078],\n",
       "       [ 0.46243645,  0.58439037,  0.45767095],\n",
       "       [-0.96962482, -0.93381966, -0.4915725 ],\n",
       "       [-1.32764014, -1.43988968, -0.4915725 ],\n",
       "       [-0.96962482, -0.93381966, -0.4915725 ],\n",
       "       [ 0.46243645,  0.58439037, -0.01695078],\n",
       "       [-0.25359418,  0.07832036, -0.4915725 ],\n",
       "       [-0.6116095 , -0.42774965,  0.93229267],\n",
       "       [ 0.46243645,  0.58439037,  0.45767095],\n",
       "       [-0.96962482, -0.93381966, -0.4915725 ],\n",
       "       [ 0.10442113,  0.07832036,  0.45767095],\n",
       "       [-1.32764014, -1.43988968, -0.4915725 ],\n",
       "       [-0.25359418,  0.07832036, -0.4915725 ],\n",
       "       [-0.6116095 , -0.93381966,  0.45767095],\n",
       "       [ 0.82045177,  1.59653039, -0.4915725 ],\n",
       "       [ 0.46243645,  1.09046038,  1.40691439],\n",
       "       [ 1.53648241,  1.59653039,  1.88153611],\n",
       "       [-1.32764014, -1.43988968, -0.4915725 ],\n",
       "       [-0.6116095 , -0.42774965, -0.4915725 ],\n",
       "       [-0.25359418,  0.07832036, -0.01695078],\n",
       "       [-1.32764014, -1.43988968, -0.96619422],\n",
       "       [ 0.10442113,  0.58439037, -0.4915725 ],\n",
       "       [-1.32764014, -1.43988968, -0.4915725 ],\n",
       "       [ 0.82045177,  0.58439037, -0.4915725 ],\n",
       "       [-0.96962482, -0.93381966,  0.93229267],\n",
       "       [ 0.46243645,  0.58439037, -0.01695078],\n",
       "       [-0.96962482, -0.93381966, -0.4915725 ],\n",
       "       [ 0.10442113, -0.93381966, -0.01695078],\n",
       "       [-1.32764014, -1.43988968, -0.96619422],\n",
       "       [ 0.46243645,  0.58439037, -0.4915725 ],\n",
       "       [ 0.10442113,  0.58439037,  0.45767095],\n",
       "       [-0.25359418,  0.07832036, -0.4915725 ],\n",
       "       [-1.32764014, -1.43988968, -0.96619422],\n",
       "       [ 0.10442113,  0.58439037, -0.01695078],\n",
       "       [-1.32764014, -1.43988968, -0.96619422],\n",
       "       [ 0.46243645,  0.58439037, -0.01695078],\n",
       "       [ 0.46243645,  1.09046038, -0.01695078],\n",
       "       [ 0.82045177,  1.09046038,  0.45767095],\n",
       "       [ 4.04258965,  0.07832036, -0.4915725 ],\n",
       "       [ 1.17846709,  1.59653039,  1.40691439],\n",
       "       [-0.96962482, -0.93381966, -0.4915725 ],\n",
       "       [ 0.46243645,  0.58439037, -0.01695078],\n",
       "       [ 0.10442113, -0.42774965, -0.4915725 ],\n",
       "       [ 0.46243645,  1.09046038,  0.93229267],\n",
       "       [-1.32764014, -1.43988968, -0.96619422],\n",
       "       [-1.32764014, -1.43988968, -0.96619422],\n",
       "       [ 2.25251305,  1.09046038,  0.93229267],\n",
       "       [ 0.46243645,  0.07832036, -0.01695078],\n",
       "       [-0.25359418,  0.07832036, -0.01695078],\n",
       "       [ 0.46243645,  0.07832036, -0.4915725 ],\n",
       "       [ 0.82045177,  1.09046038,  0.45767095],\n",
       "       [ 0.82045177,  1.09046038, -0.4915725 ],\n",
       "       [-0.96962482, -0.93381966, -0.4915725 ],\n",
       "       [ 0.46243645,  0.58439037, -0.01695078],\n",
       "       [-0.6116095 , -0.93381966, -0.4915725 ],\n",
       "       [-0.96962482, -0.93381966, -0.4915725 ],\n",
       "       [ 0.46243645,  0.58439037,  0.93229267],\n",
       "       [-0.25359418, -0.42774965, -0.4915725 ],\n",
       "       [-0.25359418,  0.07832036, -0.4915725 ],\n",
       "       [ 0.82045177,  1.09046038,  0.45767095],\n",
       "       [ 0.10442113,  0.58439037, -0.01695078],\n",
       "       [ 1.53648241,  1.59653039,  1.88153611],\n",
       "       [ 1.17846709,  1.09046038,  0.93229267]])"
      ]
     },
     "execution_count": 37,
     "metadata": {},
     "output_type": "execute_result"
    }
   ],
   "source": [
    "y = D['Fraud']\n",
    "D1 = D.drop('Fraud', axis = 1)\n",
    "sc = StandardScaler()\n",
    "sc.fit_transform(D1)"
   ]
  },
  {
   "cell_type": "code",
   "execution_count": 28,
   "metadata": {},
   "outputs": [],
   "source": [
    "params = [{'C':[0.1,1,10,100], 'random_state':[0,1], 'penalty':['l1','l2'], 'tol':[0.0001,0.001]}]\n",
    "clf = GridSearchCV(lg, params, cv = 10, scoring = 'accuracy')"
   ]
  },
  {
   "cell_type": "code",
   "execution_count": 41,
   "metadata": {},
   "outputs": [],
   "source": [
    "from sklearn.model_selection import train_test_split\n",
    "X, Xt, Y, Yt = train_test_split(D, y, test_size = 0.2, random_state = 1)"
   ]
  },
  {
   "cell_type": "code",
   "execution_count": 42,
   "metadata": {},
   "outputs": [
    {
     "name": "stderr",
     "output_type": "stream",
     "text": [
      "C:\\ProgramData\\Anaconda3\\lib\\site-packages\\sklearn\\model_selection\\_validation.py:552: FitFailedWarning: Estimator fit failed. The score on this train-test partition for these parameters will be set to nan. Details: \n",
      "Traceback (most recent call last):\n",
      "  File \"C:\\ProgramData\\Anaconda3\\lib\\site-packages\\sklearn\\model_selection\\_validation.py\", line 531, in _fit_and_score\n",
      "    estimator.fit(X_train, y_train, **fit_params)\n",
      "  File \"C:\\ProgramData\\Anaconda3\\lib\\site-packages\\sklearn\\linear_model\\_logistic.py\", line 1302, in fit\n",
      "    solver = _check_solver(self.solver, self.penalty, self.dual)\n",
      "  File \"C:\\ProgramData\\Anaconda3\\lib\\site-packages\\sklearn\\linear_model\\_logistic.py\", line 443, in _check_solver\n",
      "    \"got %s penalty.\" % (solver, penalty))\n",
      "ValueError: Solver lbfgs supports only 'l2' or 'none' penalties, got l1 penalty.\n",
      "\n",
      "  FitFailedWarning)\n",
      "C:\\ProgramData\\Anaconda3\\lib\\site-packages\\sklearn\\model_selection\\_validation.py:552: FitFailedWarning: Estimator fit failed. The score on this train-test partition for these parameters will be set to nan. Details: \n",
      "Traceback (most recent call last):\n",
      "  File \"C:\\ProgramData\\Anaconda3\\lib\\site-packages\\sklearn\\model_selection\\_validation.py\", line 531, in _fit_and_score\n",
      "    estimator.fit(X_train, y_train, **fit_params)\n",
      "  File \"C:\\ProgramData\\Anaconda3\\lib\\site-packages\\sklearn\\linear_model\\_logistic.py\", line 1302, in fit\n",
      "    solver = _check_solver(self.solver, self.penalty, self.dual)\n",
      "  File \"C:\\ProgramData\\Anaconda3\\lib\\site-packages\\sklearn\\linear_model\\_logistic.py\", line 443, in _check_solver\n",
      "    \"got %s penalty.\" % (solver, penalty))\n",
      "ValueError: Solver lbfgs supports only 'l2' or 'none' penalties, got l1 penalty.\n",
      "\n",
      "  FitFailedWarning)\n",
      "C:\\ProgramData\\Anaconda3\\lib\\site-packages\\sklearn\\model_selection\\_validation.py:552: FitFailedWarning: Estimator fit failed. The score on this train-test partition for these parameters will be set to nan. Details: \n",
      "Traceback (most recent call last):\n",
      "  File \"C:\\ProgramData\\Anaconda3\\lib\\site-packages\\sklearn\\model_selection\\_validation.py\", line 531, in _fit_and_score\n",
      "    estimator.fit(X_train, y_train, **fit_params)\n",
      "  File \"C:\\ProgramData\\Anaconda3\\lib\\site-packages\\sklearn\\linear_model\\_logistic.py\", line 1302, in fit\n",
      "    solver = _check_solver(self.solver, self.penalty, self.dual)\n",
      "  File \"C:\\ProgramData\\Anaconda3\\lib\\site-packages\\sklearn\\linear_model\\_logistic.py\", line 443, in _check_solver\n",
      "    \"got %s penalty.\" % (solver, penalty))\n",
      "ValueError: Solver lbfgs supports only 'l2' or 'none' penalties, got l1 penalty.\n",
      "\n",
      "  FitFailedWarning)\n",
      "C:\\ProgramData\\Anaconda3\\lib\\site-packages\\sklearn\\model_selection\\_validation.py:552: FitFailedWarning: Estimator fit failed. The score on this train-test partition for these parameters will be set to nan. Details: \n",
      "Traceback (most recent call last):\n",
      "  File \"C:\\ProgramData\\Anaconda3\\lib\\site-packages\\sklearn\\model_selection\\_validation.py\", line 531, in _fit_and_score\n",
      "    estimator.fit(X_train, y_train, **fit_params)\n",
      "  File \"C:\\ProgramData\\Anaconda3\\lib\\site-packages\\sklearn\\linear_model\\_logistic.py\", line 1302, in fit\n",
      "    solver = _check_solver(self.solver, self.penalty, self.dual)\n",
      "  File \"C:\\ProgramData\\Anaconda3\\lib\\site-packages\\sklearn\\linear_model\\_logistic.py\", line 443, in _check_solver\n",
      "    \"got %s penalty.\" % (solver, penalty))\n",
      "ValueError: Solver lbfgs supports only 'l2' or 'none' penalties, got l1 penalty.\n",
      "\n",
      "  FitFailedWarning)\n"
     ]
    },
    {
     "data": {
      "text/plain": [
       "GridSearchCV(cv=10, estimator=LogisticRegression(),\n",
       "             param_grid=[{'C': [0.1, 1, 10, 100], 'penalty': ['l1', 'l2'],\n",
       "                          'random_state': [0, 1], 'tol': [0.0001, 0.001]}],\n",
       "             scoring='accuracy')"
      ]
     },
     "execution_count": 42,
     "metadata": {},
     "output_type": "execute_result"
    }
   ],
   "source": [
    "clf.fit(X,Y)"
   ]
  },
  {
   "cell_type": "code",
   "execution_count": 43,
   "metadata": {},
   "outputs": [
    {
     "name": "stdout",
     "output_type": "stream",
     "text": [
      "{'C': 1, 'penalty': 'l2', 'random_state': 0, 'tol': 0.0001}\n"
     ]
    }
   ],
   "source": [
    "print(clf.best_params_)"
   ]
  },
  {
   "cell_type": "code",
   "execution_count": 44,
   "metadata": {},
   "outputs": [
    {
     "name": "stdout",
     "output_type": "stream",
     "text": [
      "1.0\n"
     ]
    }
   ],
   "source": [
    "print(clf.best_score_)"
   ]
  },
  {
   "cell_type": "code",
   "execution_count": 45,
   "metadata": {},
   "outputs": [],
   "source": [
    "yy = clf.predict(Xt)"
   ]
  },
  {
   "cell_type": "code",
   "execution_count": 48,
   "metadata": {},
   "outputs": [],
   "source": [
    "#the predict method classifies using the best parameters set we found using best_params_."
   ]
  },
  {
   "cell_type": "code",
   "execution_count": 51,
   "metadata": {},
   "outputs": [
    {
     "name": "stdout",
     "output_type": "stream",
     "text": [
      "              precision    recall  f1-score   support\n",
      "\n",
      "       False       1.00      1.00      1.00        21\n",
      "        True       1.00      1.00      1.00        13\n",
      "\n",
      "    accuracy                           1.00        34\n",
      "   macro avg       1.00      1.00      1.00        34\n",
      "weighted avg       1.00      1.00      1.00        34\n",
      "\n"
     ]
    }
   ],
   "source": [
    "from sklearn.metrics import classification_report\n",
    "y_true, y_pred = Yt, yy\n",
    "print(classification_report(y_true, y_pred))"
   ]
  },
  {
   "cell_type": "code",
   "execution_count": 52,
   "metadata": {},
   "outputs": [
    {
     "name": "stdout",
     "output_type": "stream",
     "text": [
      "LogisticRegression(C=1, random_state=0)\n"
     ]
    }
   ],
   "source": [
    "print(clf.best_estimator_)"
   ]
  },
  {
   "cell_type": "code",
   "execution_count": 55,
   "metadata": {},
   "outputs": [],
   "source": [
    "#The above only shows two parameters since they are not default values while the others are working best in default values."
   ]
  },
  {
   "cell_type": "code",
   "execution_count": null,
   "metadata": {},
   "outputs": [],
   "source": []
  }
 ],
 "metadata": {
  "kernelspec": {
   "display_name": "Python 3",
   "language": "python",
   "name": "python3"
  },
  "language_info": {
   "codemirror_mode": {
    "name": "ipython",
    "version": 3
   },
   "file_extension": ".py",
   "mimetype": "text/x-python",
   "name": "python",
   "nbconvert_exporter": "python",
   "pygments_lexer": "ipython3",
   "version": "3.7.6"
  }
 },
 "nbformat": 4,
 "nbformat_minor": 4
}
