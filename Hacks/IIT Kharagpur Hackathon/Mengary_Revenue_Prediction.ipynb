{
 "cells": [
  {
   "cell_type": "code",
   "execution_count": 366,
   "metadata": {
    "id": "h_COerHYcmI6"
   },
   "outputs": [],
   "source": [
    "# Importing Essential Libraries And Functions\n",
    "import pandas as pd\n",
    "import numpy as np\n",
    "from sklearn.model_selection import train_test_split\n",
    "from sklearn.feature_selection import VarianceThreshold\n",
    "import seaborn as sns\n",
    "import matplotlib.pyplot as plt\n",
    "from sklearn.preprocessing import LabelEncoder\n",
    "\n",
    "from sklearn.linear_model import LinearRegression\n",
    "from sklearn.svm import SVR\n",
    "from sklearn.tree import DecisionTreeRegressor\n",
    "from sklearn.ensemble import RandomForestRegressor,RandomForestClassifier\n",
    "import xgboost as xgb\n",
    "from sklearn.metrics import mean_squared_error\n",
    "from sklearn.metrics import r2_score"
   ]
  },
  {
   "cell_type": "code",
   "execution_count": 367,
   "metadata": {
    "id": "aKwlIhG9dHr4"
   },
   "outputs": [],
   "source": [
    "df=pd.read_csv(\"/content/train.csv\")"
   ]
  },
  {
   "cell_type": "code",
   "execution_count": 368,
   "metadata": {
    "colab": {
     "base_uri": "https://localhost:8080/",
     "height": 204
    },
    "id": "zC7yjUQSdfra",
    "outputId": "746d605b-cbec-4040-d692-d390d40cfd3c"
   },
   "outputs": [
    {
     "data": {
      "text/html": [
       "<div>\n",
       "<style scoped>\n",
       "    .dataframe tbody tr th:only-of-type {\n",
       "        vertical-align: middle;\n",
       "    }\n",
       "\n",
       "    .dataframe tbody tr th {\n",
       "        vertical-align: top;\n",
       "    }\n",
       "\n",
       "    .dataframe thead th {\n",
       "        text-align: right;\n",
       "    }\n",
       "</style>\n",
       "<table border=\"1\" class=\"dataframe\">\n",
       "  <thead>\n",
       "    <tr style=\"text-align: right;\">\n",
       "      <th></th>\n",
       "      <th>id</th>\n",
       "      <th>departure city</th>\n",
       "      <th>discount</th>\n",
       "      <th>price</th>\n",
       "      <th>no of items</th>\n",
       "      <th>location</th>\n",
       "      <th>class</th>\n",
       "      <th>segment</th>\n",
       "      <th>sub-class</th>\n",
       "      <th>delivery type</th>\n",
       "      <th>RID</th>\n",
       "      <th>profit</th>\n",
       "      <th>delivery date</th>\n",
       "      <th>address code</th>\n",
       "      <th>departure state</th>\n",
       "      <th>placement date</th>\n",
       "    </tr>\n",
       "  </thead>\n",
       "  <tbody>\n",
       "    <tr>\n",
       "      <th>0</th>\n",
       "      <td>1</td>\n",
       "      <td>Houston</td>\n",
       "      <td>0.2</td>\n",
       "      <td>16.448</td>\n",
       "      <td>2</td>\n",
       "      <td>Central</td>\n",
       "      <td>kariox</td>\n",
       "      <td>Consumer</td>\n",
       "      <td>phone</td>\n",
       "      <td>Standard Class</td>\n",
       "      <td>7981</td>\n",
       "      <td>5.5512</td>\n",
       "      <td>2018-01-01</td>\n",
       "      <td>77095</td>\n",
       "      <td>Texas</td>\n",
       "      <td>2018-01-01</td>\n",
       "    </tr>\n",
       "    <tr>\n",
       "      <th>1</th>\n",
       "      <td>2</td>\n",
       "      <td>Westland</td>\n",
       "      <td>0.0</td>\n",
       "      <td>29.700</td>\n",
       "      <td>5</td>\n",
       "      <td>Central</td>\n",
       "      <td>kariox</td>\n",
       "      <td>Consumer</td>\n",
       "      <td>headset</td>\n",
       "      <td>Standard Class</td>\n",
       "      <td>6334</td>\n",
       "      <td>13.3650</td>\n",
       "      <td>2018-01-01</td>\n",
       "      <td>48185</td>\n",
       "      <td>Michigan</td>\n",
       "      <td>2018-01-01</td>\n",
       "    </tr>\n",
       "    <tr>\n",
       "      <th>2</th>\n",
       "      <td>3</td>\n",
       "      <td>Westland</td>\n",
       "      <td>0.0</td>\n",
       "      <td>14.730</td>\n",
       "      <td>3</td>\n",
       "      <td>Central</td>\n",
       "      <td>qexty</td>\n",
       "      <td>Consumer</td>\n",
       "      <td>shorts</td>\n",
       "      <td>Standard Class</td>\n",
       "      <td>6333</td>\n",
       "      <td>4.8609</td>\n",
       "      <td>2018-01-01</td>\n",
       "      <td>48185</td>\n",
       "      <td>Michigan</td>\n",
       "      <td>2018-01-01</td>\n",
       "    </tr>\n",
       "    <tr>\n",
       "      <th>3</th>\n",
       "      <td>4</td>\n",
       "      <td>Westland</td>\n",
       "      <td>0.0</td>\n",
       "      <td>43.920</td>\n",
       "      <td>3</td>\n",
       "      <td>Central</td>\n",
       "      <td>kariox</td>\n",
       "      <td>Consumer</td>\n",
       "      <td>television</td>\n",
       "      <td>Standard Class</td>\n",
       "      <td>6332</td>\n",
       "      <td>12.7368</td>\n",
       "      <td>2018-01-01</td>\n",
       "      <td>48185</td>\n",
       "      <td>Michigan</td>\n",
       "      <td>2018-01-01</td>\n",
       "    </tr>\n",
       "    <tr>\n",
       "      <th>4</th>\n",
       "      <td>5</td>\n",
       "      <td>Westland</td>\n",
       "      <td>0.0</td>\n",
       "      <td>66.580</td>\n",
       "      <td>2</td>\n",
       "      <td>Central</td>\n",
       "      <td>kariox</td>\n",
       "      <td>Consumer</td>\n",
       "      <td>laptop</td>\n",
       "      <td>Standard Class</td>\n",
       "      <td>6331</td>\n",
       "      <td>15.9792</td>\n",
       "      <td>2018-01-01</td>\n",
       "      <td>48185</td>\n",
       "      <td>Michigan</td>\n",
       "      <td>2018-01-01</td>\n",
       "    </tr>\n",
       "  </tbody>\n",
       "</table>\n",
       "</div>"
      ],
      "text/plain": [
       "   id departure city  discount  ...  address code  departure state placement date\n",
       "0   1        Houston       0.2  ...         77095            Texas     2018-01-01\n",
       "1   2       Westland       0.0  ...         48185         Michigan     2018-01-01\n",
       "2   3       Westland       0.0  ...         48185         Michigan     2018-01-01\n",
       "3   4       Westland       0.0  ...         48185         Michigan     2018-01-01\n",
       "4   5       Westland       0.0  ...         48185         Michigan     2018-01-01\n",
       "\n",
       "[5 rows x 16 columns]"
      ]
     },
     "execution_count": 368,
     "metadata": {
      "tags": []
     },
     "output_type": "execute_result"
    }
   ],
   "source": [
    "df.head()"
   ]
  },
  {
   "cell_type": "code",
   "execution_count": 369,
   "metadata": {
    "id": "zGjhr9_ydkBK"
   },
   "outputs": [],
   "source": [
    "df.set_index(\"id\",inplace=True)"
   ]
  },
  {
   "cell_type": "code",
   "execution_count": 370,
   "metadata": {
    "colab": {
     "base_uri": "https://localhost:8080/",
     "height": 235
    },
    "id": "7xeM2jasd7mm",
    "outputId": "62268dd5-de6d-44f9-cb92-62664e59ac7f"
   },
   "outputs": [
    {
     "data": {
      "text/html": [
       "<div>\n",
       "<style scoped>\n",
       "    .dataframe tbody tr th:only-of-type {\n",
       "        vertical-align: middle;\n",
       "    }\n",
       "\n",
       "    .dataframe tbody tr th {\n",
       "        vertical-align: top;\n",
       "    }\n",
       "\n",
       "    .dataframe thead th {\n",
       "        text-align: right;\n",
       "    }\n",
       "</style>\n",
       "<table border=\"1\" class=\"dataframe\">\n",
       "  <thead>\n",
       "    <tr style=\"text-align: right;\">\n",
       "      <th></th>\n",
       "      <th>departure city</th>\n",
       "      <th>discount</th>\n",
       "      <th>price</th>\n",
       "      <th>no of items</th>\n",
       "      <th>location</th>\n",
       "      <th>class</th>\n",
       "      <th>segment</th>\n",
       "      <th>sub-class</th>\n",
       "      <th>delivery type</th>\n",
       "      <th>RID</th>\n",
       "      <th>profit</th>\n",
       "      <th>delivery date</th>\n",
       "      <th>address code</th>\n",
       "      <th>departure state</th>\n",
       "      <th>placement date</th>\n",
       "    </tr>\n",
       "    <tr>\n",
       "      <th>id</th>\n",
       "      <th></th>\n",
       "      <th></th>\n",
       "      <th></th>\n",
       "      <th></th>\n",
       "      <th></th>\n",
       "      <th></th>\n",
       "      <th></th>\n",
       "      <th></th>\n",
       "      <th></th>\n",
       "      <th></th>\n",
       "      <th></th>\n",
       "      <th></th>\n",
       "      <th></th>\n",
       "      <th></th>\n",
       "      <th></th>\n",
       "    </tr>\n",
       "  </thead>\n",
       "  <tbody>\n",
       "    <tr>\n",
       "      <th>1</th>\n",
       "      <td>Houston</td>\n",
       "      <td>0.2</td>\n",
       "      <td>16.448</td>\n",
       "      <td>2</td>\n",
       "      <td>Central</td>\n",
       "      <td>kariox</td>\n",
       "      <td>Consumer</td>\n",
       "      <td>phone</td>\n",
       "      <td>Standard Class</td>\n",
       "      <td>7981</td>\n",
       "      <td>5.5512</td>\n",
       "      <td>2018-01-01</td>\n",
       "      <td>77095</td>\n",
       "      <td>Texas</td>\n",
       "      <td>2018-01-01</td>\n",
       "    </tr>\n",
       "    <tr>\n",
       "      <th>2</th>\n",
       "      <td>Westland</td>\n",
       "      <td>0.0</td>\n",
       "      <td>29.700</td>\n",
       "      <td>5</td>\n",
       "      <td>Central</td>\n",
       "      <td>kariox</td>\n",
       "      <td>Consumer</td>\n",
       "      <td>headset</td>\n",
       "      <td>Standard Class</td>\n",
       "      <td>6334</td>\n",
       "      <td>13.3650</td>\n",
       "      <td>2018-01-01</td>\n",
       "      <td>48185</td>\n",
       "      <td>Michigan</td>\n",
       "      <td>2018-01-01</td>\n",
       "    </tr>\n",
       "    <tr>\n",
       "      <th>3</th>\n",
       "      <td>Westland</td>\n",
       "      <td>0.0</td>\n",
       "      <td>14.730</td>\n",
       "      <td>3</td>\n",
       "      <td>Central</td>\n",
       "      <td>qexty</td>\n",
       "      <td>Consumer</td>\n",
       "      <td>shorts</td>\n",
       "      <td>Standard Class</td>\n",
       "      <td>6333</td>\n",
       "      <td>4.8609</td>\n",
       "      <td>2018-01-01</td>\n",
       "      <td>48185</td>\n",
       "      <td>Michigan</td>\n",
       "      <td>2018-01-01</td>\n",
       "    </tr>\n",
       "    <tr>\n",
       "      <th>4</th>\n",
       "      <td>Westland</td>\n",
       "      <td>0.0</td>\n",
       "      <td>43.920</td>\n",
       "      <td>3</td>\n",
       "      <td>Central</td>\n",
       "      <td>kariox</td>\n",
       "      <td>Consumer</td>\n",
       "      <td>television</td>\n",
       "      <td>Standard Class</td>\n",
       "      <td>6332</td>\n",
       "      <td>12.7368</td>\n",
       "      <td>2018-01-01</td>\n",
       "      <td>48185</td>\n",
       "      <td>Michigan</td>\n",
       "      <td>2018-01-01</td>\n",
       "    </tr>\n",
       "    <tr>\n",
       "      <th>5</th>\n",
       "      <td>Westland</td>\n",
       "      <td>0.0</td>\n",
       "      <td>66.580</td>\n",
       "      <td>2</td>\n",
       "      <td>Central</td>\n",
       "      <td>kariox</td>\n",
       "      <td>Consumer</td>\n",
       "      <td>laptop</td>\n",
       "      <td>Standard Class</td>\n",
       "      <td>6331</td>\n",
       "      <td>15.9792</td>\n",
       "      <td>2018-01-01</td>\n",
       "      <td>48185</td>\n",
       "      <td>Michigan</td>\n",
       "      <td>2018-01-01</td>\n",
       "    </tr>\n",
       "  </tbody>\n",
       "</table>\n",
       "</div>"
      ],
      "text/plain": [
       "   departure city  discount  ...  departure state  placement date\n",
       "id                           ...                                 \n",
       "1         Houston       0.2  ...            Texas      2018-01-01\n",
       "2        Westland       0.0  ...         Michigan      2018-01-01\n",
       "3        Westland       0.0  ...         Michigan      2018-01-01\n",
       "4        Westland       0.0  ...         Michigan      2018-01-01\n",
       "5        Westland       0.0  ...         Michigan      2018-01-01\n",
       "\n",
       "[5 rows x 15 columns]"
      ]
     },
     "execution_count": 370,
     "metadata": {
      "tags": []
     },
     "output_type": "execute_result"
    }
   ],
   "source": [
    "df.head()"
   ]
  },
  {
   "cell_type": "code",
   "execution_count": 371,
   "metadata": {
    "colab": {
     "base_uri": "https://localhost:8080/"
    },
    "id": "7qHI48NDd8c9",
    "outputId": "e165db01-427d-4139-cdca-ce35365ac5b9"
   },
   "outputs": [
    {
     "name": "stdout",
     "output_type": "stream",
     "text": [
      "<class 'pandas.core.frame.DataFrame'>\n",
      "Int64Index: 6700 entries, 1 to 6700\n",
      "Data columns (total 15 columns):\n",
      " #   Column           Non-Null Count  Dtype  \n",
      "---  ------           --------------  -----  \n",
      " 0   departure city   6700 non-null   object \n",
      " 1   discount         6700 non-null   float64\n",
      " 2   price            6700 non-null   float64\n",
      " 3   no of items      6700 non-null   int64  \n",
      " 4   location         6700 non-null   object \n",
      " 5   class            6700 non-null   object \n",
      " 6   segment          6700 non-null   object \n",
      " 7   sub-class        6700 non-null   object \n",
      " 8   delivery type    6699 non-null   object \n",
      " 9   RID              6700 non-null   int64  \n",
      " 10  profit           6700 non-null   float64\n",
      " 11  delivery date    6700 non-null   object \n",
      " 12  address code     6700 non-null   int64  \n",
      " 13  departure state  6700 non-null   object \n",
      " 14  placement date   6700 non-null   object \n",
      "dtypes: float64(3), int64(3), object(9)\n",
      "memory usage: 837.5+ KB\n"
     ]
    }
   ],
   "source": [
    "df.info()"
   ]
  },
  {
   "cell_type": "code",
   "execution_count": 372,
   "metadata": {
    "colab": {
     "base_uri": "https://localhost:8080/"
    },
    "id": "H0BYugOxeCuw",
    "outputId": "393461bf-1a2c-4c7a-a85f-73798c5353b4"
   },
   "outputs": [
    {
     "data": {
      "text/plain": [
       "departure city     0\n",
       "discount           0\n",
       "price              0\n",
       "no of items        0\n",
       "location           0\n",
       "class              0\n",
       "segment            0\n",
       "sub-class          0\n",
       "delivery type      1\n",
       "RID                0\n",
       "profit             0\n",
       "delivery date      0\n",
       "address code       0\n",
       "departure state    0\n",
       "placement date     0\n",
       "dtype: int64"
      ]
     },
     "execution_count": 372,
     "metadata": {
      "tags": []
     },
     "output_type": "execute_result"
    }
   ],
   "source": [
    "df.isna().sum()"
   ]
  },
  {
   "cell_type": "code",
   "execution_count": 373,
   "metadata": {
    "colab": {
     "base_uri": "https://localhost:8080/",
     "height": 235
    },
    "id": "KHeiR5o3ekHO",
    "outputId": "4afcac13-4940-4b72-ad60-d728ce506b62"
   },
   "outputs": [
    {
     "data": {
      "text/html": [
       "<div>\n",
       "<style scoped>\n",
       "    .dataframe tbody tr th:only-of-type {\n",
       "        vertical-align: middle;\n",
       "    }\n",
       "\n",
       "    .dataframe tbody tr th {\n",
       "        vertical-align: top;\n",
       "    }\n",
       "\n",
       "    .dataframe thead th {\n",
       "        text-align: right;\n",
       "    }\n",
       "</style>\n",
       "<table border=\"1\" class=\"dataframe\">\n",
       "  <thead>\n",
       "    <tr style=\"text-align: right;\">\n",
       "      <th></th>\n",
       "      <th>departure city</th>\n",
       "      <th>discount</th>\n",
       "      <th>price</th>\n",
       "      <th>no of items</th>\n",
       "      <th>location</th>\n",
       "      <th>class</th>\n",
       "      <th>segment</th>\n",
       "      <th>sub-class</th>\n",
       "      <th>delivery type</th>\n",
       "      <th>RID</th>\n",
       "      <th>profit</th>\n",
       "      <th>delivery date</th>\n",
       "      <th>address code</th>\n",
       "      <th>departure state</th>\n",
       "      <th>placement date</th>\n",
       "    </tr>\n",
       "    <tr>\n",
       "      <th>id</th>\n",
       "      <th></th>\n",
       "      <th></th>\n",
       "      <th></th>\n",
       "      <th></th>\n",
       "      <th></th>\n",
       "      <th></th>\n",
       "      <th></th>\n",
       "      <th></th>\n",
       "      <th></th>\n",
       "      <th></th>\n",
       "      <th></th>\n",
       "      <th></th>\n",
       "      <th></th>\n",
       "      <th></th>\n",
       "      <th></th>\n",
       "    </tr>\n",
       "  </thead>\n",
       "  <tbody>\n",
       "    <tr>\n",
       "      <th>1</th>\n",
       "      <td>Houston</td>\n",
       "      <td>0.2</td>\n",
       "      <td>16.448</td>\n",
       "      <td>2</td>\n",
       "      <td>Central</td>\n",
       "      <td>kariox</td>\n",
       "      <td>Consumer</td>\n",
       "      <td>phone</td>\n",
       "      <td>Standard Class</td>\n",
       "      <td>7981</td>\n",
       "      <td>5.5512</td>\n",
       "      <td>2018-01-01</td>\n",
       "      <td>77095</td>\n",
       "      <td>Texas</td>\n",
       "      <td>2018-01-01</td>\n",
       "    </tr>\n",
       "    <tr>\n",
       "      <th>2</th>\n",
       "      <td>Westland</td>\n",
       "      <td>0.0</td>\n",
       "      <td>29.700</td>\n",
       "      <td>5</td>\n",
       "      <td>Central</td>\n",
       "      <td>kariox</td>\n",
       "      <td>Consumer</td>\n",
       "      <td>headset</td>\n",
       "      <td>Standard Class</td>\n",
       "      <td>6334</td>\n",
       "      <td>13.3650</td>\n",
       "      <td>2018-01-01</td>\n",
       "      <td>48185</td>\n",
       "      <td>Michigan</td>\n",
       "      <td>2018-01-01</td>\n",
       "    </tr>\n",
       "    <tr>\n",
       "      <th>3</th>\n",
       "      <td>Westland</td>\n",
       "      <td>0.0</td>\n",
       "      <td>14.730</td>\n",
       "      <td>3</td>\n",
       "      <td>Central</td>\n",
       "      <td>qexty</td>\n",
       "      <td>Consumer</td>\n",
       "      <td>shorts</td>\n",
       "      <td>Standard Class</td>\n",
       "      <td>6333</td>\n",
       "      <td>4.8609</td>\n",
       "      <td>2018-01-01</td>\n",
       "      <td>48185</td>\n",
       "      <td>Michigan</td>\n",
       "      <td>2018-01-01</td>\n",
       "    </tr>\n",
       "    <tr>\n",
       "      <th>4</th>\n",
       "      <td>Westland</td>\n",
       "      <td>0.0</td>\n",
       "      <td>43.920</td>\n",
       "      <td>3</td>\n",
       "      <td>Central</td>\n",
       "      <td>kariox</td>\n",
       "      <td>Consumer</td>\n",
       "      <td>television</td>\n",
       "      <td>Standard Class</td>\n",
       "      <td>6332</td>\n",
       "      <td>12.7368</td>\n",
       "      <td>2018-01-01</td>\n",
       "      <td>48185</td>\n",
       "      <td>Michigan</td>\n",
       "      <td>2018-01-01</td>\n",
       "    </tr>\n",
       "    <tr>\n",
       "      <th>5</th>\n",
       "      <td>Westland</td>\n",
       "      <td>0.0</td>\n",
       "      <td>66.580</td>\n",
       "      <td>2</td>\n",
       "      <td>Central</td>\n",
       "      <td>kariox</td>\n",
       "      <td>Consumer</td>\n",
       "      <td>laptop</td>\n",
       "      <td>Standard Class</td>\n",
       "      <td>6331</td>\n",
       "      <td>15.9792</td>\n",
       "      <td>2018-01-01</td>\n",
       "      <td>48185</td>\n",
       "      <td>Michigan</td>\n",
       "      <td>2018-01-01</td>\n",
       "    </tr>\n",
       "  </tbody>\n",
       "</table>\n",
       "</div>"
      ],
      "text/plain": [
       "   departure city  discount  ...  departure state  placement date\n",
       "id                           ...                                 \n",
       "1         Houston       0.2  ...            Texas      2018-01-01\n",
       "2        Westland       0.0  ...         Michigan      2018-01-01\n",
       "3        Westland       0.0  ...         Michigan      2018-01-01\n",
       "4        Westland       0.0  ...         Michigan      2018-01-01\n",
       "5        Westland       0.0  ...         Michigan      2018-01-01\n",
       "\n",
       "[5 rows x 15 columns]"
      ]
     },
     "execution_count": 373,
     "metadata": {
      "tags": []
     },
     "output_type": "execute_result"
    }
   ],
   "source": [
    "df.head()"
   ]
  },
  {
   "cell_type": "code",
   "execution_count": 374,
   "metadata": {
    "colab": {
     "base_uri": "https://localhost:8080/"
    },
    "id": "RbjxFiyne5DF",
    "outputId": "1e6d2ca4-6abc-4cda-c4e8-e462b97ca6f4"
   },
   "outputs": [
    {
     "data": {
      "text/plain": [
       "New York City    610\n",
       "Los Angeles      538\n",
       "Philadelphia     355\n",
       "San Francisco    319\n",
       "Houston          273\n",
       "                ... \n",
       "Tyler              1\n",
       "Manhattan          1\n",
       "Yucaipa            1\n",
       "Santa Maria        1\n",
       "Pensacola          1\n",
       "Name: departure city, Length: 469, dtype: int64"
      ]
     },
     "execution_count": 374,
     "metadata": {
      "tags": []
     },
     "output_type": "execute_result"
    }
   ],
   "source": [
    "df['departure city'].value_counts()"
   ]
  },
  {
   "cell_type": "code",
   "execution_count": 375,
   "metadata": {
    "colab": {
     "base_uri": "https://localhost:8080/",
     "height": 350
    },
    "id": "eJCstJD1ioA2",
    "outputId": "6691d86b-b979-4243-cd20-45ed0a4cc15c"
   },
   "outputs": [
    {
     "name": "stderr",
     "output_type": "stream",
     "text": [
      "/usr/local/lib/python3.7/dist-packages/seaborn/_decorators.py:43: FutureWarning: Pass the following variable as a keyword arg: x. From version 0.12, the only valid positional argument will be `data`, and passing other arguments without an explicit keyword will result in an error or misinterpretation.\n",
      "  FutureWarning\n"
     ]
    },
    {
     "data": {
      "text/plain": [
       "<matplotlib.axes._subplots.AxesSubplot at 0x7f99589b6610>"
      ]
     },
     "execution_count": 375,
     "metadata": {
      "tags": []
     },
     "output_type": "execute_result"
    },
    {
     "data": {
      "image/png": "[encoded data removed]",
      "text/plain": [
       "<Figure size 432x288 with 1 Axes>"
      ]
     },
     "metadata": {
      "needs_background": "light",
      "tags": []
     },
     "output_type": "display_data"
    }
   ],
   "source": [
    "sns.boxplot(df['profit'])"
   ]
  },
  {
   "cell_type": "code",
   "execution_count": 376,
   "metadata": {
    "id": "OiV8Fg9fi-UE"
   },
   "outputs": [],
   "source": [
    "df=df[df['profit']<1500]\n"
   ]
  },
  {
   "cell_type": "code",
   "execution_count": 377,
   "metadata": {
    "id": "MBx8zk8UnGBj"
   },
   "outputs": [],
   "source": [
    "df=df[df['profit']>-1000]"
   ]
  },
  {
   "cell_type": "code",
   "execution_count": 378,
   "metadata": {
    "colab": {
     "base_uri": "https://localhost:8080/",
     "height": 350
    },
    "id": "-zqOQkYajI4F",
    "outputId": "5e1764b3-4acb-4345-dc07-0f70327d02df"
   },
   "outputs": [
    {
     "name": "stderr",
     "output_type": "stream",
     "text": [
      "/usr/local/lib/python3.7/dist-packages/seaborn/_decorators.py:43: FutureWarning: Pass the following variable as a keyword arg: x. From version 0.12, the only valid positional argument will be `data`, and passing other arguments without an explicit keyword will result in an error or misinterpretation.\n",
      "  FutureWarning\n"
     ]
    },
    {
     "data": {
      "text/plain": [
       "<matplotlib.axes._subplots.AxesSubplot at 0x7f995912a350>"
      ]
     },
     "execution_count": 378,
     "metadata": {
      "tags": []
     },
     "output_type": "execute_result"
    },
    {
     "data": {
      "image/png": "[encoded data removed]",
      "text/plain": [
       "<Figure size 432x288 with 1 Axes>"
      ]
     },
     "metadata": {
      "needs_background": "light",
      "tags": []
     },
     "output_type": "display_data"
    }
   ],
   "source": [
    "sns.boxplot(df['profit'])\n"
   ]
  },
  {
   "cell_type": "code",
   "execution_count": 379,
   "metadata": {
    "colab": {
     "base_uri": "https://localhost:8080/",
     "height": 400
    },
    "id": "tEeJ7DCwfnyI",
    "outputId": "156b4a43-68c0-491b-97b7-90b819a9b82a"
   },
   "outputs": [
    {
     "data": {
      "text/plain": [
       "<seaborn.axisgrid.FacetGrid at 0x7f9957f94990>"
      ]
     },
     "execution_count": 379,
     "metadata": {
      "tags": []
     },
     "output_type": "execute_result"
    },
    {
     "data": {
      "image/png": "[encoded data removed]",
      "text/plain": [
       "<Figure size 360x360 with 1 Axes>"
      ]
     },
     "metadata": {
      "needs_background": "light",
      "tags": []
     },
     "output_type": "display_data"
    }
   ],
   "source": [
    "sns.lmplot(x='price',y='profit',data=df)"
   ]
  },
  {
   "cell_type": "code",
   "execution_count": 380,
   "metadata": {
    "colab": {
     "base_uri": "https://localhost:8080/",
     "height": 235
    },
    "id": "NgE-yzgqij1w",
    "outputId": "7277a5bc-372e-46a5-9f9f-9c6406d27b5c"
   },
   "outputs": [
    {
     "data": {
      "text/html": [
       "<div>\n",
       "<style scoped>\n",
       "    .dataframe tbody tr th:only-of-type {\n",
       "        vertical-align: middle;\n",
       "    }\n",
       "\n",
       "    .dataframe tbody tr th {\n",
       "        vertical-align: top;\n",
       "    }\n",
       "\n",
       "    .dataframe thead th {\n",
       "        text-align: right;\n",
       "    }\n",
       "</style>\n",
       "<table border=\"1\" class=\"dataframe\">\n",
       "  <thead>\n",
       "    <tr style=\"text-align: right;\">\n",
       "      <th></th>\n",
       "      <th>departure city</th>\n",
       "      <th>discount</th>\n",
       "      <th>price</th>\n",
       "      <th>no of items</th>\n",
       "      <th>location</th>\n",
       "      <th>class</th>\n",
       "      <th>segment</th>\n",
       "      <th>sub-class</th>\n",
       "      <th>delivery type</th>\n",
       "      <th>RID</th>\n",
       "      <th>profit</th>\n",
       "      <th>delivery date</th>\n",
       "      <th>address code</th>\n",
       "      <th>departure state</th>\n",
       "      <th>placement date</th>\n",
       "    </tr>\n",
       "    <tr>\n",
       "      <th>id</th>\n",
       "      <th></th>\n",
       "      <th></th>\n",
       "      <th></th>\n",
       "      <th></th>\n",
       "      <th></th>\n",
       "      <th></th>\n",
       "      <th></th>\n",
       "      <th></th>\n",
       "      <th></th>\n",
       "      <th></th>\n",
       "      <th></th>\n",
       "      <th></th>\n",
       "      <th></th>\n",
       "      <th></th>\n",
       "      <th></th>\n",
       "    </tr>\n",
       "  </thead>\n",
       "  <tbody>\n",
       "    <tr>\n",
       "      <th>1</th>\n",
       "      <td>Houston</td>\n",
       "      <td>0.2</td>\n",
       "      <td>16.448</td>\n",
       "      <td>2</td>\n",
       "      <td>Central</td>\n",
       "      <td>kariox</td>\n",
       "      <td>Consumer</td>\n",
       "      <td>phone</td>\n",
       "      <td>Standard Class</td>\n",
       "      <td>7981</td>\n",
       "      <td>5.5512</td>\n",
       "      <td>2018-01-01</td>\n",
       "      <td>77095</td>\n",
       "      <td>Texas</td>\n",
       "      <td>2018-01-01</td>\n",
       "    </tr>\n",
       "    <tr>\n",
       "      <th>2</th>\n",
       "      <td>Westland</td>\n",
       "      <td>0.0</td>\n",
       "      <td>29.700</td>\n",
       "      <td>5</td>\n",
       "      <td>Central</td>\n",
       "      <td>kariox</td>\n",
       "      <td>Consumer</td>\n",
       "      <td>headset</td>\n",
       "      <td>Standard Class</td>\n",
       "      <td>6334</td>\n",
       "      <td>13.3650</td>\n",
       "      <td>2018-01-01</td>\n",
       "      <td>48185</td>\n",
       "      <td>Michigan</td>\n",
       "      <td>2018-01-01</td>\n",
       "    </tr>\n",
       "    <tr>\n",
       "      <th>3</th>\n",
       "      <td>Westland</td>\n",
       "      <td>0.0</td>\n",
       "      <td>14.730</td>\n",
       "      <td>3</td>\n",
       "      <td>Central</td>\n",
       "      <td>qexty</td>\n",
       "      <td>Consumer</td>\n",
       "      <td>shorts</td>\n",
       "      <td>Standard Class</td>\n",
       "      <td>6333</td>\n",
       "      <td>4.8609</td>\n",
       "      <td>2018-01-01</td>\n",
       "      <td>48185</td>\n",
       "      <td>Michigan</td>\n",
       "      <td>2018-01-01</td>\n",
       "    </tr>\n",
       "    <tr>\n",
       "      <th>4</th>\n",
       "      <td>Westland</td>\n",
       "      <td>0.0</td>\n",
       "      <td>43.920</td>\n",
       "      <td>3</td>\n",
       "      <td>Central</td>\n",
       "      <td>kariox</td>\n",
       "      <td>Consumer</td>\n",
       "      <td>television</td>\n",
       "      <td>Standard Class</td>\n",
       "      <td>6332</td>\n",
       "      <td>12.7368</td>\n",
       "      <td>2018-01-01</td>\n",
       "      <td>48185</td>\n",
       "      <td>Michigan</td>\n",
       "      <td>2018-01-01</td>\n",
       "    </tr>\n",
       "    <tr>\n",
       "      <th>5</th>\n",
       "      <td>Westland</td>\n",
       "      <td>0.0</td>\n",
       "      <td>66.580</td>\n",
       "      <td>2</td>\n",
       "      <td>Central</td>\n",
       "      <td>kariox</td>\n",
       "      <td>Consumer</td>\n",
       "      <td>laptop</td>\n",
       "      <td>Standard Class</td>\n",
       "      <td>6331</td>\n",
       "      <td>15.9792</td>\n",
       "      <td>2018-01-01</td>\n",
       "      <td>48185</td>\n",
       "      <td>Michigan</td>\n",
       "      <td>2018-01-01</td>\n",
       "    </tr>\n",
       "  </tbody>\n",
       "</table>\n",
       "</div>"
      ],
      "text/plain": [
       "   departure city  discount  ...  departure state  placement date\n",
       "id                           ...                                 \n",
       "1         Houston       0.2  ...            Texas      2018-01-01\n",
       "2        Westland       0.0  ...         Michigan      2018-01-01\n",
       "3        Westland       0.0  ...         Michigan      2018-01-01\n",
       "4        Westland       0.0  ...         Michigan      2018-01-01\n",
       "5        Westland       0.0  ...         Michigan      2018-01-01\n",
       "\n",
       "[5 rows x 15 columns]"
      ]
     },
     "execution_count": 380,
     "metadata": {
      "tags": []
     },
     "output_type": "execute_result"
    }
   ],
   "source": [
    "df.head()"
   ]
  },
  {
   "cell_type": "code",
   "execution_count": 381,
   "metadata": {
    "colab": {
     "base_uri": "https://localhost:8080/"
    },
    "id": "AU8pwa7poLNb",
    "outputId": "1bb3c02e-e001-4b5c-f71b-102654414e1c"
   },
   "outputs": [
    {
     "data": {
      "text/plain": [
       "[0.2, 0.0, 0.1, 0.7, 0.15, 0.8, 0.6, 0.4, 0.5, 0.3, 0.32, 0.45]"
      ]
     },
     "execution_count": 381,
     "metadata": {
      "tags": []
     },
     "output_type": "execute_result"
    }
   ],
   "source": [
    "df['discount'].unique().tolist()"
   ]
  },
  {
   "cell_type": "code",
   "execution_count": 382,
   "metadata": {
    "colab": {
     "base_uri": "https://localhost:8080/",
     "height": 400
    },
    "id": "tiRd44cCoU5R",
    "outputId": "ac520a52-ce61-4c62-93f1-9dca7021daa7"
   },
   "outputs": [
    {
     "data": {
      "text/plain": [
       "<seaborn.axisgrid.FacetGrid at 0x7f9958084390>"
      ]
     },
     "execution_count": 382,
     "metadata": {
      "tags": []
     },
     "output_type": "execute_result"
    },
    {
     "data": {
      "image/png": "[encoded data removed]",
      "text/plain": [
       "<Figure size 360x360 with 1 Axes>"
      ]
     },
     "metadata": {
      "needs_background": "light",
      "tags": []
     },
     "output_type": "display_data"
    }
   ],
   "source": [
    "sns.lmplot(y='discount',x='profit',data=df)\n"
   ]
  },
  {
   "cell_type": "code",
   "execution_count": 383,
   "metadata": {
    "id": "hC6P9kx1V4ny"
   },
   "outputs": [],
   "source": [
    "# dis={0.00:12,0.20:11,0.1:10,0.15:9,0.3:8,0.32:7,0.4:6,0.5:5,0.45:4,0.6:3,0.7:2,0.8:1}\n",
    "# df['dis_map']=df['discount'].map(dis)"
   ]
  },
  {
   "cell_type": "code",
   "execution_count": 384,
   "metadata": {
    "colab": {
     "base_uri": "https://localhost:8080/",
     "height": 296
    },
    "id": "rMYSbwbvpZLg",
    "outputId": "e9c9ce7a-e19c-44bd-c3e7-50d199ce0f2b"
   },
   "outputs": [
    {
     "data": {
      "text/plain": [
       "<matplotlib.axes._subplots.AxesSubplot at 0x7f9956a3d750>"
      ]
     },
     "execution_count": 384,
     "metadata": {
      "tags": []
     },
     "output_type": "execute_result"
    },
    {
     "data": {
      "image/png": "[encoded data removed]",
      "text/plain": [
       "<Figure size 432x288 with 1 Axes>"
      ]
     },
     "metadata": {
      "needs_background": "light",
      "tags": []
     },
     "output_type": "display_data"
    }
   ],
   "source": [
    "sns.boxplot(x='no of items',y='profit',data=df)"
   ]
  },
  {
   "cell_type": "code",
   "execution_count": 385,
   "metadata": {
    "colab": {
     "base_uri": "https://localhost:8080/",
     "height": 296
    },
    "id": "-2YCsc4Kq7M2",
    "outputId": "5f9e71d2-034a-4777-e110-fa732ed08acd"
   },
   "outputs": [
    {
     "data": {
      "text/plain": [
       "<matplotlib.axes._subplots.AxesSubplot at 0x7f9957e9fe90>"
      ]
     },
     "execution_count": 385,
     "metadata": {
      "tags": []
     },
     "output_type": "execute_result"
    },
    {
     "data": {
      "image/png": "[encoded data removed]",
      "text/plain": [
       "<Figure size 432x288 with 1 Axes>"
      ]
     },
     "metadata": {
      "needs_background": "light",
      "tags": []
     },
     "output_type": "display_data"
    }
   ],
   "source": [
    "sns.countplot(x='no of items',data=df)\n"
   ]
  },
  {
   "cell_type": "code",
   "execution_count": 385,
   "metadata": {
    "id": "U2M6nCE7X-i1"
   },
   "outputs": [],
   "source": []
  },
  {
   "cell_type": "code",
   "execution_count": 386,
   "metadata": {
    "colab": {
     "base_uri": "https://localhost:8080/",
     "height": 296
    },
    "id": "3VCQ5RUYq7RC",
    "outputId": "0288286a-6369-4f7c-96cc-658285af04a4"
   },
   "outputs": [
    {
     "data": {
      "text/plain": [
       "<matplotlib.axes._subplots.AxesSubplot at 0x7f9957dffa90>"
      ]
     },
     "execution_count": 386,
     "metadata": {
      "tags": []
     },
     "output_type": "execute_result"
    },
    {
     "data": {
      "image/png": "[encoded data removed]",
      "text/plain": [
       "<Figure size 432x288 with 1 Axes>"
      ]
     },
     "metadata": {
      "needs_background": "light",
      "tags": []
     },
     "output_type": "display_data"
    }
   ],
   "source": [
    "sns.barplot(x='no of items',y='profit',data=df)"
   ]
  },
  {
   "cell_type": "code",
   "execution_count": 387,
   "metadata": {
    "id": "vs0fhqMBYJJE"
   },
   "outputs": [],
   "source": [
    "# items={7:14,5:13,4:12,2:11,3:10,1:9,6:8,8:7,9:6,10:5,13:4,12:3,11:2,14:1}\n",
    "items={13:14,14:13,12:12,11:11,8:10,7:9,9:8,5:7,4:6,6:5,10:4,3:3,2:2,1:1}\n",
    "df['item_map']=df['no of items'].map(items)"
   ]
  },
  {
   "cell_type": "code",
   "execution_count": 388,
   "metadata": {
    "colab": {
     "base_uri": "https://localhost:8080/",
     "height": 235
    },
    "id": "VOnRZUFPbCVP",
    "outputId": "9239861f-fd2d-4f17-992a-119ae4ec1e3a"
   },
   "outputs": [
    {
     "data": {
      "text/html": [
       "<div>\n",
       "<style scoped>\n",
       "    .dataframe tbody tr th:only-of-type {\n",
       "        vertical-align: middle;\n",
       "    }\n",
       "\n",
       "    .dataframe tbody tr th {\n",
       "        vertical-align: top;\n",
       "    }\n",
       "\n",
       "    .dataframe thead th {\n",
       "        text-align: right;\n",
       "    }\n",
       "</style>\n",
       "<table border=\"1\" class=\"dataframe\">\n",
       "  <thead>\n",
       "    <tr style=\"text-align: right;\">\n",
       "      <th></th>\n",
       "      <th>departure city</th>\n",
       "      <th>discount</th>\n",
       "      <th>price</th>\n",
       "      <th>no of items</th>\n",
       "      <th>location</th>\n",
       "      <th>class</th>\n",
       "      <th>segment</th>\n",
       "      <th>sub-class</th>\n",
       "      <th>delivery type</th>\n",
       "      <th>RID</th>\n",
       "      <th>profit</th>\n",
       "      <th>delivery date</th>\n",
       "      <th>address code</th>\n",
       "      <th>departure state</th>\n",
       "      <th>placement date</th>\n",
       "      <th>item_map</th>\n",
       "    </tr>\n",
       "    <tr>\n",
       "      <th>id</th>\n",
       "      <th></th>\n",
       "      <th></th>\n",
       "      <th></th>\n",
       "      <th></th>\n",
       "      <th></th>\n",
       "      <th></th>\n",
       "      <th></th>\n",
       "      <th></th>\n",
       "      <th></th>\n",
       "      <th></th>\n",
       "      <th></th>\n",
       "      <th></th>\n",
       "      <th></th>\n",
       "      <th></th>\n",
       "      <th></th>\n",
       "      <th></th>\n",
       "    </tr>\n",
       "  </thead>\n",
       "  <tbody>\n",
       "    <tr>\n",
       "      <th>1</th>\n",
       "      <td>Houston</td>\n",
       "      <td>0.2</td>\n",
       "      <td>16.448</td>\n",
       "      <td>2</td>\n",
       "      <td>Central</td>\n",
       "      <td>kariox</td>\n",
       "      <td>Consumer</td>\n",
       "      <td>phone</td>\n",
       "      <td>Standard Class</td>\n",
       "      <td>7981</td>\n",
       "      <td>5.5512</td>\n",
       "      <td>2018-01-01</td>\n",
       "      <td>77095</td>\n",
       "      <td>Texas</td>\n",
       "      <td>2018-01-01</td>\n",
       "      <td>2</td>\n",
       "    </tr>\n",
       "    <tr>\n",
       "      <th>2</th>\n",
       "      <td>Westland</td>\n",
       "      <td>0.0</td>\n",
       "      <td>29.700</td>\n",
       "      <td>5</td>\n",
       "      <td>Central</td>\n",
       "      <td>kariox</td>\n",
       "      <td>Consumer</td>\n",
       "      <td>headset</td>\n",
       "      <td>Standard Class</td>\n",
       "      <td>6334</td>\n",
       "      <td>13.3650</td>\n",
       "      <td>2018-01-01</td>\n",
       "      <td>48185</td>\n",
       "      <td>Michigan</td>\n",
       "      <td>2018-01-01</td>\n",
       "      <td>7</td>\n",
       "    </tr>\n",
       "    <tr>\n",
       "      <th>3</th>\n",
       "      <td>Westland</td>\n",
       "      <td>0.0</td>\n",
       "      <td>14.730</td>\n",
       "      <td>3</td>\n",
       "      <td>Central</td>\n",
       "      <td>qexty</td>\n",
       "      <td>Consumer</td>\n",
       "      <td>shorts</td>\n",
       "      <td>Standard Class</td>\n",
       "      <td>6333</td>\n",
       "      <td>4.8609</td>\n",
       "      <td>2018-01-01</td>\n",
       "      <td>48185</td>\n",
       "      <td>Michigan</td>\n",
       "      <td>2018-01-01</td>\n",
       "      <td>3</td>\n",
       "    </tr>\n",
       "    <tr>\n",
       "      <th>4</th>\n",
       "      <td>Westland</td>\n",
       "      <td>0.0</td>\n",
       "      <td>43.920</td>\n",
       "      <td>3</td>\n",
       "      <td>Central</td>\n",
       "      <td>kariox</td>\n",
       "      <td>Consumer</td>\n",
       "      <td>television</td>\n",
       "      <td>Standard Class</td>\n",
       "      <td>6332</td>\n",
       "      <td>12.7368</td>\n",
       "      <td>2018-01-01</td>\n",
       "      <td>48185</td>\n",
       "      <td>Michigan</td>\n",
       "      <td>2018-01-01</td>\n",
       "      <td>3</td>\n",
       "    </tr>\n",
       "    <tr>\n",
       "      <th>5</th>\n",
       "      <td>Westland</td>\n",
       "      <td>0.0</td>\n",
       "      <td>66.580</td>\n",
       "      <td>2</td>\n",
       "      <td>Central</td>\n",
       "      <td>kariox</td>\n",
       "      <td>Consumer</td>\n",
       "      <td>laptop</td>\n",
       "      <td>Standard Class</td>\n",
       "      <td>6331</td>\n",
       "      <td>15.9792</td>\n",
       "      <td>2018-01-01</td>\n",
       "      <td>48185</td>\n",
       "      <td>Michigan</td>\n",
       "      <td>2018-01-01</td>\n",
       "      <td>2</td>\n",
       "    </tr>\n",
       "  </tbody>\n",
       "</table>\n",
       "</div>"
      ],
      "text/plain": [
       "   departure city  discount   price  ...  departure state placement date item_map\n",
       "id                                   ...                                         \n",
       "1         Houston       0.2  16.448  ...            Texas     2018-01-01        2\n",
       "2        Westland       0.0  29.700  ...         Michigan     2018-01-01        7\n",
       "3        Westland       0.0  14.730  ...         Michigan     2018-01-01        3\n",
       "4        Westland       0.0  43.920  ...         Michigan     2018-01-01        3\n",
       "5        Westland       0.0  66.580  ...         Michigan     2018-01-01        2\n",
       "\n",
       "[5 rows x 16 columns]"
      ]
     },
     "execution_count": 388,
     "metadata": {
      "tags": []
     },
     "output_type": "execute_result"
    }
   ],
   "source": [
    "df.head()"
   ]
  },
  {
   "cell_type": "code",
   "execution_count": 389,
   "metadata": {
    "colab": {
     "base_uri": "https://localhost:8080/"
    },
    "id": "dwdZF23IrTqY",
    "outputId": "26825e49-fdb4-4bac-91c4-6f21cbe15dc8"
   },
   "outputs": [
    {
     "data": {
      "text/plain": [
       "West       2117\n",
       "East       1920\n",
       "Central    1542\n",
       "South      1095\n",
       "Name: location, dtype: int64"
      ]
     },
     "execution_count": 389,
     "metadata": {
      "tags": []
     },
     "output_type": "execute_result"
    }
   ],
   "source": [
    "df.location.value_counts()"
   ]
  },
  {
   "cell_type": "code",
   "execution_count": 390,
   "metadata": {
    "colab": {
     "base_uri": "https://localhost:8080/",
     "height": 296
    },
    "id": "MbDbd1I8rTt4",
    "outputId": "47c466b9-c234-4d56-f182-1af159985e04"
   },
   "outputs": [
    {
     "data": {
      "text/plain": [
       "<matplotlib.axes._subplots.AxesSubplot at 0x7f995698c2d0>"
      ]
     },
     "execution_count": 390,
     "metadata": {
      "tags": []
     },
     "output_type": "execute_result"
    },
    {
     "data": {
      "image/png": "[encoded data removed]",
      "text/plain": [
       "<Figure size 432x288 with 1 Axes>"
      ]
     },
     "metadata": {
      "needs_background": "light",
      "tags": []
     },
     "output_type": "display_data"
    }
   ],
   "source": [
    "sns.boxplot(x='location',y='profit',data=df)\n"
   ]
  },
  {
   "cell_type": "code",
   "execution_count": 391,
   "metadata": {
    "colab": {
     "base_uri": "https://localhost:8080/",
     "height": 296
    },
    "id": "jlDTI41CrYJi",
    "outputId": "1a906228-c502-4560-e765-3ca893997ca7"
   },
   "outputs": [
    {
     "data": {
      "text/plain": [
       "<matplotlib.axes._subplots.AxesSubplot at 0x7f99579c2f10>"
      ]
     },
     "execution_count": 391,
     "metadata": {
      "tags": []
     },
     "output_type": "execute_result"
    },
    {
     "data": {
      "image/png": "[encoded data removed]",
      "text/plain": [
       "<Figure size 432x288 with 1 Axes>"
      ]
     },
     "metadata": {
      "needs_background": "light",
      "tags": []
     },
     "output_type": "display_data"
    }
   ],
   "source": [
    "sns.barplot(x='location',y='profit',data=df)\n"
   ]
  },
  {
   "cell_type": "code",
   "execution_count": 392,
   "metadata": {
    "id": "xm2LwXIVcMnP"
   },
   "outputs": [],
   "source": [
    "# loc={'East':4,'South':3,'West':2,'Central':1}\n",
    "loc={'East':1,'South':3,'West':2,'Central':4}\n",
    "df['loc_map']=df['location'].map(loc)"
   ]
  },
  {
   "cell_type": "code",
   "execution_count": 392,
   "metadata": {
    "id": "ykP46YTkhNyT"
   },
   "outputs": [],
   "source": []
  },
  {
   "cell_type": "code",
   "execution_count": 393,
   "metadata": {
    "colab": {
     "base_uri": "https://localhost:8080/",
     "height": 252
    },
    "id": "X-uhKy5wrYOH",
    "outputId": "ce3d00bf-127a-40f7-f2e7-4f8c3406240f"
   },
   "outputs": [
    {
     "data": {
      "text/html": [
       "<div>\n",
       "<style scoped>\n",
       "    .dataframe tbody tr th:only-of-type {\n",
       "        vertical-align: middle;\n",
       "    }\n",
       "\n",
       "    .dataframe tbody tr th {\n",
       "        vertical-align: top;\n",
       "    }\n",
       "\n",
       "    .dataframe thead th {\n",
       "        text-align: right;\n",
       "    }\n",
       "</style>\n",
       "<table border=\"1\" class=\"dataframe\">\n",
       "  <thead>\n",
       "    <tr style=\"text-align: right;\">\n",
       "      <th></th>\n",
       "      <th>departure city</th>\n",
       "      <th>discount</th>\n",
       "      <th>price</th>\n",
       "      <th>no of items</th>\n",
       "      <th>location</th>\n",
       "      <th>class</th>\n",
       "      <th>segment</th>\n",
       "      <th>sub-class</th>\n",
       "      <th>delivery type</th>\n",
       "      <th>RID</th>\n",
       "      <th>profit</th>\n",
       "      <th>delivery date</th>\n",
       "      <th>address code</th>\n",
       "      <th>departure state</th>\n",
       "      <th>placement date</th>\n",
       "      <th>item_map</th>\n",
       "      <th>loc_map</th>\n",
       "    </tr>\n",
       "    <tr>\n",
       "      <th>id</th>\n",
       "      <th></th>\n",
       "      <th></th>\n",
       "      <th></th>\n",
       "      <th></th>\n",
       "      <th></th>\n",
       "      <th></th>\n",
       "      <th></th>\n",
       "      <th></th>\n",
       "      <th></th>\n",
       "      <th></th>\n",
       "      <th></th>\n",
       "      <th></th>\n",
       "      <th></th>\n",
       "      <th></th>\n",
       "      <th></th>\n",
       "      <th></th>\n",
       "      <th></th>\n",
       "    </tr>\n",
       "  </thead>\n",
       "  <tbody>\n",
       "    <tr>\n",
       "      <th>1</th>\n",
       "      <td>Houston</td>\n",
       "      <td>0.2</td>\n",
       "      <td>16.448</td>\n",
       "      <td>2</td>\n",
       "      <td>Central</td>\n",
       "      <td>kariox</td>\n",
       "      <td>Consumer</td>\n",
       "      <td>phone</td>\n",
       "      <td>Standard Class</td>\n",
       "      <td>7981</td>\n",
       "      <td>5.5512</td>\n",
       "      <td>2018-01-01</td>\n",
       "      <td>77095</td>\n",
       "      <td>Texas</td>\n",
       "      <td>2018-01-01</td>\n",
       "      <td>2</td>\n",
       "      <td>4</td>\n",
       "    </tr>\n",
       "    <tr>\n",
       "      <th>2</th>\n",
       "      <td>Westland</td>\n",
       "      <td>0.0</td>\n",
       "      <td>29.700</td>\n",
       "      <td>5</td>\n",
       "      <td>Central</td>\n",
       "      <td>kariox</td>\n",
       "      <td>Consumer</td>\n",
       "      <td>headset</td>\n",
       "      <td>Standard Class</td>\n",
       "      <td>6334</td>\n",
       "      <td>13.3650</td>\n",
       "      <td>2018-01-01</td>\n",
       "      <td>48185</td>\n",
       "      <td>Michigan</td>\n",
       "      <td>2018-01-01</td>\n",
       "      <td>7</td>\n",
       "      <td>4</td>\n",
       "    </tr>\n",
       "    <tr>\n",
       "      <th>3</th>\n",
       "      <td>Westland</td>\n",
       "      <td>0.0</td>\n",
       "      <td>14.730</td>\n",
       "      <td>3</td>\n",
       "      <td>Central</td>\n",
       "      <td>qexty</td>\n",
       "      <td>Consumer</td>\n",
       "      <td>shorts</td>\n",
       "      <td>Standard Class</td>\n",
       "      <td>6333</td>\n",
       "      <td>4.8609</td>\n",
       "      <td>2018-01-01</td>\n",
       "      <td>48185</td>\n",
       "      <td>Michigan</td>\n",
       "      <td>2018-01-01</td>\n",
       "      <td>3</td>\n",
       "      <td>4</td>\n",
       "    </tr>\n",
       "    <tr>\n",
       "      <th>4</th>\n",
       "      <td>Westland</td>\n",
       "      <td>0.0</td>\n",
       "      <td>43.920</td>\n",
       "      <td>3</td>\n",
       "      <td>Central</td>\n",
       "      <td>kariox</td>\n",
       "      <td>Consumer</td>\n",
       "      <td>television</td>\n",
       "      <td>Standard Class</td>\n",
       "      <td>6332</td>\n",
       "      <td>12.7368</td>\n",
       "      <td>2018-01-01</td>\n",
       "      <td>48185</td>\n",
       "      <td>Michigan</td>\n",
       "      <td>2018-01-01</td>\n",
       "      <td>3</td>\n",
       "      <td>4</td>\n",
       "    </tr>\n",
       "    <tr>\n",
       "      <th>5</th>\n",
       "      <td>Westland</td>\n",
       "      <td>0.0</td>\n",
       "      <td>66.580</td>\n",
       "      <td>2</td>\n",
       "      <td>Central</td>\n",
       "      <td>kariox</td>\n",
       "      <td>Consumer</td>\n",
       "      <td>laptop</td>\n",
       "      <td>Standard Class</td>\n",
       "      <td>6331</td>\n",
       "      <td>15.9792</td>\n",
       "      <td>2018-01-01</td>\n",
       "      <td>48185</td>\n",
       "      <td>Michigan</td>\n",
       "      <td>2018-01-01</td>\n",
       "      <td>2</td>\n",
       "      <td>4</td>\n",
       "    </tr>\n",
       "  </tbody>\n",
       "</table>\n",
       "</div>"
      ],
      "text/plain": [
       "   departure city  discount   price  ...  placement date item_map loc_map\n",
       "id                                   ...                                 \n",
       "1         Houston       0.2  16.448  ...      2018-01-01        2       4\n",
       "2        Westland       0.0  29.700  ...      2018-01-01        7       4\n",
       "3        Westland       0.0  14.730  ...      2018-01-01        3       4\n",
       "4        Westland       0.0  43.920  ...      2018-01-01        3       4\n",
       "5        Westland       0.0  66.580  ...      2018-01-01        2       4\n",
       "\n",
       "[5 rows x 17 columns]"
      ]
     },
     "execution_count": 393,
     "metadata": {
      "tags": []
     },
     "output_type": "execute_result"
    }
   ],
   "source": [
    "df.head()"
   ]
  },
  {
   "cell_type": "code",
   "execution_count": 394,
   "metadata": {
    "colab": {
     "base_uri": "https://localhost:8080/",
     "height": 296
    },
    "id": "IF48cjD2nrjA",
    "outputId": "7711b0c6-4330-4d2e-e123-00f2680ec57b"
   },
   "outputs": [
    {
     "data": {
      "text/plain": [
       "<matplotlib.axes._subplots.AxesSubplot at 0x7f99568be350>"
      ]
     },
     "execution_count": 394,
     "metadata": {
      "tags": []
     },
     "output_type": "execute_result"
    },
    {
     "data": {
      "image/png": "[encoded data removed]",
      "text/plain": [
       "<Figure size 432x288 with 1 Axes>"
      ]
     },
     "metadata": {
      "needs_background": "light",
      "tags": []
     },
     "output_type": "display_data"
    }
   ],
   "source": [
    "sns.boxplot(y='class',x='profit',data=df)"
   ]
  },
  {
   "cell_type": "code",
   "execution_count": 395,
   "metadata": {
    "colab": {
     "base_uri": "https://localhost:8080/",
     "height": 298
    },
    "id": "79lsNZGzn8fi",
    "outputId": "a26684aa-9637-4201-fd64-20864bc202a8"
   },
   "outputs": [
    {
     "data": {
      "text/plain": [
       "<matplotlib.axes._subplots.AxesSubplot at 0x7f99567d7490>"
      ]
     },
     "execution_count": 395,
     "metadata": {
      "tags": []
     },
     "output_type": "execute_result"
    },
    {
     "data": {
      "image/png": "[encoded data removed]",
      "text/plain": [
       "<Figure size 432x288 with 1 Axes>"
      ]
     },
     "metadata": {
      "needs_background": "light",
      "tags": []
     },
     "output_type": "display_data"
    }
   ],
   "source": [
    "sns.barplot(x='class',y='profit',data=df)"
   ]
  },
  {
   "cell_type": "code",
   "execution_count": 396,
   "metadata": {
    "id": "D7EHZ4emgzZ-"
   },
   "outputs": [],
   "source": [
    "class_map={'fynota':3,'kariox':2, 'qexty':1}\n",
    "df['class_map']=df['class'].map(class_map)"
   ]
  },
  {
   "cell_type": "code",
   "execution_count": 397,
   "metadata": {
    "colab": {
     "base_uri": "https://localhost:8080/"
    },
    "id": "8GN9A3lYr1vy",
    "outputId": "4db8f0c4-fea3-4544-c5a4-8d9f0ba907a7"
   },
   "outputs": [
    {
     "data": {
      "text/plain": [
       "Consumer       3507\n",
       "Corporate      2043\n",
       "Home Office    1124\n",
       "Name: segment, dtype: int64"
      ]
     },
     "execution_count": 397,
     "metadata": {
      "tags": []
     },
     "output_type": "execute_result"
    }
   ],
   "source": [
    "df.segment.value_counts()"
   ]
  },
  {
   "cell_type": "code",
   "execution_count": 398,
   "metadata": {
    "colab": {
     "base_uri": "https://localhost:8080/",
     "height": 296
    },
    "id": "xeLz-vKRoG4T",
    "outputId": "7125ef06-3850-4533-f6a7-87078ad4b7c1"
   },
   "outputs": [
    {
     "data": {
      "text/plain": [
       "<matplotlib.axes._subplots.AxesSubplot at 0x7f99567bd390>"
      ]
     },
     "execution_count": 398,
     "metadata": {
      "tags": []
     },
     "output_type": "execute_result"
    },
    {
     "data": {
      "image/png": "[encoded data removed]",
      "text/plain": [
       "<Figure size 432x288 with 1 Axes>"
      ]
     },
     "metadata": {
      "needs_background": "light",
      "tags": []
     },
     "output_type": "display_data"
    }
   ],
   "source": [
    "sns.boxplot(x='segment',y='profit',data=df)\n"
   ]
  },
  {
   "cell_type": "code",
   "execution_count": 399,
   "metadata": {
    "colab": {
     "base_uri": "https://localhost:8080/",
     "height": 298
    },
    "id": "UDsK6rjtr75e",
    "outputId": "d59e7329-af20-4984-f265-4eeab44bbeb4"
   },
   "outputs": [
    {
     "data": {
      "text/plain": [
       "<matplotlib.axes._subplots.AxesSubplot at 0x7f99566e0d90>"
      ]
     },
     "execution_count": 399,
     "metadata": {
      "tags": []
     },
     "output_type": "execute_result"
    },
    {
     "data": {
      "image/png": "[encoded data removed]",
      "text/plain": [
       "<Figure size 432x288 with 1 Axes>"
      ]
     },
     "metadata": {
      "needs_background": "light",
      "tags": []
     },
     "output_type": "display_data"
    }
   ],
   "source": [
    "sns.barplot(x='segment',y='profit',data=df)\n"
   ]
  },
  {
   "cell_type": "code",
   "execution_count": 400,
   "metadata": {
    "id": "T4pd0TmBhLvc"
   },
   "outputs": [],
   "source": [
    "segment={'Home Office':3,'Consumer':2,'Corporate':1}\n",
    "df['seg_map']=df['segment'].map(segment)"
   ]
  },
  {
   "cell_type": "code",
   "execution_count": 401,
   "metadata": {
    "colab": {
     "base_uri": "https://localhost:8080/",
     "height": 296
    },
    "id": "rppIzzT8sCsW",
    "outputId": "0563eab1-9fec-469f-a416-eb6811a09b7c"
   },
   "outputs": [
    {
     "data": {
      "text/plain": [
       "<matplotlib.axes._subplots.AxesSubplot at 0x7f99566af9d0>"
      ]
     },
     "execution_count": 401,
     "metadata": {
      "tags": []
     },
     "output_type": "execute_result"
    },
    {
     "data": {
      "image/png": "[encoded data removed]",
      "text/plain": [
       "<Figure size 432x288 with 1 Axes>"
      ]
     },
     "metadata": {
      "needs_background": "light",
      "tags": []
     },
     "output_type": "display_data"
    }
   ],
   "source": [
    "sns.boxplot(y='sub-class',x='profit',data=df)\n"
   ]
  },
  {
   "cell_type": "code",
   "execution_count": 402,
   "metadata": {
    "colab": {
     "base_uri": "https://localhost:8080/",
     "height": 296
    },
    "id": "bTi-LnQCsXKN",
    "outputId": "b511426f-dfbe-40fb-cb0c-48efed67803d"
   },
   "outputs": [
    {
     "data": {
      "text/plain": [
       "<matplotlib.axes._subplots.AxesSubplot at 0x7f9958881510>"
      ]
     },
     "execution_count": 402,
     "metadata": {
      "tags": []
     },
     "output_type": "execute_result"
    },
    {
     "data": {
      "image/png": "[encoded data removed]",
      "text/plain": [
       "<Figure size 432x288 with 1 Axes>"
      ]
     },
     "metadata": {
      "needs_background": "light",
      "tags": []
     },
     "output_type": "display_data"
    }
   ],
   "source": [
    "sns.barplot(y='sub-class',x='profit',data=df)"
   ]
  },
  {
   "cell_type": "code",
   "execution_count": 403,
   "metadata": {
    "id": "tvws6MOwhyNu"
   },
   "outputs": [],
   "source": [
    "# sub={'fastfood':17,'phone':16,'tablet':15,'television':14,'watch':13,'chocolates':12,'sweets':11,'tshirts':10,'battery':9,'colddrinks':8,'laptop':7,'headset':6,'shorts':5,'pants':4,'charger':3,'lighting':2,'hoddies':1}\n",
    "sub={'fastfood':17,'sweets':16,'chocolates':15,'colddrinks':14,'tshirts':13,'battery':12,'laptop':11,'phone':10,'watch':9,'headset':8,'shorts':7,'tablet':6,'television':5,'pants':4,'charger':3,'lighting':2,'hoddies':1}\n",
    "df['sub_class_map']=df['sub-class'].map(sub)"
   ]
  },
  {
   "cell_type": "code",
   "execution_count": 404,
   "metadata": {
    "colab": {
     "base_uri": "https://localhost:8080/"
    },
    "id": "zawskd6Ds2_z",
    "outputId": "cd0a0540-dfae-4c65-ec05-c1a62e2b1553"
   },
   "outputs": [
    {
     "data": {
      "text/plain": [
       "Standard Class    4067\n",
       "Second Class      1286\n",
       "First Class        964\n",
       "Same Day           356\n",
       "Name: delivery type, dtype: int64"
      ]
     },
     "execution_count": 404,
     "metadata": {
      "tags": []
     },
     "output_type": "execute_result"
    }
   ],
   "source": [
    "df['delivery type'].value_counts()"
   ]
  },
  {
   "cell_type": "code",
   "execution_count": 405,
   "metadata": {
    "colab": {
     "base_uri": "https://localhost:8080/",
     "height": 296
    },
    "id": "LJULgjW7saHL",
    "outputId": "8831f0a5-5bd0-4b61-a002-422b4cdbac6b"
   },
   "outputs": [
    {
     "data": {
      "text/plain": [
       "<matplotlib.axes._subplots.AxesSubplot at 0x7f99563a0050>"
      ]
     },
     "execution_count": 405,
     "metadata": {
      "tags": []
     },
     "output_type": "execute_result"
    },
    {
     "data": {
      "image/png": "[encoded data removed]",
      "text/plain": [
       "<Figure size 432x288 with 1 Axes>"
      ]
     },
     "metadata": {
      "needs_background": "light",
      "tags": []
     },
     "output_type": "display_data"
    }
   ],
   "source": [
    "sns.boxplot(x='delivery type',y='profit',data=df)\n"
   ]
  },
  {
   "cell_type": "code",
   "execution_count": 406,
   "metadata": {
    "colab": {
     "base_uri": "https://localhost:8080/",
     "height": 296
    },
    "id": "RqoRkaCwsskT",
    "outputId": "a1c2206d-0b06-4297-856b-55398d3cb166"
   },
   "outputs": [
    {
     "data": {
      "text/plain": [
       "<matplotlib.axes._subplots.AxesSubplot at 0x7f9956340410>"
      ]
     },
     "execution_count": 406,
     "metadata": {
      "tags": []
     },
     "output_type": "execute_result"
    },
    {
     "data": {
      "image/png": "[encoded data removed]",
      "text/plain": [
       "<Figure size 432x288 with 1 Axes>"
      ]
     },
     "metadata": {
      "needs_background": "light",
      "tags": []
     },
     "output_type": "display_data"
    }
   ],
   "source": [
    "sns.barplot(x='delivery type',y='profit',data=df)\n",
    "\n"
   ]
  },
  {
   "cell_type": "code",
   "execution_count": 407,
   "metadata": {
    "id": "6-z6Jby0k6wz"
   },
   "outputs": [],
   "source": [
    "delivery={'First Class':4,'Same Day':3,'Second Class':2,'Standard Class':1}\n",
    "df['del_map']=df['delivery type'].map(delivery)"
   ]
  },
  {
   "cell_type": "code",
   "execution_count": 408,
   "metadata": {
    "colab": {
     "base_uri": "https://localhost:8080/",
     "height": 357
    },
    "id": "1LOUnTFyswgo",
    "outputId": "c592a097-0cfc-4e43-e645-2bd20c28b75c"
   },
   "outputs": [
    {
     "data": {
      "text/html": [
       "<div>\n",
       "<style scoped>\n",
       "    .dataframe tbody tr th:only-of-type {\n",
       "        vertical-align: middle;\n",
       "    }\n",
       "\n",
       "    .dataframe tbody tr th {\n",
       "        vertical-align: top;\n",
       "    }\n",
       "\n",
       "    .dataframe thead th {\n",
       "        text-align: right;\n",
       "    }\n",
       "</style>\n",
       "<table border=\"1\" class=\"dataframe\">\n",
       "  <thead>\n",
       "    <tr style=\"text-align: right;\">\n",
       "      <th></th>\n",
       "      <th>departure city</th>\n",
       "      <th>discount</th>\n",
       "      <th>price</th>\n",
       "      <th>no of items</th>\n",
       "      <th>location</th>\n",
       "      <th>class</th>\n",
       "      <th>segment</th>\n",
       "      <th>sub-class</th>\n",
       "      <th>delivery type</th>\n",
       "      <th>RID</th>\n",
       "      <th>profit</th>\n",
       "      <th>delivery date</th>\n",
       "      <th>address code</th>\n",
       "      <th>departure state</th>\n",
       "      <th>placement date</th>\n",
       "      <th>item_map</th>\n",
       "      <th>loc_map</th>\n",
       "      <th>class_map</th>\n",
       "      <th>seg_map</th>\n",
       "      <th>sub_class_map</th>\n",
       "      <th>del_map</th>\n",
       "    </tr>\n",
       "    <tr>\n",
       "      <th>id</th>\n",
       "      <th></th>\n",
       "      <th></th>\n",
       "      <th></th>\n",
       "      <th></th>\n",
       "      <th></th>\n",
       "      <th></th>\n",
       "      <th></th>\n",
       "      <th></th>\n",
       "      <th></th>\n",
       "      <th></th>\n",
       "      <th></th>\n",
       "      <th></th>\n",
       "      <th></th>\n",
       "      <th></th>\n",
       "      <th></th>\n",
       "      <th></th>\n",
       "      <th></th>\n",
       "      <th></th>\n",
       "      <th></th>\n",
       "      <th></th>\n",
       "      <th></th>\n",
       "    </tr>\n",
       "  </thead>\n",
       "  <tbody>\n",
       "    <tr>\n",
       "      <th>1</th>\n",
       "      <td>Houston</td>\n",
       "      <td>0.2</td>\n",
       "      <td>16.448</td>\n",
       "      <td>2</td>\n",
       "      <td>Central</td>\n",
       "      <td>kariox</td>\n",
       "      <td>Consumer</td>\n",
       "      <td>phone</td>\n",
       "      <td>Standard Class</td>\n",
       "      <td>7981</td>\n",
       "      <td>5.5512</td>\n",
       "      <td>2018-01-01</td>\n",
       "      <td>77095</td>\n",
       "      <td>Texas</td>\n",
       "      <td>2018-01-01</td>\n",
       "      <td>2</td>\n",
       "      <td>4</td>\n",
       "      <td>2</td>\n",
       "      <td>2</td>\n",
       "      <td>10.0</td>\n",
       "      <td>1.0</td>\n",
       "    </tr>\n",
       "    <tr>\n",
       "      <th>2</th>\n",
       "      <td>Westland</td>\n",
       "      <td>0.0</td>\n",
       "      <td>29.700</td>\n",
       "      <td>5</td>\n",
       "      <td>Central</td>\n",
       "      <td>kariox</td>\n",
       "      <td>Consumer</td>\n",
       "      <td>headset</td>\n",
       "      <td>Standard Class</td>\n",
       "      <td>6334</td>\n",
       "      <td>13.3650</td>\n",
       "      <td>2018-01-01</td>\n",
       "      <td>48185</td>\n",
       "      <td>Michigan</td>\n",
       "      <td>2018-01-01</td>\n",
       "      <td>7</td>\n",
       "      <td>4</td>\n",
       "      <td>2</td>\n",
       "      <td>2</td>\n",
       "      <td>8.0</td>\n",
       "      <td>1.0</td>\n",
       "    </tr>\n",
       "    <tr>\n",
       "      <th>3</th>\n",
       "      <td>Westland</td>\n",
       "      <td>0.0</td>\n",
       "      <td>14.730</td>\n",
       "      <td>3</td>\n",
       "      <td>Central</td>\n",
       "      <td>qexty</td>\n",
       "      <td>Consumer</td>\n",
       "      <td>shorts</td>\n",
       "      <td>Standard Class</td>\n",
       "      <td>6333</td>\n",
       "      <td>4.8609</td>\n",
       "      <td>2018-01-01</td>\n",
       "      <td>48185</td>\n",
       "      <td>Michigan</td>\n",
       "      <td>2018-01-01</td>\n",
       "      <td>3</td>\n",
       "      <td>4</td>\n",
       "      <td>1</td>\n",
       "      <td>2</td>\n",
       "      <td>7.0</td>\n",
       "      <td>1.0</td>\n",
       "    </tr>\n",
       "    <tr>\n",
       "      <th>4</th>\n",
       "      <td>Westland</td>\n",
       "      <td>0.0</td>\n",
       "      <td>43.920</td>\n",
       "      <td>3</td>\n",
       "      <td>Central</td>\n",
       "      <td>kariox</td>\n",
       "      <td>Consumer</td>\n",
       "      <td>television</td>\n",
       "      <td>Standard Class</td>\n",
       "      <td>6332</td>\n",
       "      <td>12.7368</td>\n",
       "      <td>2018-01-01</td>\n",
       "      <td>48185</td>\n",
       "      <td>Michigan</td>\n",
       "      <td>2018-01-01</td>\n",
       "      <td>3</td>\n",
       "      <td>4</td>\n",
       "      <td>2</td>\n",
       "      <td>2</td>\n",
       "      <td>5.0</td>\n",
       "      <td>1.0</td>\n",
       "    </tr>\n",
       "    <tr>\n",
       "      <th>5</th>\n",
       "      <td>Westland</td>\n",
       "      <td>0.0</td>\n",
       "      <td>66.580</td>\n",
       "      <td>2</td>\n",
       "      <td>Central</td>\n",
       "      <td>kariox</td>\n",
       "      <td>Consumer</td>\n",
       "      <td>laptop</td>\n",
       "      <td>Standard Class</td>\n",
       "      <td>6331</td>\n",
       "      <td>15.9792</td>\n",
       "      <td>2018-01-01</td>\n",
       "      <td>48185</td>\n",
       "      <td>Michigan</td>\n",
       "      <td>2018-01-01</td>\n",
       "      <td>2</td>\n",
       "      <td>4</td>\n",
       "      <td>2</td>\n",
       "      <td>2</td>\n",
       "      <td>11.0</td>\n",
       "      <td>1.0</td>\n",
       "    </tr>\n",
       "  </tbody>\n",
       "</table>\n",
       "</div>"
      ],
      "text/plain": [
       "   departure city  discount   price  ...  seg_map sub_class_map del_map\n",
       "id                                   ...                               \n",
       "1         Houston       0.2  16.448  ...        2          10.0     1.0\n",
       "2        Westland       0.0  29.700  ...        2           8.0     1.0\n",
       "3        Westland       0.0  14.730  ...        2           7.0     1.0\n",
       "4        Westland       0.0  43.920  ...        2           5.0     1.0\n",
       "5        Westland       0.0  66.580  ...        2          11.0     1.0\n",
       "\n",
       "[5 rows x 21 columns]"
      ]
     },
     "execution_count": 408,
     "metadata": {
      "tags": []
     },
     "output_type": "execute_result"
    }
   ],
   "source": [
    "df.head()"
   ]
  },
  {
   "cell_type": "code",
   "execution_count": 409,
   "metadata": {
    "colab": {
     "base_uri": "https://localhost:8080/"
    },
    "id": "ZUwUGE78tFhO",
    "outputId": "557cfc74-f837-411b-ded4-7eec2325ce8d"
   },
   "outputs": [
    {
     "data": {
      "text/plain": [
       "departure state\n",
       "Alabama                 117.565516\n",
       "Arizona                 -13.740675\n",
       "Arkansas                 74.372790\n",
       "California               35.164709\n",
       "Colorado                -17.289336\n",
       "Connecticut              42.327713\n",
       "Delaware                 50.963245\n",
       "District of Columbia    128.065663\n",
       "Florida                  -3.211860\n",
       "Georgia                  54.300818\n",
       "Idaho                    48.285731\n",
       "Illinois                -17.851031\n",
       "Indiana                  55.671662\n",
       "Iowa                     64.853436\n",
       "Kansas                   31.837728\n",
       "Kentucky                 73.272445\n",
       "Louisiana                35.114221\n",
       "Maine                    56.810775\n",
       "Maryland                 62.508409\n",
       "Massachusetts            52.863695\n",
       "Michigan                 49.772869\n",
       "Minnesota                74.656660\n",
       "Mississippi              53.610355\n",
       "Missouri                 61.533664\n",
       "Montana                 130.211036\n",
       "Nebraska                 39.859425\n",
       "Nevada                   43.724007\n",
       "New Hampshire            61.314440\n",
       "New Jersey               59.777457\n",
       "New Mexico               21.981713\n",
       "New York                 52.804424\n",
       "North Carolina           -3.313291\n",
       "Ohio                    -19.539886\n",
       "Oklahoma                 63.249069\n",
       "Oregon                   -8.652604\n",
       "Pennsylvania            -22.576105\n",
       "Rhode Island            124.301735\n",
       "South Carolina           43.365268\n",
       "South Dakota             12.189150\n",
       "Tennessee                -9.624109\n",
       "Texas                   -11.035753\n",
       "Utah                     54.456811\n",
       "Vermont                 266.748050\n",
       "Virginia                 77.733066\n",
       "Washington               54.765522\n",
       "Wisconsin                89.334022\n",
       "Wyoming                 100.196000\n",
       "Name: profit, dtype: float64"
      ]
     },
     "execution_count": 409,
     "metadata": {
      "tags": []
     },
     "output_type": "execute_result"
    }
   ],
   "source": [
    "df.groupby('departure state')['profit'].mean()"
   ]
  },
  {
   "cell_type": "code",
   "execution_count": 410,
   "metadata": {
    "colab": {
     "base_uri": "https://localhost:8080/"
    },
    "id": "pTuy_rVpvIuA",
    "outputId": "a1d329e3-4d83-4899-ac8e-ba6f03c89bb8"
   },
   "outputs": [
    {
     "data": {
      "text/plain": [
       "[266.74805,\n",
       " 130.2110357142857,\n",
       " 128.0656625,\n",
       " 124.30173529411765,\n",
       " 117.56551555555555,\n",
       " 100.196,\n",
       " 89.33402207792204,\n",
       " 77.73306555555554,\n",
       " 74.65666,\n",
       " 74.37279024390247,\n",
       " 73.27244545454545,\n",
       " 64.85343571428572,\n",
       " 63.249069387755085,\n",
       " 62.508408823529436,\n",
       " 61.53366410256411,\n",
       " 61.31443999999999,\n",
       " 59.77745697674421,\n",
       " 56.81077500000001,\n",
       " 55.67166206896551,\n",
       " 54.76552195945939,\n",
       " 54.45681052631579,\n",
       " 54.300818032786886,\n",
       " 53.610354999999984,\n",
       " 52.863694791666695,\n",
       " 52.804423544631334,\n",
       " 50.963245454545444,\n",
       " 49.772868947368394,\n",
       " 48.28573076923078,\n",
       " 43.724006666666675,\n",
       " 43.36526764705883,\n",
       " 42.32771250000001,\n",
       " 39.859425,\n",
       " 35.16470896191192,\n",
       " 35.11422142857143,\n",
       " 31.83772777777778,\n",
       " 21.981713333333335,\n",
       " 12.189150000000001,\n",
       " -3.2118600790513847,\n",
       " -3.3132907975460104,\n",
       " -8.652604255319146,\n",
       " -9.62410891089109,\n",
       " -11.03575309200603,\n",
       " -13.740675000000001,\n",
       " -17.28933553719008,\n",
       " -17.85103095975234,\n",
       " -19.539885901639337,\n",
       " -22.57610462724936]"
      ]
     },
     "execution_count": 410,
     "metadata": {
      "tags": []
     },
     "output_type": "execute_result"
    }
   ],
   "source": [
    "df.groupby('departure state')['profit'].describe().sort_values('mean',ascending=False)['mean'].tolist()"
   ]
  },
  {
   "cell_type": "code",
   "execution_count": 411,
   "metadata": {
    "id": "3khIIkdbtMID"
   },
   "outputs": [],
   "source": [
    "df_dic = df.groupby('departure state')['profit'].mean().reset_index()\n"
   ]
  },
  {
   "cell_type": "code",
   "execution_count": 412,
   "metadata": {
    "id": "xpiFMgAruUuC"
   },
   "outputs": [],
   "source": [
    "df_dic['loc_class'] = pd.cut(x = df_dic['profit'], bins = [-50,0,50,100,300] , labels = [1,2,3,4])"
   ]
  },
  {
   "cell_type": "code",
   "execution_count": 413,
   "metadata": {
    "id": "SRvybaGou4gZ"
   },
   "outputs": [],
   "source": [
    "df_dic['loc_class'] = df_dic['loc_class'].astype(int)"
   ]
  },
  {
   "cell_type": "code",
   "execution_count": 414,
   "metadata": {
    "id": "LCJ2gQl5wrvF"
   },
   "outputs": [],
   "source": [
    "dep_state = df_dic.groupby('departure state')['loc_class'].mean().to_dict()"
   ]
  },
  {
   "cell_type": "code",
   "execution_count": 415,
   "metadata": {
    "id": "yPnAuj3Iwy6E"
   },
   "outputs": [],
   "source": [
    "df['dep_class'] = df['departure state'].map(dep_state)"
   ]
  },
  {
   "cell_type": "code",
   "execution_count": 416,
   "metadata": {
    "colab": {
     "base_uri": "https://localhost:8080/",
     "height": 357
    },
    "id": "Hian2xOXw68U",
    "outputId": "3f078fff-a87c-4918-8f3b-51af857dd8e0"
   },
   "outputs": [
    {
     "data": {
      "text/html": [
       "<div>\n",
       "<style scoped>\n",
       "    .dataframe tbody tr th:only-of-type {\n",
       "        vertical-align: middle;\n",
       "    }\n",
       "\n",
       "    .dataframe tbody tr th {\n",
       "        vertical-align: top;\n",
       "    }\n",
       "\n",
       "    .dataframe thead th {\n",
       "        text-align: right;\n",
       "    }\n",
       "</style>\n",
       "<table border=\"1\" class=\"dataframe\">\n",
       "  <thead>\n",
       "    <tr style=\"text-align: right;\">\n",
       "      <th></th>\n",
       "      <th>departure city</th>\n",
       "      <th>discount</th>\n",
       "      <th>price</th>\n",
       "      <th>no of items</th>\n",
       "      <th>location</th>\n",
       "      <th>class</th>\n",
       "      <th>segment</th>\n",
       "      <th>sub-class</th>\n",
       "      <th>delivery type</th>\n",
       "      <th>RID</th>\n",
       "      <th>profit</th>\n",
       "      <th>delivery date</th>\n",
       "      <th>address code</th>\n",
       "      <th>departure state</th>\n",
       "      <th>placement date</th>\n",
       "      <th>item_map</th>\n",
       "      <th>loc_map</th>\n",
       "      <th>class_map</th>\n",
       "      <th>seg_map</th>\n",
       "      <th>sub_class_map</th>\n",
       "      <th>del_map</th>\n",
       "      <th>dep_class</th>\n",
       "    </tr>\n",
       "    <tr>\n",
       "      <th>id</th>\n",
       "      <th></th>\n",
       "      <th></th>\n",
       "      <th></th>\n",
       "      <th></th>\n",
       "      <th></th>\n",
       "      <th></th>\n",
       "      <th></th>\n",
       "      <th></th>\n",
       "      <th></th>\n",
       "      <th></th>\n",
       "      <th></th>\n",
       "      <th></th>\n",
       "      <th></th>\n",
       "      <th></th>\n",
       "      <th></th>\n",
       "      <th></th>\n",
       "      <th></th>\n",
       "      <th></th>\n",
       "      <th></th>\n",
       "      <th></th>\n",
       "      <th></th>\n",
       "      <th></th>\n",
       "    </tr>\n",
       "  </thead>\n",
       "  <tbody>\n",
       "    <tr>\n",
       "      <th>1</th>\n",
       "      <td>Houston</td>\n",
       "      <td>0.2</td>\n",
       "      <td>16.448</td>\n",
       "      <td>2</td>\n",
       "      <td>Central</td>\n",
       "      <td>kariox</td>\n",
       "      <td>Consumer</td>\n",
       "      <td>phone</td>\n",
       "      <td>Standard Class</td>\n",
       "      <td>7981</td>\n",
       "      <td>5.5512</td>\n",
       "      <td>2018-01-01</td>\n",
       "      <td>77095</td>\n",
       "      <td>Texas</td>\n",
       "      <td>2018-01-01</td>\n",
       "      <td>2</td>\n",
       "      <td>4</td>\n",
       "      <td>2</td>\n",
       "      <td>2</td>\n",
       "      <td>10.0</td>\n",
       "      <td>1.0</td>\n",
       "      <td>1</td>\n",
       "    </tr>\n",
       "    <tr>\n",
       "      <th>2</th>\n",
       "      <td>Westland</td>\n",
       "      <td>0.0</td>\n",
       "      <td>29.700</td>\n",
       "      <td>5</td>\n",
       "      <td>Central</td>\n",
       "      <td>kariox</td>\n",
       "      <td>Consumer</td>\n",
       "      <td>headset</td>\n",
       "      <td>Standard Class</td>\n",
       "      <td>6334</td>\n",
       "      <td>13.3650</td>\n",
       "      <td>2018-01-01</td>\n",
       "      <td>48185</td>\n",
       "      <td>Michigan</td>\n",
       "      <td>2018-01-01</td>\n",
       "      <td>7</td>\n",
       "      <td>4</td>\n",
       "      <td>2</td>\n",
       "      <td>2</td>\n",
       "      <td>8.0</td>\n",
       "      <td>1.0</td>\n",
       "      <td>2</td>\n",
       "    </tr>\n",
       "    <tr>\n",
       "      <th>3</th>\n",
       "      <td>Westland</td>\n",
       "      <td>0.0</td>\n",
       "      <td>14.730</td>\n",
       "      <td>3</td>\n",
       "      <td>Central</td>\n",
       "      <td>qexty</td>\n",
       "      <td>Consumer</td>\n",
       "      <td>shorts</td>\n",
       "      <td>Standard Class</td>\n",
       "      <td>6333</td>\n",
       "      <td>4.8609</td>\n",
       "      <td>2018-01-01</td>\n",
       "      <td>48185</td>\n",
       "      <td>Michigan</td>\n",
       "      <td>2018-01-01</td>\n",
       "      <td>3</td>\n",
       "      <td>4</td>\n",
       "      <td>1</td>\n",
       "      <td>2</td>\n",
       "      <td>7.0</td>\n",
       "      <td>1.0</td>\n",
       "      <td>2</td>\n",
       "    </tr>\n",
       "    <tr>\n",
       "      <th>4</th>\n",
       "      <td>Westland</td>\n",
       "      <td>0.0</td>\n",
       "      <td>43.920</td>\n",
       "      <td>3</td>\n",
       "      <td>Central</td>\n",
       "      <td>kariox</td>\n",
       "      <td>Consumer</td>\n",
       "      <td>television</td>\n",
       "      <td>Standard Class</td>\n",
       "      <td>6332</td>\n",
       "      <td>12.7368</td>\n",
       "      <td>2018-01-01</td>\n",
       "      <td>48185</td>\n",
       "      <td>Michigan</td>\n",
       "      <td>2018-01-01</td>\n",
       "      <td>3</td>\n",
       "      <td>4</td>\n",
       "      <td>2</td>\n",
       "      <td>2</td>\n",
       "      <td>5.0</td>\n",
       "      <td>1.0</td>\n",
       "      <td>2</td>\n",
       "    </tr>\n",
       "    <tr>\n",
       "      <th>5</th>\n",
       "      <td>Westland</td>\n",
       "      <td>0.0</td>\n",
       "      <td>66.580</td>\n",
       "      <td>2</td>\n",
       "      <td>Central</td>\n",
       "      <td>kariox</td>\n",
       "      <td>Consumer</td>\n",
       "      <td>laptop</td>\n",
       "      <td>Standard Class</td>\n",
       "      <td>6331</td>\n",
       "      <td>15.9792</td>\n",
       "      <td>2018-01-01</td>\n",
       "      <td>48185</td>\n",
       "      <td>Michigan</td>\n",
       "      <td>2018-01-01</td>\n",
       "      <td>2</td>\n",
       "      <td>4</td>\n",
       "      <td>2</td>\n",
       "      <td>2</td>\n",
       "      <td>11.0</td>\n",
       "      <td>1.0</td>\n",
       "      <td>2</td>\n",
       "    </tr>\n",
       "  </tbody>\n",
       "</table>\n",
       "</div>"
      ],
      "text/plain": [
       "   departure city  discount   price  ...  sub_class_map del_map dep_class\n",
       "id                                   ...                                 \n",
       "1         Houston       0.2  16.448  ...           10.0     1.0         1\n",
       "2        Westland       0.0  29.700  ...            8.0     1.0         2\n",
       "3        Westland       0.0  14.730  ...            7.0     1.0         2\n",
       "4        Westland       0.0  43.920  ...            5.0     1.0         2\n",
       "5        Westland       0.0  66.580  ...           11.0     1.0         2\n",
       "\n",
       "[5 rows x 22 columns]"
      ]
     },
     "execution_count": 416,
     "metadata": {
      "tags": []
     },
     "output_type": "execute_result"
    }
   ],
   "source": [
    "df.head()"
   ]
  },
  {
   "cell_type": "code",
   "execution_count": 417,
   "metadata": {
    "colab": {
     "base_uri": "https://localhost:8080/"
    },
    "id": "LRec-G0Mw8Ts",
    "outputId": "3aeda793-4ae9-47bc-993c-52417856aa41"
   },
   "outputs": [
    {
     "data": {
      "text/plain": [
       "[642.8857499999999,\n",
       " 477.4212,\n",
       " 395.7479,\n",
       " 356.225,\n",
       " 277.38315,\n",
       " 254.84459999999999,\n",
       " 225.8313,\n",
       " 218.30646666666667,\n",
       " 214.9418666666667,\n",
       " 197.8383875,\n",
       " 197.80265454545454,\n",
       " 159.22480000000002,\n",
       " 158.41171666666665,\n",
       " 152.495,\n",
       " 152.41039166666667,\n",
       " 147.09998333333334,\n",
       " 146.4036,\n",
       " 145.2816,\n",
       " 140.86516,\n",
       " 134.76435,\n",
       " 133.08245,\n",
       " 128.0656625,\n",
       " 125.8890125,\n",
       " 121.55194999999999,\n",
       " 120.23112608695652,\n",
       " 119.91311111111109,\n",
       " 118.71013750000002,\n",
       " 118.34866363636364,\n",
       " 115.75424615384617,\n",
       " 115.10452000000001,\n",
       " 111.0668,\n",
       " 110.51135,\n",
       " 110.0528,\n",
       " 102.97095,\n",
       " 100.196,\n",
       " 99.65924444444445,\n",
       " 97.98893333333335,\n",
       " 96.9651,\n",
       " 92.35585555555555,\n",
       " 92.0835,\n",
       " 88.32825,\n",
       " 88.27301904761904,\n",
       " 86.71202727272727,\n",
       " 84.44408000000001,\n",
       " 83.80644,\n",
       " 82.9507,\n",
       " 82.81153333333334,\n",
       " 82.52032222222223,\n",
       " 82.25283448275862,\n",
       " 81.583,\n",
       " 80.736,\n",
       " 79.48148666666665,\n",
       " 78.70830000000001,\n",
       " 77.27137499999999,\n",
       " 76.17866666666666,\n",
       " 75.20911666666667,\n",
       " 74.99786666666667,\n",
       " 73.16365714285713,\n",
       " 72.75079999999998,\n",
       " 70.3548,\n",
       " 70.10736999999999,\n",
       " 69.52958823529411,\n",
       " 68.2266,\n",
       " 67.992,\n",
       " 67.44062857142858,\n",
       " 66.98431428571429,\n",
       " 66.36558823529411,\n",
       " 65.81311666666666,\n",
       " 65.5741,\n",
       " 65.3654,\n",
       " 63.8416,\n",
       " 63.8035875,\n",
       " 62.51544000000001,\n",
       " 62.46862258064517,\n",
       " 61.3833,\n",
       " 60.91990384615386,\n",
       " 60.391999999999996,\n",
       " 60.338580000000015,\n",
       " 59.7939,\n",
       " 59.73910000000001,\n",
       " 59.469766666666665,\n",
       " 59.4555,\n",
       " 58.926095833333335,\n",
       " 58.805800000000005,\n",
       " 58.64891111111111,\n",
       " 57.534866666666666,\n",
       " 57.18564745762711,\n",
       " 57.12024444444445,\n",
       " 56.75223333333334,\n",
       " 56.26932674418605,\n",
       " 56.16013333333333,\n",
       " 56.00591666666668,\n",
       " 55.916266666666665,\n",
       " 55.30091363636363,\n",
       " 54.64294036243829,\n",
       " 54.59012868525889,\n",
       " 54.41522,\n",
       " 53.845274074074084,\n",
       " 53.762847368421056,\n",
       " 53.004400000000004,\n",
       " 52.7705,\n",
       " 50.50337142857143,\n",
       " 49.6048,\n",
       " 49.294200000000004,\n",
       " 49.0209,\n",
       " 48.878992307692315,\n",
       " 48.40589374999999,\n",
       " 48.296,\n",
       " 48.229548000000015,\n",
       " 47.83077142857143,\n",
       " 47.058299999999996,\n",
       " 46.99349999999999,\n",
       " 46.7604,\n",
       " 46.59186666666667,\n",
       " 45.78316,\n",
       " 45.579499999999996,\n",
       " 45.294,\n",
       " 45.2732,\n",
       " 44.654337500000004,\n",
       " 43.83398,\n",
       " 43.37592000000001,\n",
       " 42.649,\n",
       " 42.269169999999995,\n",
       " 42.110153846153835,\n",
       " 41.48216,\n",
       " 41.18725833333335,\n",
       " 40.998132116788305,\n",
       " 40.236275,\n",
       " 40.208074999999994,\n",
       " 40.05217931034483,\n",
       " 39.67815,\n",
       " 39.38215,\n",
       " 39.087466666666664,\n",
       " 38.93425,\n",
       " 38.57073333333333,\n",
       " 38.00336923076923,\n",
       " 37.92049230769231,\n",
       " 37.90244665427509,\n",
       " 37.894475,\n",
       " 37.730260683760676,\n",
       " 37.00110909090909,\n",
       " 36.97665714285714,\n",
       " 36.451950000000004,\n",
       " 35.36301,\n",
       " 35.211400000000005,\n",
       " 35.199799999999996,\n",
       " 35.19735531914894,\n",
       " 35.14702,\n",
       " 34.7519,\n",
       " 34.742,\n",
       " 34.6983,\n",
       " 34.54369523809524,\n",
       " 34.386874999999996,\n",
       " 34.264399999999995,\n",
       " 34.09404012539183,\n",
       " 34.0046,\n",
       " 33.803399999999996,\n",
       " 33.795233333333336,\n",
       " 33.52206551724137,\n",
       " 33.45361000000001,\n",
       " 32.1241,\n",
       " 32.038799999999995,\n",
       " 31.883399999999998,\n",
       " 31.66336,\n",
       " 31.152733333333337,\n",
       " 31.129266666666666,\n",
       " 31.094590476190483,\n",
       " 31.04715,\n",
       " 30.172880000000003,\n",
       " 30.0314,\n",
       " 30.0144,\n",
       " 29.969192307692307,\n",
       " 29.7465,\n",
       " 29.661066666666667,\n",
       " 29.358284000000005,\n",
       " 28.956551515151514,\n",
       " 28.837175000000002,\n",
       " 28.777350000000002,\n",
       " 28.663353846153843,\n",
       " 28.384725,\n",
       " 28.382025000000006,\n",
       " 27.422833333333333,\n",
       " 27.398400000000002,\n",
       " 26.933093333333332,\n",
       " 26.859,\n",
       " 26.8442,\n",
       " 26.698973333333335,\n",
       " 26.64294,\n",
       " 26.6304,\n",
       " 26.46766666666667,\n",
       " 26.361485,\n",
       " 26.3436,\n",
       " 26.195875,\n",
       " 26.08037142857143,\n",
       " 25.810084210526316,\n",
       " 25.471725000000003,\n",
       " 25.368399999999998,\n",
       " 25.15414285714286,\n",
       " 25.077923809523803,\n",
       " 25.0182,\n",
       " 24.322774999999996,\n",
       " 24.14225,\n",
       " 23.9984,\n",
       " 23.9389,\n",
       " 23.871399999999998,\n",
       " 23.5672,\n",
       " 23.49,\n",
       " 22.7897,\n",
       " 22.607650000000003,\n",
       " 22.459999999999997,\n",
       " 22.3842,\n",
       " 22.339533333333325,\n",
       " 22.2196,\n",
       " 22.0536125,\n",
       " 22.011950000000002,\n",
       " 21.997500000000002,\n",
       " 21.27314,\n",
       " 21.27095,\n",
       " 20.659075,\n",
       " 20.545941176470585,\n",
       " 20.534460000000003,\n",
       " 20.40588666666667,\n",
       " 19.770725,\n",
       " 19.746100000000002,\n",
       " 19.56553333333333,\n",
       " 19.383584615384613,\n",
       " 18.454283333333333,\n",
       " 18.338225,\n",
       " 18.0678,\n",
       " 18.0648,\n",
       " 17.94785,\n",
       " 17.82208888888889,\n",
       " 17.745,\n",
       " 17.62933333333334,\n",
       " 17.520166666666665,\n",
       " 17.216425000000005,\n",
       " 17.00815,\n",
       " 16.9087,\n",
       " 16.298907142857146,\n",
       " 16.2688,\n",
       " 16.04085,\n",
       " 15.903,\n",
       " 15.855185714285716,\n",
       " 15.552,\n",
       " 15.520950000000001,\n",
       " 14.9639,\n",
       " 14.956066666666667,\n",
       " 14.539699999999998,\n",
       " 14.24992,\n",
       " 14.1854,\n",
       " 14.17,\n",
       " 14.1426,\n",
       " 13.8579,\n",
       " 13.821399999999999,\n",
       " 13.4899,\n",
       " 13.282,\n",
       " 13.250266666666667,\n",
       " 13.216450000000004,\n",
       " 13.208,\n",
       " 13.13083,\n",
       " 12.988949999999999,\n",
       " 12.892183333333334,\n",
       " 12.711075000000001,\n",
       " 12.694833333333333,\n",
       " 12.489,\n",
       " 12.4421,\n",
       " 12.43228,\n",
       " 12.2328,\n",
       " 12.1851,\n",
       " 12.113999999999999,\n",
       " 11.68,\n",
       " 11.6298,\n",
       " 11.608792307692305,\n",
       " 11.608400000000001,\n",
       " 11.54195,\n",
       " 11.429224999999999,\n",
       " 11.305050000000001,\n",
       " 11.226550000000001,\n",
       " 11.178899999999999,\n",
       " 11.131300000000001,\n",
       " 11.1129,\n",
       " 11.022533333333334,\n",
       " 10.9584,\n",
       " 10.8397,\n",
       " 10.8006,\n",
       " 10.70265,\n",
       " 10.6259,\n",
       " 10.552866666666667,\n",
       " 10.5364,\n",
       " 10.4053,\n",
       " 10.389733333333334,\n",
       " 10.344000000000001,\n",
       " 10.283320000000003,\n",
       " 10.008,\n",
       " 9.8988,\n",
       " 9.8328,\n",
       " 9.684733333333334,\n",
       " 9.39264,\n",
       " 9.33824,\n",
       " 9.3312,\n",
       " 9.25442,\n",
       " 9.07681,\n",
       " 9.006433333333334,\n",
       " 8.90505,\n",
       " 8.67398695652174,\n",
       " 8.662,\n",
       " 8.585475,\n",
       " 8.4816,\n",
       " 8.1319,\n",
       " 8.1024,\n",
       " 8.0178,\n",
       " 7.77577777777778,\n",
       " 7.7661999999999995,\n",
       " 7.7035,\n",
       " 7.4571,\n",
       " 6.9795,\n",
       " 6.894,\n",
       " 6.87735,\n",
       " 6.812,\n",
       " 6.757,\n",
       " 6.740599999999998,\n",
       " 6.60854,\n",
       " 6.5472,\n",
       " 6.5120000000000005,\n",
       " 6.3504,\n",
       " 6.314215384615384,\n",
       " 6.279715384615384,\n",
       " 6.2379999999999995,\n",
       " 6.1102799999999995,\n",
       " 6.090892857142856,\n",
       " 5.81265,\n",
       " 5.609366666666666,\n",
       " 5.462799999999999,\n",
       " 5.3898,\n",
       " 5.3308800000000005,\n",
       " 4.925224999999999,\n",
       " 4.9107,\n",
       " 4.665699999999999,\n",
       " 4.4955,\n",
       " 4.38745,\n",
       " 3.9032,\n",
       " 3.792,\n",
       " 3.6288,\n",
       " 3.574785714285714,\n",
       " 3.5386999999999995,\n",
       " 3.3616,\n",
       " 3.0576,\n",
       " 2.7144,\n",
       " 2.6936,\n",
       " 2.478,\n",
       " 2.4481249999999997,\n",
       " 2.3968,\n",
       " 2.3809607142857137,\n",
       " 2.3328,\n",
       " 2.3312,\n",
       " 2.198199999999999,\n",
       " 1.9941,\n",
       " 1.9615000000000002,\n",
       " 1.7764999999999995,\n",
       " 1.7207999999999999,\n",
       " 1.6575000000000002,\n",
       " 1.5399000000000003,\n",
       " 1.5275142857142845,\n",
       " 1.4689599999999998,\n",
       " 1.3522999999999996,\n",
       " 1.2348,\n",
       " 1.1946,\n",
       " 1.122250000000001,\n",
       " 1.0944636363636364,\n",
       " 0.9473625000000006,\n",
       " 0.722783116883116,\n",
       " 0.3864,\n",
       " -0.11160000000000003,\n",
       " -0.59175,\n",
       " -0.8036000000000001,\n",
       " -1.1401,\n",
       " -1.1534571428571436,\n",
       " -1.2689428571428572,\n",
       " -1.3584,\n",
       " -1.411733333333333,\n",
       " -1.476,\n",
       " -2.3462500000000004,\n",
       " -2.3893333333333344,\n",
       " -3.685899999999999,\n",
       " -4.20106923076923,\n",
       " -4.273,\n",
       " -4.274866666666667,\n",
       " -4.640942857142855,\n",
       " -4.6912811881188095,\n",
       " -4.835325,\n",
       " -5.3313999999999995,\n",
       " -5.4783,\n",
       " -5.555433333333334,\n",
       " -5.8293,\n",
       " -6.5355738095238065,\n",
       " -7.002586956521737,\n",
       " -7.023188235294119,\n",
       " -7.150228735632177,\n",
       " -7.476,\n",
       " -7.548533333333334,\n",
       " -7.97366,\n",
       " -8.132162962962964,\n",
       " -8.9152,\n",
       " -9.412075000000002,\n",
       " -9.566485714285715,\n",
       " -9.969375,\n",
       " -10.0721,\n",
       " -10.386,\n",
       " -10.955088560885613,\n",
       " -11.537416666666667,\n",
       " -11.826214999999998,\n",
       " -12.24465,\n",
       " -12.564062500000004,\n",
       " -13.027999999999999,\n",
       " -13.0835,\n",
       " -13.262369999999999,\n",
       " -14.7708,\n",
       " -15.64245,\n",
       " -16.61,\n",
       " -16.850466666666666,\n",
       " -16.968383333333332,\n",
       " -18.277881818181818,\n",
       " -19.094021739130437,\n",
       " -19.47818,\n",
       " -20.173392307692307,\n",
       " -20.275787853107353,\n",
       " -22.3586,\n",
       " -23.754659999999998,\n",
       " -23.823841666666667,\n",
       " -23.84396304347825,\n",
       " -24.27722857142857,\n",
       " -26.073934375000004,\n",
       " -27.10472857142857,\n",
       " -28.82645,\n",
       " -32.296600000000005,\n",
       " -32.35005714285714,\n",
       " -38.26736399999999,\n",
       " -39.08145555555555,\n",
       " -39.567,\n",
       " -41.057488888888884,\n",
       " -41.17913333333333,\n",
       " -44.8239,\n",
       " -45.85786304347827,\n",
       " -46.09828,\n",
       " -48.937527272727266,\n",
       " -50.441100000000006,\n",
       " -51.3379,\n",
       " -52.68565952380951,\n",
       " -53.033025,\n",
       " -56.949479999999994,\n",
       " -60.99783333333334,\n",
       " -67.9106,\n",
       " -72.07546666666666,\n",
       " -76.09260000000002,\n",
       " -79.3352,\n",
       " -87.97402500000001,\n",
       " -89.6243,\n",
       " -98.8018,\n",
       " -107.20620000000001,\n",
       " -110.0232,\n",
       " -112.62148749999999,\n",
       " -143.5007,\n",
       " -149.22717777777777,\n",
       " -154.25490000000002,\n",
       " -178.70919999999998,\n",
       " -182.352,\n",
       " -186.77552500000002,\n",
       " -188.8339,\n",
       " -200.61916000000002]"
      ]
     },
     "execution_count": 417,
     "metadata": {
      "tags": []
     },
     "output_type": "execute_result"
    }
   ],
   "source": [
    "df.groupby('departure city')['profit'].describe().sort_values('mean',ascending=False)['mean'].tolist()\n"
   ]
  },
  {
   "cell_type": "code",
   "execution_count": 418,
   "metadata": {
    "id": "26tsm41AxjaH"
   },
   "outputs": [],
   "source": [
    "df_dic = df.groupby('departure city')['profit'].mean().reset_index()\n"
   ]
  },
  {
   "cell_type": "code",
   "execution_count": 419,
   "metadata": {
    "colab": {
     "base_uri": "https://localhost:8080/"
    },
    "id": "cgcIiri6xss5",
    "outputId": "257f01bc-1992-4834-b773-1a892fa9e6ad"
   },
   "outputs": [
    {
     "data": {
      "text/plain": [
       "-200.61916000000002"
      ]
     },
     "execution_count": 419,
     "metadata": {
      "tags": []
     },
     "output_type": "execute_result"
    }
   ],
   "source": [
    "df_dic.profit.min()"
   ]
  },
  {
   "cell_type": "code",
   "execution_count": 420,
   "metadata": {
    "id": "67bng2Nkxq4k"
   },
   "outputs": [],
   "source": [
    "df_dic['loc_class'] = pd.cut(x = df_dic['profit'], bins = [-210,0,50,650] , labels = [1,2,3])\n"
   ]
  },
  {
   "cell_type": "code",
   "execution_count": 421,
   "metadata": {
    "id": "hR0wxtjjx-QH"
   },
   "outputs": [],
   "source": [
    "df_dic['loc_class'] = df_dic['loc_class'].astype(int)\n",
    "dep_city = df_dic.groupby('departure city')['loc_class'].mean().to_dict()\n",
    "df['dep_city_class'] = df['departure city'].map(dep_city)\n"
   ]
  },
  {
   "cell_type": "code",
   "execution_count": 422,
   "metadata": {
    "colab": {
     "base_uri": "https://localhost:8080/",
     "height": 357
    },
    "id": "rnxUfgTAx-jU",
    "outputId": "35095057-aa3b-4414-875b-a1c71fab526c"
   },
   "outputs": [
    {
     "data": {
      "text/html": [
       "<div>\n",
       "<style scoped>\n",
       "    .dataframe tbody tr th:only-of-type {\n",
       "        vertical-align: middle;\n",
       "    }\n",
       "\n",
       "    .dataframe tbody tr th {\n",
       "        vertical-align: top;\n",
       "    }\n",
       "\n",
       "    .dataframe thead th {\n",
       "        text-align: right;\n",
       "    }\n",
       "</style>\n",
       "<table border=\"1\" class=\"dataframe\">\n",
       "  <thead>\n",
       "    <tr style=\"text-align: right;\">\n",
       "      <th></th>\n",
       "      <th>departure city</th>\n",
       "      <th>discount</th>\n",
       "      <th>price</th>\n",
       "      <th>no of items</th>\n",
       "      <th>location</th>\n",
       "      <th>class</th>\n",
       "      <th>segment</th>\n",
       "      <th>sub-class</th>\n",
       "      <th>delivery type</th>\n",
       "      <th>RID</th>\n",
       "      <th>profit</th>\n",
       "      <th>delivery date</th>\n",
       "      <th>address code</th>\n",
       "      <th>departure state</th>\n",
       "      <th>placement date</th>\n",
       "      <th>item_map</th>\n",
       "      <th>loc_map</th>\n",
       "      <th>class_map</th>\n",
       "      <th>seg_map</th>\n",
       "      <th>sub_class_map</th>\n",
       "      <th>del_map</th>\n",
       "      <th>dep_class</th>\n",
       "      <th>dep_city_class</th>\n",
       "    </tr>\n",
       "    <tr>\n",
       "      <th>id</th>\n",
       "      <th></th>\n",
       "      <th></th>\n",
       "      <th></th>\n",
       "      <th></th>\n",
       "      <th></th>\n",
       "      <th></th>\n",
       "      <th></th>\n",
       "      <th></th>\n",
       "      <th></th>\n",
       "      <th></th>\n",
       "      <th></th>\n",
       "      <th></th>\n",
       "      <th></th>\n",
       "      <th></th>\n",
       "      <th></th>\n",
       "      <th></th>\n",
       "      <th></th>\n",
       "      <th></th>\n",
       "      <th></th>\n",
       "      <th></th>\n",
       "      <th></th>\n",
       "      <th></th>\n",
       "      <th></th>\n",
       "    </tr>\n",
       "  </thead>\n",
       "  <tbody>\n",
       "    <tr>\n",
       "      <th>1</th>\n",
       "      <td>Houston</td>\n",
       "      <td>0.2</td>\n",
       "      <td>16.448</td>\n",
       "      <td>2</td>\n",
       "      <td>Central</td>\n",
       "      <td>kariox</td>\n",
       "      <td>Consumer</td>\n",
       "      <td>phone</td>\n",
       "      <td>Standard Class</td>\n",
       "      <td>7981</td>\n",
       "      <td>5.5512</td>\n",
       "      <td>2018-01-01</td>\n",
       "      <td>77095</td>\n",
       "      <td>Texas</td>\n",
       "      <td>2018-01-01</td>\n",
       "      <td>2</td>\n",
       "      <td>4</td>\n",
       "      <td>2</td>\n",
       "      <td>2</td>\n",
       "      <td>10.0</td>\n",
       "      <td>1.0</td>\n",
       "      <td>1</td>\n",
       "      <td>1</td>\n",
       "    </tr>\n",
       "    <tr>\n",
       "      <th>2</th>\n",
       "      <td>Westland</td>\n",
       "      <td>0.0</td>\n",
       "      <td>29.700</td>\n",
       "      <td>5</td>\n",
       "      <td>Central</td>\n",
       "      <td>kariox</td>\n",
       "      <td>Consumer</td>\n",
       "      <td>headset</td>\n",
       "      <td>Standard Class</td>\n",
       "      <td>6334</td>\n",
       "      <td>13.3650</td>\n",
       "      <td>2018-01-01</td>\n",
       "      <td>48185</td>\n",
       "      <td>Michigan</td>\n",
       "      <td>2018-01-01</td>\n",
       "      <td>7</td>\n",
       "      <td>4</td>\n",
       "      <td>2</td>\n",
       "      <td>2</td>\n",
       "      <td>8.0</td>\n",
       "      <td>1.0</td>\n",
       "      <td>2</td>\n",
       "      <td>2</td>\n",
       "    </tr>\n",
       "    <tr>\n",
       "      <th>3</th>\n",
       "      <td>Westland</td>\n",
       "      <td>0.0</td>\n",
       "      <td>14.730</td>\n",
       "      <td>3</td>\n",
       "      <td>Central</td>\n",
       "      <td>qexty</td>\n",
       "      <td>Consumer</td>\n",
       "      <td>shorts</td>\n",
       "      <td>Standard Class</td>\n",
       "      <td>6333</td>\n",
       "      <td>4.8609</td>\n",
       "      <td>2018-01-01</td>\n",
       "      <td>48185</td>\n",
       "      <td>Michigan</td>\n",
       "      <td>2018-01-01</td>\n",
       "      <td>3</td>\n",
       "      <td>4</td>\n",
       "      <td>1</td>\n",
       "      <td>2</td>\n",
       "      <td>7.0</td>\n",
       "      <td>1.0</td>\n",
       "      <td>2</td>\n",
       "      <td>2</td>\n",
       "    </tr>\n",
       "    <tr>\n",
       "      <th>4</th>\n",
       "      <td>Westland</td>\n",
       "      <td>0.0</td>\n",
       "      <td>43.920</td>\n",
       "      <td>3</td>\n",
       "      <td>Central</td>\n",
       "      <td>kariox</td>\n",
       "      <td>Consumer</td>\n",
       "      <td>television</td>\n",
       "      <td>Standard Class</td>\n",
       "      <td>6332</td>\n",
       "      <td>12.7368</td>\n",
       "      <td>2018-01-01</td>\n",
       "      <td>48185</td>\n",
       "      <td>Michigan</td>\n",
       "      <td>2018-01-01</td>\n",
       "      <td>3</td>\n",
       "      <td>4</td>\n",
       "      <td>2</td>\n",
       "      <td>2</td>\n",
       "      <td>5.0</td>\n",
       "      <td>1.0</td>\n",
       "      <td>2</td>\n",
       "      <td>2</td>\n",
       "    </tr>\n",
       "    <tr>\n",
       "      <th>5</th>\n",
       "      <td>Westland</td>\n",
       "      <td>0.0</td>\n",
       "      <td>66.580</td>\n",
       "      <td>2</td>\n",
       "      <td>Central</td>\n",
       "      <td>kariox</td>\n",
       "      <td>Consumer</td>\n",
       "      <td>laptop</td>\n",
       "      <td>Standard Class</td>\n",
       "      <td>6331</td>\n",
       "      <td>15.9792</td>\n",
       "      <td>2018-01-01</td>\n",
       "      <td>48185</td>\n",
       "      <td>Michigan</td>\n",
       "      <td>2018-01-01</td>\n",
       "      <td>2</td>\n",
       "      <td>4</td>\n",
       "      <td>2</td>\n",
       "      <td>2</td>\n",
       "      <td>11.0</td>\n",
       "      <td>1.0</td>\n",
       "      <td>2</td>\n",
       "      <td>2</td>\n",
       "    </tr>\n",
       "  </tbody>\n",
       "</table>\n",
       "</div>"
      ],
      "text/plain": [
       "   departure city  discount   price  ...  del_map dep_class dep_city_class\n",
       "id                                   ...                                  \n",
       "1         Houston       0.2  16.448  ...      1.0         1              1\n",
       "2        Westland       0.0  29.700  ...      1.0         2              2\n",
       "3        Westland       0.0  14.730  ...      1.0         2              2\n",
       "4        Westland       0.0  43.920  ...      1.0         2              2\n",
       "5        Westland       0.0  66.580  ...      1.0         2              2\n",
       "\n",
       "[5 rows x 23 columns]"
      ]
     },
     "execution_count": 422,
     "metadata": {
      "tags": []
     },
     "output_type": "execute_result"
    }
   ],
   "source": [
    "df.head()"
   ]
  },
  {
   "cell_type": "code",
   "execution_count": 423,
   "metadata": {
    "id": "u0tM-dyry2ot"
   },
   "outputs": [],
   "source": [
    "df_dic = df.groupby('address code')['profit'].mean().reset_index()\n"
   ]
  },
  {
   "cell_type": "code",
   "execution_count": 424,
   "metadata": {
    "colab": {
     "base_uri": "https://localhost:8080/"
    },
    "id": "3FcX7P56zAvi",
    "outputId": "39c1d8f6-ac82-4371-a0c9-4f9bb5cae244"
   },
   "outputs": [
    {
     "data": {
      "text/plain": [
       "-200.61916000000002"
      ]
     },
     "execution_count": 424,
     "metadata": {
      "tags": []
     },
     "output_type": "execute_result"
    }
   ],
   "source": [
    "df_dic.profit.min()"
   ]
  },
  {
   "cell_type": "code",
   "execution_count": 425,
   "metadata": {
    "id": "C_adcWZkzE4A"
   },
   "outputs": [],
   "source": [
    "df_dic['loc_class'] = pd.cut(x = df_dic['profit'], bins = [-210,0,50,650] , labels = [1,2,3])\n"
   ]
  },
  {
   "cell_type": "code",
   "execution_count": 426,
   "metadata": {
    "colab": {
     "base_uri": "https://localhost:8080/"
    },
    "id": "RQMXP1E2zLcQ",
    "outputId": "9d376808-327c-4667-cd03-3506da34c798"
   },
   "outputs": [
    {
     "data": {
      "text/plain": [
       "2    308\n",
       "3    132\n",
       "1    122\n",
       "Name: loc_class, dtype: int64"
      ]
     },
     "execution_count": 426,
     "metadata": {
      "tags": []
     },
     "output_type": "execute_result"
    }
   ],
   "source": [
    "df_dic['loc_class'].value_counts()"
   ]
  },
  {
   "cell_type": "code",
   "execution_count": 427,
   "metadata": {
    "id": "jrYmoIO0zOqk"
   },
   "outputs": [],
   "source": [
    "df_dic['loc_class'] = df_dic['loc_class'].astype(int)\n",
    "add_code = df_dic.groupby('address code')['loc_class'].mean().to_dict()\n",
    "df['address_class'] = df['address code'].map(add_code)\n"
   ]
  },
  {
   "cell_type": "code",
   "execution_count": 428,
   "metadata": {
    "colab": {
     "base_uri": "https://localhost:8080/",
     "height": 357
    },
    "id": "MNG2w7JLzZcX",
    "outputId": "2b0b8fbe-97e0-4258-89bd-da3536b45057"
   },
   "outputs": [
    {
     "data": {
      "text/html": [
       "<div>\n",
       "<style scoped>\n",
       "    .dataframe tbody tr th:only-of-type {\n",
       "        vertical-align: middle;\n",
       "    }\n",
       "\n",
       "    .dataframe tbody tr th {\n",
       "        vertical-align: top;\n",
       "    }\n",
       "\n",
       "    .dataframe thead th {\n",
       "        text-align: right;\n",
       "    }\n",
       "</style>\n",
       "<table border=\"1\" class=\"dataframe\">\n",
       "  <thead>\n",
       "    <tr style=\"text-align: right;\">\n",
       "      <th></th>\n",
       "      <th>departure city</th>\n",
       "      <th>discount</th>\n",
       "      <th>price</th>\n",
       "      <th>no of items</th>\n",
       "      <th>location</th>\n",
       "      <th>class</th>\n",
       "      <th>segment</th>\n",
       "      <th>sub-class</th>\n",
       "      <th>delivery type</th>\n",
       "      <th>RID</th>\n",
       "      <th>profit</th>\n",
       "      <th>delivery date</th>\n",
       "      <th>address code</th>\n",
       "      <th>departure state</th>\n",
       "      <th>placement date</th>\n",
       "      <th>item_map</th>\n",
       "      <th>loc_map</th>\n",
       "      <th>class_map</th>\n",
       "      <th>seg_map</th>\n",
       "      <th>sub_class_map</th>\n",
       "      <th>del_map</th>\n",
       "      <th>dep_class</th>\n",
       "      <th>dep_city_class</th>\n",
       "      <th>address_class</th>\n",
       "    </tr>\n",
       "    <tr>\n",
       "      <th>id</th>\n",
       "      <th></th>\n",
       "      <th></th>\n",
       "      <th></th>\n",
       "      <th></th>\n",
       "      <th></th>\n",
       "      <th></th>\n",
       "      <th></th>\n",
       "      <th></th>\n",
       "      <th></th>\n",
       "      <th></th>\n",
       "      <th></th>\n",
       "      <th></th>\n",
       "      <th></th>\n",
       "      <th></th>\n",
       "      <th></th>\n",
       "      <th></th>\n",
       "      <th></th>\n",
       "      <th></th>\n",
       "      <th></th>\n",
       "      <th></th>\n",
       "      <th></th>\n",
       "      <th></th>\n",
       "      <th></th>\n",
       "      <th></th>\n",
       "    </tr>\n",
       "  </thead>\n",
       "  <tbody>\n",
       "    <tr>\n",
       "      <th>1</th>\n",
       "      <td>Houston</td>\n",
       "      <td>0.2</td>\n",
       "      <td>16.448</td>\n",
       "      <td>2</td>\n",
       "      <td>Central</td>\n",
       "      <td>kariox</td>\n",
       "      <td>Consumer</td>\n",
       "      <td>phone</td>\n",
       "      <td>Standard Class</td>\n",
       "      <td>7981</td>\n",
       "      <td>5.5512</td>\n",
       "      <td>2018-01-01</td>\n",
       "      <td>77095</td>\n",
       "      <td>Texas</td>\n",
       "      <td>2018-01-01</td>\n",
       "      <td>2</td>\n",
       "      <td>4</td>\n",
       "      <td>2</td>\n",
       "      <td>2</td>\n",
       "      <td>10.0</td>\n",
       "      <td>1.0</td>\n",
       "      <td>1</td>\n",
       "      <td>1</td>\n",
       "      <td>1</td>\n",
       "    </tr>\n",
       "    <tr>\n",
       "      <th>2</th>\n",
       "      <td>Westland</td>\n",
       "      <td>0.0</td>\n",
       "      <td>29.700</td>\n",
       "      <td>5</td>\n",
       "      <td>Central</td>\n",
       "      <td>kariox</td>\n",
       "      <td>Consumer</td>\n",
       "      <td>headset</td>\n",
       "      <td>Standard Class</td>\n",
       "      <td>6334</td>\n",
       "      <td>13.3650</td>\n",
       "      <td>2018-01-01</td>\n",
       "      <td>48185</td>\n",
       "      <td>Michigan</td>\n",
       "      <td>2018-01-01</td>\n",
       "      <td>7</td>\n",
       "      <td>4</td>\n",
       "      <td>2</td>\n",
       "      <td>2</td>\n",
       "      <td>8.0</td>\n",
       "      <td>1.0</td>\n",
       "      <td>2</td>\n",
       "      <td>2</td>\n",
       "      <td>2</td>\n",
       "    </tr>\n",
       "    <tr>\n",
       "      <th>3</th>\n",
       "      <td>Westland</td>\n",
       "      <td>0.0</td>\n",
       "      <td>14.730</td>\n",
       "      <td>3</td>\n",
       "      <td>Central</td>\n",
       "      <td>qexty</td>\n",
       "      <td>Consumer</td>\n",
       "      <td>shorts</td>\n",
       "      <td>Standard Class</td>\n",
       "      <td>6333</td>\n",
       "      <td>4.8609</td>\n",
       "      <td>2018-01-01</td>\n",
       "      <td>48185</td>\n",
       "      <td>Michigan</td>\n",
       "      <td>2018-01-01</td>\n",
       "      <td>3</td>\n",
       "      <td>4</td>\n",
       "      <td>1</td>\n",
       "      <td>2</td>\n",
       "      <td>7.0</td>\n",
       "      <td>1.0</td>\n",
       "      <td>2</td>\n",
       "      <td>2</td>\n",
       "      <td>2</td>\n",
       "    </tr>\n",
       "    <tr>\n",
       "      <th>4</th>\n",
       "      <td>Westland</td>\n",
       "      <td>0.0</td>\n",
       "      <td>43.920</td>\n",
       "      <td>3</td>\n",
       "      <td>Central</td>\n",
       "      <td>kariox</td>\n",
       "      <td>Consumer</td>\n",
       "      <td>television</td>\n",
       "      <td>Standard Class</td>\n",
       "      <td>6332</td>\n",
       "      <td>12.7368</td>\n",
       "      <td>2018-01-01</td>\n",
       "      <td>48185</td>\n",
       "      <td>Michigan</td>\n",
       "      <td>2018-01-01</td>\n",
       "      <td>3</td>\n",
       "      <td>4</td>\n",
       "      <td>2</td>\n",
       "      <td>2</td>\n",
       "      <td>5.0</td>\n",
       "      <td>1.0</td>\n",
       "      <td>2</td>\n",
       "      <td>2</td>\n",
       "      <td>2</td>\n",
       "    </tr>\n",
       "    <tr>\n",
       "      <th>5</th>\n",
       "      <td>Westland</td>\n",
       "      <td>0.0</td>\n",
       "      <td>66.580</td>\n",
       "      <td>2</td>\n",
       "      <td>Central</td>\n",
       "      <td>kariox</td>\n",
       "      <td>Consumer</td>\n",
       "      <td>laptop</td>\n",
       "      <td>Standard Class</td>\n",
       "      <td>6331</td>\n",
       "      <td>15.9792</td>\n",
       "      <td>2018-01-01</td>\n",
       "      <td>48185</td>\n",
       "      <td>Michigan</td>\n",
       "      <td>2018-01-01</td>\n",
       "      <td>2</td>\n",
       "      <td>4</td>\n",
       "      <td>2</td>\n",
       "      <td>2</td>\n",
       "      <td>11.0</td>\n",
       "      <td>1.0</td>\n",
       "      <td>2</td>\n",
       "      <td>2</td>\n",
       "      <td>2</td>\n",
       "    </tr>\n",
       "  </tbody>\n",
       "</table>\n",
       "</div>"
      ],
      "text/plain": [
       "   departure city  discount   price  ...  dep_class dep_city_class address_class\n",
       "id                                   ...                                        \n",
       "1         Houston       0.2  16.448  ...          1              1             1\n",
       "2        Westland       0.0  29.700  ...          2              2             2\n",
       "3        Westland       0.0  14.730  ...          2              2             2\n",
       "4        Westland       0.0  43.920  ...          2              2             2\n",
       "5        Westland       0.0  66.580  ...          2              2             2\n",
       "\n",
       "[5 rows x 24 columns]"
      ]
     },
     "execution_count": 428,
     "metadata": {
      "tags": []
     },
     "output_type": "execute_result"
    }
   ],
   "source": [
    "df.head()"
   ]
  },
  {
   "cell_type": "code",
   "execution_count": 429,
   "metadata": {
    "colab": {
     "base_uri": "https://localhost:8080/",
     "height": 514
    },
    "id": "Sf9PUkwxza8P",
    "outputId": "03c97264-c7e4-4365-d43c-23a825e5ec2e"
   },
   "outputs": [
    {
     "data": {
      "text/html": [
       "<div>\n",
       "<style scoped>\n",
       "    .dataframe tbody tr th:only-of-type {\n",
       "        vertical-align: middle;\n",
       "    }\n",
       "\n",
       "    .dataframe tbody tr th {\n",
       "        vertical-align: top;\n",
       "    }\n",
       "\n",
       "    .dataframe thead th {\n",
       "        text-align: right;\n",
       "    }\n",
       "</style>\n",
       "<table border=\"1\" class=\"dataframe\">\n",
       "  <thead>\n",
       "    <tr style=\"text-align: right;\">\n",
       "      <th></th>\n",
       "      <th>discount</th>\n",
       "      <th>price</th>\n",
       "      <th>no of items</th>\n",
       "      <th>RID</th>\n",
       "      <th>profit</th>\n",
       "      <th>address code</th>\n",
       "      <th>item_map</th>\n",
       "      <th>loc_map</th>\n",
       "      <th>class_map</th>\n",
       "      <th>seg_map</th>\n",
       "      <th>sub_class_map</th>\n",
       "      <th>del_map</th>\n",
       "      <th>dep_class</th>\n",
       "      <th>dep_city_class</th>\n",
       "      <th>address_class</th>\n",
       "    </tr>\n",
       "  </thead>\n",
       "  <tbody>\n",
       "    <tr>\n",
       "      <th>discount</th>\n",
       "      <td>1.000000</td>\n",
       "      <td>-0.046098</td>\n",
       "      <td>0.000617</td>\n",
       "      <td>0.011687</td>\n",
       "      <td>-0.307106</td>\n",
       "      <td>0.067860</td>\n",
       "      <td>-0.000883</td>\n",
       "      <td>0.173545</td>\n",
       "      <td>-0.065329</td>\n",
       "      <td>-0.018681</td>\n",
       "      <td>-0.032142</td>\n",
       "      <td>-0.004485</td>\n",
       "      <td>-0.633804</td>\n",
       "      <td>-0.538099</td>\n",
       "      <td>-0.570047</td>\n",
       "    </tr>\n",
       "    <tr>\n",
       "      <th>price</th>\n",
       "      <td>-0.046098</td>\n",
       "      <td>1.000000</td>\n",
       "      <td>0.246227</td>\n",
       "      <td>-0.008135</td>\n",
       "      <td>0.527843</td>\n",
       "      <td>-0.010998</td>\n",
       "      <td>0.234367</td>\n",
       "      <td>-0.025290</td>\n",
       "      <td>-0.004221</td>\n",
       "      <td>0.001573</td>\n",
       "      <td>0.266905</td>\n",
       "      <td>0.006069</td>\n",
       "      <td>0.092791</td>\n",
       "      <td>0.107536</td>\n",
       "      <td>0.119714</td>\n",
       "    </tr>\n",
       "    <tr>\n",
       "      <th>no of items</th>\n",
       "      <td>0.000617</td>\n",
       "      <td>0.246227</td>\n",
       "      <td>1.000000</td>\n",
       "      <td>-0.003631</td>\n",
       "      <td>0.122635</td>\n",
       "      <td>0.004494</td>\n",
       "      <td>0.905382</td>\n",
       "      <td>0.014305</td>\n",
       "      <td>-0.023504</td>\n",
       "      <td>-0.004722</td>\n",
       "      <td>-0.013741</td>\n",
       "      <td>-0.022025</td>\n",
       "      <td>0.007853</td>\n",
       "      <td>0.013052</td>\n",
       "      <td>0.012659</td>\n",
       "    </tr>\n",
       "    <tr>\n",
       "      <th>RID</th>\n",
       "      <td>0.011687</td>\n",
       "      <td>-0.008135</td>\n",
       "      <td>-0.003631</td>\n",
       "      <td>1.000000</td>\n",
       "      <td>0.002745</td>\n",
       "      <td>0.009695</td>\n",
       "      <td>-0.011543</td>\n",
       "      <td>0.017236</td>\n",
       "      <td>-0.005508</td>\n",
       "      <td>-0.026887</td>\n",
       "      <td>-0.002920</td>\n",
       "      <td>-0.021308</td>\n",
       "      <td>-0.008074</td>\n",
       "      <td>0.003529</td>\n",
       "      <td>0.008032</td>\n",
       "    </tr>\n",
       "    <tr>\n",
       "      <th>profit</th>\n",
       "      <td>-0.307106</td>\n",
       "      <td>0.527843</td>\n",
       "      <td>0.122635</td>\n",
       "      <td>0.002745</td>\n",
       "      <td>1.000000</td>\n",
       "      <td>-0.049335</td>\n",
       "      <td>0.128429</td>\n",
       "      <td>-0.042680</td>\n",
       "      <td>0.136769</td>\n",
       "      <td>0.015166</td>\n",
       "      <td>0.189190</td>\n",
       "      <td>0.016052</td>\n",
       "      <td>0.284077</td>\n",
       "      <td>0.285107</td>\n",
       "      <td>0.311044</td>\n",
       "    </tr>\n",
       "    <tr>\n",
       "      <th>address code</th>\n",
       "      <td>0.067860</td>\n",
       "      <td>-0.010998</td>\n",
       "      <td>0.004494</td>\n",
       "      <td>0.009695</td>\n",
       "      <td>-0.049335</td>\n",
       "      <td>1.000000</td>\n",
       "      <td>0.009198</td>\n",
       "      <td>0.341801</td>\n",
       "      <td>-0.001524</td>\n",
       "      <td>0.003803</td>\n",
       "      <td>0.019124</td>\n",
       "      <td>-0.014260</td>\n",
       "      <td>-0.268545</td>\n",
       "      <td>-0.190403</td>\n",
       "      <td>-0.145060</td>\n",
       "    </tr>\n",
       "    <tr>\n",
       "      <th>item_map</th>\n",
       "      <td>-0.000883</td>\n",
       "      <td>0.234367</td>\n",
       "      <td>0.905382</td>\n",
       "      <td>-0.011543</td>\n",
       "      <td>0.128429</td>\n",
       "      <td>0.009198</td>\n",
       "      <td>1.000000</td>\n",
       "      <td>0.022561</td>\n",
       "      <td>-0.018081</td>\n",
       "      <td>-0.002817</td>\n",
       "      <td>-0.014674</td>\n",
       "      <td>-0.012240</td>\n",
       "      <td>0.009105</td>\n",
       "      <td>0.018249</td>\n",
       "      <td>0.016170</td>\n",
       "    </tr>\n",
       "    <tr>\n",
       "      <th>loc_map</th>\n",
       "      <td>0.173545</td>\n",
       "      <td>-0.025290</td>\n",
       "      <td>0.014305</td>\n",
       "      <td>0.017236</td>\n",
       "      <td>-0.042680</td>\n",
       "      <td>0.341801</td>\n",
       "      <td>0.022561</td>\n",
       "      <td>1.000000</td>\n",
       "      <td>0.005750</td>\n",
       "      <td>0.002384</td>\n",
       "      <td>0.020291</td>\n",
       "      <td>-0.056808</td>\n",
       "      <td>-0.270086</td>\n",
       "      <td>-0.221328</td>\n",
       "      <td>-0.108755</td>\n",
       "    </tr>\n",
       "    <tr>\n",
       "      <th>class_map</th>\n",
       "      <td>-0.065329</td>\n",
       "      <td>-0.004221</td>\n",
       "      <td>-0.023504</td>\n",
       "      <td>-0.005508</td>\n",
       "      <td>0.136769</td>\n",
       "      <td>-0.001524</td>\n",
       "      <td>-0.018081</td>\n",
       "      <td>0.005750</td>\n",
       "      <td>1.000000</td>\n",
       "      <td>0.014053</td>\n",
       "      <td>0.514819</td>\n",
       "      <td>0.010675</td>\n",
       "      <td>-0.008115</td>\n",
       "      <td>-0.014675</td>\n",
       "      <td>-0.009068</td>\n",
       "    </tr>\n",
       "    <tr>\n",
       "      <th>seg_map</th>\n",
       "      <td>-0.018681</td>\n",
       "      <td>0.001573</td>\n",
       "      <td>-0.004722</td>\n",
       "      <td>-0.026887</td>\n",
       "      <td>0.015166</td>\n",
       "      <td>0.003803</td>\n",
       "      <td>-0.002817</td>\n",
       "      <td>0.002384</td>\n",
       "      <td>0.014053</td>\n",
       "      <td>1.000000</td>\n",
       "      <td>-0.005137</td>\n",
       "      <td>-0.002167</td>\n",
       "      <td>0.030362</td>\n",
       "      <td>-0.000679</td>\n",
       "      <td>0.007755</td>\n",
       "    </tr>\n",
       "    <tr>\n",
       "      <th>sub_class_map</th>\n",
       "      <td>-0.032142</td>\n",
       "      <td>0.266905</td>\n",
       "      <td>-0.013741</td>\n",
       "      <td>-0.002920</td>\n",
       "      <td>0.189190</td>\n",
       "      <td>0.019124</td>\n",
       "      <td>-0.014674</td>\n",
       "      <td>0.020291</td>\n",
       "      <td>0.514819</td>\n",
       "      <td>-0.005137</td>\n",
       "      <td>1.000000</td>\n",
       "      <td>0.015420</td>\n",
       "      <td>-0.001648</td>\n",
       "      <td>0.011255</td>\n",
       "      <td>0.021697</td>\n",
       "    </tr>\n",
       "    <tr>\n",
       "      <th>del_map</th>\n",
       "      <td>-0.004485</td>\n",
       "      <td>0.006069</td>\n",
       "      <td>-0.022025</td>\n",
       "      <td>-0.021308</td>\n",
       "      <td>0.016052</td>\n",
       "      <td>-0.014260</td>\n",
       "      <td>-0.012240</td>\n",
       "      <td>-0.056808</td>\n",
       "      <td>0.010675</td>\n",
       "      <td>-0.002167</td>\n",
       "      <td>0.015420</td>\n",
       "      <td>1.000000</td>\n",
       "      <td>-0.014281</td>\n",
       "      <td>-0.005252</td>\n",
       "      <td>-0.016367</td>\n",
       "    </tr>\n",
       "    <tr>\n",
       "      <th>dep_class</th>\n",
       "      <td>-0.633804</td>\n",
       "      <td>0.092791</td>\n",
       "      <td>0.007853</td>\n",
       "      <td>-0.008074</td>\n",
       "      <td>0.284077</td>\n",
       "      <td>-0.268545</td>\n",
       "      <td>0.009105</td>\n",
       "      <td>-0.270086</td>\n",
       "      <td>-0.008115</td>\n",
       "      <td>0.030362</td>\n",
       "      <td>-0.001648</td>\n",
       "      <td>-0.014281</td>\n",
       "      <td>1.000000</td>\n",
       "      <td>0.757571</td>\n",
       "      <td>0.760720</td>\n",
       "    </tr>\n",
       "    <tr>\n",
       "      <th>dep_city_class</th>\n",
       "      <td>-0.538099</td>\n",
       "      <td>0.107536</td>\n",
       "      <td>0.013052</td>\n",
       "      <td>0.003529</td>\n",
       "      <td>0.285107</td>\n",
       "      <td>-0.190403</td>\n",
       "      <td>0.018249</td>\n",
       "      <td>-0.221328</td>\n",
       "      <td>-0.014675</td>\n",
       "      <td>-0.000679</td>\n",
       "      <td>0.011255</td>\n",
       "      <td>-0.005252</td>\n",
       "      <td>0.757571</td>\n",
       "      <td>1.000000</td>\n",
       "      <td>0.793361</td>\n",
       "    </tr>\n",
       "    <tr>\n",
       "      <th>address_class</th>\n",
       "      <td>-0.570047</td>\n",
       "      <td>0.119714</td>\n",
       "      <td>0.012659</td>\n",
       "      <td>0.008032</td>\n",
       "      <td>0.311044</td>\n",
       "      <td>-0.145060</td>\n",
       "      <td>0.016170</td>\n",
       "      <td>-0.108755</td>\n",
       "      <td>-0.009068</td>\n",
       "      <td>0.007755</td>\n",
       "      <td>0.021697</td>\n",
       "      <td>-0.016367</td>\n",
       "      <td>0.760720</td>\n",
       "      <td>0.793361</td>\n",
       "      <td>1.000000</td>\n",
       "    </tr>\n",
       "  </tbody>\n",
       "</table>\n",
       "</div>"
      ],
      "text/plain": [
       "                discount     price  ...  dep_city_class  address_class\n",
       "discount        1.000000 -0.046098  ...       -0.538099      -0.570047\n",
       "price          -0.046098  1.000000  ...        0.107536       0.119714\n",
       "no of items     0.000617  0.246227  ...        0.013052       0.012659\n",
       "RID             0.011687 -0.008135  ...        0.003529       0.008032\n",
       "profit         -0.307106  0.527843  ...        0.285107       0.311044\n",
       "address code    0.067860 -0.010998  ...       -0.190403      -0.145060\n",
       "item_map       -0.000883  0.234367  ...        0.018249       0.016170\n",
       "loc_map         0.173545 -0.025290  ...       -0.221328      -0.108755\n",
       "class_map      -0.065329 -0.004221  ...       -0.014675      -0.009068\n",
       "seg_map        -0.018681  0.001573  ...       -0.000679       0.007755\n",
       "sub_class_map  -0.032142  0.266905  ...        0.011255       0.021697\n",
       "del_map        -0.004485  0.006069  ...       -0.005252      -0.016367\n",
       "dep_class      -0.633804  0.092791  ...        0.757571       0.760720\n",
       "dep_city_class -0.538099  0.107536  ...        1.000000       0.793361\n",
       "address_class  -0.570047  0.119714  ...        0.793361       1.000000\n",
       "\n",
       "[15 rows x 15 columns]"
      ]
     },
     "execution_count": 429,
     "metadata": {
      "tags": []
     },
     "output_type": "execute_result"
    }
   ],
   "source": [
    "df.corr()"
   ]
  },
  {
   "cell_type": "code",
   "execution_count": 430,
   "metadata": {
    "id": "1ol7q-d7ze2b"
   },
   "outputs": [],
   "source": [
    "df.drop('RID',axis=1 ,inplace=True)"
   ]
  },
  {
   "cell_type": "code",
   "execution_count": 431,
   "metadata": {
    "colab": {
     "base_uri": "https://localhost:8080/",
     "height": 357
    },
    "id": "fbn6U6f8zpBn",
    "outputId": "7970c22f-8c1e-4f7e-e098-73c62d73360a"
   },
   "outputs": [
    {
     "data": {
      "text/html": [
       "<div>\n",
       "<style scoped>\n",
       "    .dataframe tbody tr th:only-of-type {\n",
       "        vertical-align: middle;\n",
       "    }\n",
       "\n",
       "    .dataframe tbody tr th {\n",
       "        vertical-align: top;\n",
       "    }\n",
       "\n",
       "    .dataframe thead th {\n",
       "        text-align: right;\n",
       "    }\n",
       "</style>\n",
       "<table border=\"1\" class=\"dataframe\">\n",
       "  <thead>\n",
       "    <tr style=\"text-align: right;\">\n",
       "      <th></th>\n",
       "      <th>departure city</th>\n",
       "      <th>discount</th>\n",
       "      <th>price</th>\n",
       "      <th>no of items</th>\n",
       "      <th>location</th>\n",
       "      <th>class</th>\n",
       "      <th>segment</th>\n",
       "      <th>sub-class</th>\n",
       "      <th>delivery type</th>\n",
       "      <th>profit</th>\n",
       "      <th>delivery date</th>\n",
       "      <th>address code</th>\n",
       "      <th>departure state</th>\n",
       "      <th>placement date</th>\n",
       "      <th>item_map</th>\n",
       "      <th>loc_map</th>\n",
       "      <th>class_map</th>\n",
       "      <th>seg_map</th>\n",
       "      <th>sub_class_map</th>\n",
       "      <th>del_map</th>\n",
       "      <th>dep_class</th>\n",
       "      <th>dep_city_class</th>\n",
       "      <th>address_class</th>\n",
       "    </tr>\n",
       "    <tr>\n",
       "      <th>id</th>\n",
       "      <th></th>\n",
       "      <th></th>\n",
       "      <th></th>\n",
       "      <th></th>\n",
       "      <th></th>\n",
       "      <th></th>\n",
       "      <th></th>\n",
       "      <th></th>\n",
       "      <th></th>\n",
       "      <th></th>\n",
       "      <th></th>\n",
       "      <th></th>\n",
       "      <th></th>\n",
       "      <th></th>\n",
       "      <th></th>\n",
       "      <th></th>\n",
       "      <th></th>\n",
       "      <th></th>\n",
       "      <th></th>\n",
       "      <th></th>\n",
       "      <th></th>\n",
       "      <th></th>\n",
       "      <th></th>\n",
       "    </tr>\n",
       "  </thead>\n",
       "  <tbody>\n",
       "    <tr>\n",
       "      <th>1</th>\n",
       "      <td>Houston</td>\n",
       "      <td>0.2</td>\n",
       "      <td>16.448</td>\n",
       "      <td>2</td>\n",
       "      <td>Central</td>\n",
       "      <td>kariox</td>\n",
       "      <td>Consumer</td>\n",
       "      <td>phone</td>\n",
       "      <td>Standard Class</td>\n",
       "      <td>5.5512</td>\n",
       "      <td>2018-01-01</td>\n",
       "      <td>77095</td>\n",
       "      <td>Texas</td>\n",
       "      <td>2018-01-01</td>\n",
       "      <td>2</td>\n",
       "      <td>4</td>\n",
       "      <td>2</td>\n",
       "      <td>2</td>\n",
       "      <td>10.0</td>\n",
       "      <td>1.0</td>\n",
       "      <td>1</td>\n",
       "      <td>1</td>\n",
       "      <td>1</td>\n",
       "    </tr>\n",
       "    <tr>\n",
       "      <th>2</th>\n",
       "      <td>Westland</td>\n",
       "      <td>0.0</td>\n",
       "      <td>29.700</td>\n",
       "      <td>5</td>\n",
       "      <td>Central</td>\n",
       "      <td>kariox</td>\n",
       "      <td>Consumer</td>\n",
       "      <td>headset</td>\n",
       "      <td>Standard Class</td>\n",
       "      <td>13.3650</td>\n",
       "      <td>2018-01-01</td>\n",
       "      <td>48185</td>\n",
       "      <td>Michigan</td>\n",
       "      <td>2018-01-01</td>\n",
       "      <td>7</td>\n",
       "      <td>4</td>\n",
       "      <td>2</td>\n",
       "      <td>2</td>\n",
       "      <td>8.0</td>\n",
       "      <td>1.0</td>\n",
       "      <td>2</td>\n",
       "      <td>2</td>\n",
       "      <td>2</td>\n",
       "    </tr>\n",
       "    <tr>\n",
       "      <th>3</th>\n",
       "      <td>Westland</td>\n",
       "      <td>0.0</td>\n",
       "      <td>14.730</td>\n",
       "      <td>3</td>\n",
       "      <td>Central</td>\n",
       "      <td>qexty</td>\n",
       "      <td>Consumer</td>\n",
       "      <td>shorts</td>\n",
       "      <td>Standard Class</td>\n",
       "      <td>4.8609</td>\n",
       "      <td>2018-01-01</td>\n",
       "      <td>48185</td>\n",
       "      <td>Michigan</td>\n",
       "      <td>2018-01-01</td>\n",
       "      <td>3</td>\n",
       "      <td>4</td>\n",
       "      <td>1</td>\n",
       "      <td>2</td>\n",
       "      <td>7.0</td>\n",
       "      <td>1.0</td>\n",
       "      <td>2</td>\n",
       "      <td>2</td>\n",
       "      <td>2</td>\n",
       "    </tr>\n",
       "    <tr>\n",
       "      <th>4</th>\n",
       "      <td>Westland</td>\n",
       "      <td>0.0</td>\n",
       "      <td>43.920</td>\n",
       "      <td>3</td>\n",
       "      <td>Central</td>\n",
       "      <td>kariox</td>\n",
       "      <td>Consumer</td>\n",
       "      <td>television</td>\n",
       "      <td>Standard Class</td>\n",
       "      <td>12.7368</td>\n",
       "      <td>2018-01-01</td>\n",
       "      <td>48185</td>\n",
       "      <td>Michigan</td>\n",
       "      <td>2018-01-01</td>\n",
       "      <td>3</td>\n",
       "      <td>4</td>\n",
       "      <td>2</td>\n",
       "      <td>2</td>\n",
       "      <td>5.0</td>\n",
       "      <td>1.0</td>\n",
       "      <td>2</td>\n",
       "      <td>2</td>\n",
       "      <td>2</td>\n",
       "    </tr>\n",
       "    <tr>\n",
       "      <th>5</th>\n",
       "      <td>Westland</td>\n",
       "      <td>0.0</td>\n",
       "      <td>66.580</td>\n",
       "      <td>2</td>\n",
       "      <td>Central</td>\n",
       "      <td>kariox</td>\n",
       "      <td>Consumer</td>\n",
       "      <td>laptop</td>\n",
       "      <td>Standard Class</td>\n",
       "      <td>15.9792</td>\n",
       "      <td>2018-01-01</td>\n",
       "      <td>48185</td>\n",
       "      <td>Michigan</td>\n",
       "      <td>2018-01-01</td>\n",
       "      <td>2</td>\n",
       "      <td>4</td>\n",
       "      <td>2</td>\n",
       "      <td>2</td>\n",
       "      <td>11.0</td>\n",
       "      <td>1.0</td>\n",
       "      <td>2</td>\n",
       "      <td>2</td>\n",
       "      <td>2</td>\n",
       "    </tr>\n",
       "  </tbody>\n",
       "</table>\n",
       "</div>"
      ],
      "text/plain": [
       "   departure city  discount   price  ...  dep_class dep_city_class address_class\n",
       "id                                   ...                                        \n",
       "1         Houston       0.2  16.448  ...          1              1             1\n",
       "2        Westland       0.0  29.700  ...          2              2             2\n",
       "3        Westland       0.0  14.730  ...          2              2             2\n",
       "4        Westland       0.0  43.920  ...          2              2             2\n",
       "5        Westland       0.0  66.580  ...          2              2             2\n",
       "\n",
       "[5 rows x 23 columns]"
      ]
     },
     "execution_count": 431,
     "metadata": {
      "tags": []
     },
     "output_type": "execute_result"
    }
   ],
   "source": [
    "df.head()"
   ]
  },
  {
   "cell_type": "code",
   "execution_count": 432,
   "metadata": {
    "id": "SlIy4owqVxhk"
   },
   "outputs": [],
   "source": [
    "df['delivery date'] = pd.to_datetime(df['delivery date'])\n",
    "df['placement date'] = pd.to_datetime(df['placement date'])\n",
    "df['duration'] = (df['delivery date'] - df['placement date']).dt.days"
   ]
  },
  {
   "cell_type": "code",
   "execution_count": 432,
   "metadata": {
    "id": "pNb8JNUuYvdV"
   },
   "outputs": [],
   "source": []
  },
  {
   "cell_type": "code",
   "execution_count": 433,
   "metadata": {
    "colab": {
     "base_uri": "https://localhost:8080/"
    },
    "id": "ii2VCgSLrEPv",
    "outputId": "004b3532-4c52-47de-d643-7ff9d17c3e3b"
   },
   "outputs": [
    {
     "name": "stderr",
     "output_type": "stream",
     "text": [
      "/usr/local/lib/python3.7/dist-packages/ipykernel_launcher.py:2: FutureWarning: Series.dt.weekofyear and Series.dt.week have been deprecated.  Please use Series.dt.isocalendar().week instead.\n",
      "  \n"
     ]
    }
   ],
   "source": [
    "df['delivery_month']=df['delivery date'].dt.month\n",
    "df['delivery_week']=df['delivery date'].dt.week"
   ]
  },
  {
   "cell_type": "code",
   "execution_count": 434,
   "metadata": {
    "colab": {
     "base_uri": "https://localhost:8080/"
    },
    "id": "eZEsQ5_O0GwB",
    "outputId": "8e098051-4068-4472-ccbd-c26c14fb5e1f"
   },
   "outputs": [
    {
     "name": "stderr",
     "output_type": "stream",
     "text": [
      "/usr/local/lib/python3.7/dist-packages/ipykernel_launcher.py:2: FutureWarning: Series.dt.weekofyear and Series.dt.week have been deprecated.  Please use Series.dt.isocalendar().week instead.\n",
      "  \n"
     ]
    }
   ],
   "source": [
    "df['placement_month']=df['placement date'].dt.month\n",
    "df['placement_week']=df['placement date'].dt.week\n"
   ]
  },
  {
   "cell_type": "code",
   "execution_count": 434,
   "metadata": {
    "id": "2GcAc2Cx0KuD"
   },
   "outputs": [],
   "source": []
  },
  {
   "cell_type": "code",
   "execution_count": 435,
   "metadata": {
    "colab": {
     "base_uri": "https://localhost:8080/",
     "height": 296
    },
    "id": "pWKiHpBvn93u",
    "outputId": "eeb5d1de-3f41-4f07-c3ae-4e82544c0b81"
   },
   "outputs": [
    {
     "data": {
      "text/plain": [
       "<matplotlib.axes._subplots.AxesSubplot at 0x7f9956f89f90>"
      ]
     },
     "execution_count": 435,
     "metadata": {
      "tags": []
     },
     "output_type": "execute_result"
    },
    {
     "data": {
      "image/png": "[encoded data removed]",
      "text/plain": [
       "<Figure size 432x288 with 1 Axes>"
      ]
     },
     "metadata": {
      "needs_background": "light",
      "tags": []
     },
     "output_type": "display_data"
    }
   ],
   "source": [
    "sns.barplot(x='duration',y='profit',data=df)"
   ]
  },
  {
   "cell_type": "code",
   "execution_count": 436,
   "metadata": {
    "colab": {
     "base_uri": "https://localhost:8080/",
     "height": 296
    },
    "id": "J6u8wh7eoVt-",
    "outputId": "974aebb4-b39a-4a37-8dee-0d1b8bfca6d5"
   },
   "outputs": [
    {
     "data": {
      "text/plain": [
       "<matplotlib.axes._subplots.AxesSubplot at 0x7f99561f1f50>"
      ]
     },
     "execution_count": 436,
     "metadata": {
      "tags": []
     },
     "output_type": "execute_result"
    },
    {
     "data": {
      "image/png": "[encoded data removed]",
      "text/plain": [
       "<Figure size 432x288 with 1 Axes>"
      ]
     },
     "metadata": {
      "needs_background": "light",
      "tags": []
     },
     "output_type": "display_data"
    }
   ],
   "source": [
    "sns.boxplot(x='duration',y='profit',data=df)\n"
   ]
  },
  {
   "cell_type": "code",
   "execution_count": 437,
   "metadata": {
    "id": "600-PimAo2PG"
   },
   "outputs": [],
   "source": [
    "# duration={29:5,28:4,30:3,31:2,0:1}\n",
    "duration={31:5,0:4,29:3,30:2,28:1}\n",
    "df['duration_map']=df['duration'].map(duration)"
   ]
  },
  {
   "cell_type": "code",
   "execution_count": 437,
   "metadata": {
    "id": "_4we3c46oqrk"
   },
   "outputs": [],
   "source": []
  },
  {
   "cell_type": "code",
   "execution_count": 438,
   "metadata": {
    "colab": {
     "base_uri": "https://localhost:8080/",
     "height": 947
    },
    "id": "CS9IljVczlh8",
    "outputId": "bb7f0fbd-90b9-4df1-8dc2-b60bc1221b86"
   },
   "outputs": [
    {
     "data": {
      "image/png": "[encoded data removed]",
      "text/plain": [
       "<Figure size 1440x1080 with 2 Axes>"
      ]
     },
     "metadata": {
      "needs_background": "light",
      "tags": []
     },
     "output_type": "display_data"
    }
   ],
   "source": [
    "f, ax = plt.subplots(figsize=(20, 15))\n",
    "corr = df.corr()\n",
    "sns.heatmap(corr, mask=np.zeros_like(corr, dtype=np.bool),cmap=sns.diverging_palette(220, 10, as_cmap=True), square=True, ax=ax, annot=True)\n",
    "plt.show()"
   ]
  },
  {
   "cell_type": "code",
   "execution_count": 438,
   "metadata": {
    "id": "cSfqu-891l0n"
   },
   "outputs": [],
   "source": []
  },
  {
   "cell_type": "markdown",
   "metadata": {
    "id": "7OtwitV81mBo"
   },
   "source": [
    "### TEST DATA"
   ]
  },
  {
   "cell_type": "code",
   "execution_count": 439,
   "metadata": {
    "id": "9WPORSjN1Sox"
   },
   "outputs": [],
   "source": [
    "test=pd.read_csv(\"/content/test.csv\")"
   ]
  },
  {
   "cell_type": "code",
   "execution_count": 440,
   "metadata": {
    "colab": {
     "base_uri": "https://localhost:8080/",
     "height": 204
    },
    "id": "3qnUS5hI1WlI",
    "outputId": "b2b5a5b3-79d1-451d-d303-2f649081dd9a"
   },
   "outputs": [
    {
     "data": {
      "text/html": [
       "<div>\n",
       "<style scoped>\n",
       "    .dataframe tbody tr th:only-of-type {\n",
       "        vertical-align: middle;\n",
       "    }\n",
       "\n",
       "    .dataframe tbody tr th {\n",
       "        vertical-align: top;\n",
       "    }\n",
       "\n",
       "    .dataframe thead th {\n",
       "        text-align: right;\n",
       "    }\n",
       "</style>\n",
       "<table border=\"1\" class=\"dataframe\">\n",
       "  <thead>\n",
       "    <tr style=\"text-align: right;\">\n",
       "      <th></th>\n",
       "      <th>id</th>\n",
       "      <th>departure city</th>\n",
       "      <th>discount</th>\n",
       "      <th>price</th>\n",
       "      <th>no of items</th>\n",
       "      <th>location</th>\n",
       "      <th>class</th>\n",
       "      <th>segment</th>\n",
       "      <th>sub-class</th>\n",
       "      <th>delivery type</th>\n",
       "      <th>RID</th>\n",
       "      <th>delivery date</th>\n",
       "      <th>address code</th>\n",
       "      <th>departure state</th>\n",
       "      <th>placement date</th>\n",
       "    </tr>\n",
       "  </thead>\n",
       "  <tbody>\n",
       "    <tr>\n",
       "      <th>0</th>\n",
       "      <td>6701</td>\n",
       "      <td>San Francisco</td>\n",
       "      <td>0.0</td>\n",
       "      <td>24.200</td>\n",
       "      <td>5</td>\n",
       "      <td>West</td>\n",
       "      <td>kariox</td>\n",
       "      <td>Consumer</td>\n",
       "      <td>television</td>\n",
       "      <td>Standard Class</td>\n",
       "      <td>2408</td>\n",
       "      <td>2021-01-01</td>\n",
       "      <td>94122</td>\n",
       "      <td>California</td>\n",
       "      <td>2021-01-01</td>\n",
       "    </tr>\n",
       "    <tr>\n",
       "      <th>1</th>\n",
       "      <td>6702</td>\n",
       "      <td>San Francisco</td>\n",
       "      <td>0.2</td>\n",
       "      <td>359.976</td>\n",
       "      <td>3</td>\n",
       "      <td>West</td>\n",
       "      <td>fynota</td>\n",
       "      <td>Consumer</td>\n",
       "      <td>colddrinks</td>\n",
       "      <td>Standard Class</td>\n",
       "      <td>2409</td>\n",
       "      <td>2021-01-01</td>\n",
       "      <td>94122</td>\n",
       "      <td>California</td>\n",
       "      <td>2021-01-01</td>\n",
       "    </tr>\n",
       "    <tr>\n",
       "      <th>2</th>\n",
       "      <td>6703</td>\n",
       "      <td>Waterbury</td>\n",
       "      <td>0.0</td>\n",
       "      <td>3.520</td>\n",
       "      <td>2</td>\n",
       "      <td>East</td>\n",
       "      <td>kariox</td>\n",
       "      <td>Consumer</td>\n",
       "      <td>television</td>\n",
       "      <td>Standard Class</td>\n",
       "      <td>5425</td>\n",
       "      <td>2021-01-01</td>\n",
       "      <td>6708</td>\n",
       "      <td>Connecticut</td>\n",
       "      <td>2021-01-01</td>\n",
       "    </tr>\n",
       "    <tr>\n",
       "      <th>3</th>\n",
       "      <td>6704</td>\n",
       "      <td>Chicago</td>\n",
       "      <td>0.2</td>\n",
       "      <td>11.520</td>\n",
       "      <td>5</td>\n",
       "      <td>Central</td>\n",
       "      <td>kariox</td>\n",
       "      <td>Consumer</td>\n",
       "      <td>tablet</td>\n",
       "      <td>First Class</td>\n",
       "      <td>7408</td>\n",
       "      <td>2021-01-01</td>\n",
       "      <td>60653</td>\n",
       "      <td>Illinois</td>\n",
       "      <td>2021-01-01</td>\n",
       "    </tr>\n",
       "    <tr>\n",
       "      <th>4</th>\n",
       "      <td>6705</td>\n",
       "      <td>Seattle</td>\n",
       "      <td>0.0</td>\n",
       "      <td>242.940</td>\n",
       "      <td>3</td>\n",
       "      <td>West</td>\n",
       "      <td>kariox</td>\n",
       "      <td>Home Office</td>\n",
       "      <td>laptop</td>\n",
       "      <td>Standard Class</td>\n",
       "      <td>733</td>\n",
       "      <td>2021-01-01</td>\n",
       "      <td>98115</td>\n",
       "      <td>Washington</td>\n",
       "      <td>2021-01-01</td>\n",
       "    </tr>\n",
       "  </tbody>\n",
       "</table>\n",
       "</div>"
      ],
      "text/plain": [
       "     id departure city  discount  ...  address code  departure state placement date\n",
       "0  6701  San Francisco       0.0  ...         94122       California     2021-01-01\n",
       "1  6702  San Francisco       0.2  ...         94122       California     2021-01-01\n",
       "2  6703      Waterbury       0.0  ...          6708      Connecticut     2021-01-01\n",
       "3  6704        Chicago       0.2  ...         60653         Illinois     2021-01-01\n",
       "4  6705        Seattle       0.0  ...         98115       Washington     2021-01-01\n",
       "\n",
       "[5 rows x 15 columns]"
      ]
     },
     "execution_count": 440,
     "metadata": {
      "tags": []
     },
     "output_type": "execute_result"
    }
   ],
   "source": [
    "test.head()"
   ]
  },
  {
   "cell_type": "code",
   "execution_count": 441,
   "metadata": {
    "colab": {
     "base_uri": "https://localhost:8080/"
    },
    "id": "KORRi9531ZWy",
    "outputId": "dce14850-9bb2-479d-f820-135f8598aa03"
   },
   "outputs": [
    {
     "data": {
      "text/plain": [
       "id                 0\n",
       "departure city     0\n",
       "discount           0\n",
       "price              0\n",
       "no of items        0\n",
       "location           0\n",
       "class              0\n",
       "segment            0\n",
       "sub-class          0\n",
       "delivery type      0\n",
       "RID                0\n",
       "delivery date      0\n",
       "address code       0\n",
       "departure state    0\n",
       "placement date     0\n",
       "dtype: int64"
      ]
     },
     "execution_count": 441,
     "metadata": {
      "tags": []
     },
     "output_type": "execute_result"
    }
   ],
   "source": [
    "test.isna().sum()"
   ]
  },
  {
   "cell_type": "code",
   "execution_count": 442,
   "metadata": {
    "id": "rS0_mw0M1cO3"
   },
   "outputs": [],
   "source": [
    "test.drop('RID',axis=1,inplace=True)"
   ]
  },
  {
   "cell_type": "code",
   "execution_count": 443,
   "metadata": {
    "id": "Vm4WS-Pr1jxy"
   },
   "outputs": [],
   "source": [
    "\n",
    "test['item_map']=test['no of items'].map(items)"
   ]
  },
  {
   "cell_type": "code",
   "execution_count": 444,
   "metadata": {
    "id": "ddXvGNoQ19Ca"
   },
   "outputs": [],
   "source": [
    "\n",
    "test['loc_map']=test['location'].map(loc)"
   ]
  },
  {
   "cell_type": "code",
   "execution_count": 445,
   "metadata": {
    "id": "BdhpLkM92B_g"
   },
   "outputs": [],
   "source": [
    "\n",
    "test['class_map']=test['class'].map(class_map)"
   ]
  },
  {
   "cell_type": "code",
   "execution_count": 446,
   "metadata": {
    "id": "LvfDOuk02Km3"
   },
   "outputs": [],
   "source": [
    "\n",
    "test['seg_map']=test['segment'].map(segment)"
   ]
  },
  {
   "cell_type": "code",
   "execution_count": 447,
   "metadata": {
    "id": "3G56IMSr2Qva"
   },
   "outputs": [],
   "source": [
    "\n",
    "test['sub_class_map']=test['sub-class'].map(sub)"
   ]
  },
  {
   "cell_type": "code",
   "execution_count": 448,
   "metadata": {
    "id": "KfOwau-M2ctz"
   },
   "outputs": [],
   "source": [
    "\n",
    "test['del_map']=test['delivery type'].map(delivery)"
   ]
  },
  {
   "cell_type": "code",
   "execution_count": 448,
   "metadata": {
    "id": "ugcRMEE-2cxm"
   },
   "outputs": [],
   "source": []
  },
  {
   "cell_type": "code",
   "execution_count": 449,
   "metadata": {
    "id": "Y3ZYne-x2oXH"
   },
   "outputs": [],
   "source": [
    "# df_dic = test.groupby('departure state')['profit'].mean().reset_index()\n"
   ]
  },
  {
   "cell_type": "code",
   "execution_count": 450,
   "metadata": {
    "id": "QZrdTngm2oXo"
   },
   "outputs": [],
   "source": [
    "# df_dic['loc_class'] = pd.cut(x = df_dic['profit'], bins = [-50,0,50,100,300] , labels = [1,2,3,4])"
   ]
  },
  {
   "cell_type": "code",
   "execution_count": 451,
   "metadata": {
    "id": "t0qT1D-_2oXo"
   },
   "outputs": [],
   "source": [
    "# df_dic['loc_class'] = df_dic['loc_class'].astype(int)"
   ]
  },
  {
   "cell_type": "code",
   "execution_count": 452,
   "metadata": {
    "id": "lpEJU9Yc2oXp"
   },
   "outputs": [],
   "source": [
    "# DIC = df_dic.groupby('departure state')['loc_class'].mean().to_dict()"
   ]
  },
  {
   "cell_type": "code",
   "execution_count": 453,
   "metadata": {
    "id": "FVjAoX5u2oXq"
   },
   "outputs": [],
   "source": [
    "test['dep_class'] = test['departure state'].map(dep_state)"
   ]
  },
  {
   "cell_type": "code",
   "execution_count": 453,
   "metadata": {
    "id": "xYud22d65V5E"
   },
   "outputs": [],
   "source": []
  },
  {
   "cell_type": "code",
   "execution_count": 454,
   "metadata": {
    "id": "ABwwtqkG2u57"
   },
   "outputs": [],
   "source": [
    "# df_dic = df.groupby('departure city')['profit'].mean().reset_index()\n"
   ]
  },
  {
   "cell_type": "code",
   "execution_count": 455,
   "metadata": {
    "id": "1sy9otuq2u6R"
   },
   "outputs": [],
   "source": [
    "# df_dic['loc_class'] = pd.cut(x = df_dic['profit'], bins = [-210,0,50,650] , labels = [1,2,3])\n"
   ]
  },
  {
   "cell_type": "code",
   "execution_count": 456,
   "metadata": {
    "id": "kH5EMfA02u6S"
   },
   "outputs": [],
   "source": [
    "# df_dic['loc_class'] = df_dic['loc_class'].astype(int)\n",
    "# DIC = df_dic.groupby('departure city')['loc_class'].mean().to_dict()\n",
    "test['dep_city_class'] = test['departure city'].map(dep_city)\n"
   ]
  },
  {
   "cell_type": "code",
   "execution_count": 456,
   "metadata": {
    "id": "M-aQFdmI2c5R"
   },
   "outputs": [],
   "source": []
  },
  {
   "cell_type": "code",
   "execution_count": 457,
   "metadata": {
    "id": "cbqUwGMp21Ps"
   },
   "outputs": [],
   "source": [
    "# df_dic = df.groupby('address code')['profit'].mean().reset_index()\n"
   ]
  },
  {
   "cell_type": "code",
   "execution_count": 458,
   "metadata": {
    "id": "Ir2U4Z1Z21P0"
   },
   "outputs": [],
   "source": [
    "# df_dic['loc_class'] = pd.cut(x = df_dic['profit'], bins = [-210,0,50,650] , labels = [1,2,3])\n",
    "# "
   ]
  },
  {
   "cell_type": "code",
   "execution_count": 459,
   "metadata": {
    "id": "HLtNK5nw21P3"
   },
   "outputs": [],
   "source": [
    "# df_dic['loc_class'] = df_dic['loc_class'].astype(int)\n",
    "# DIC = df_dic.groupby('address code')['loc_class'].mean().to_dict()\n",
    "test['address_class'] = test['address code'].map(add_code)\n"
   ]
  },
  {
   "cell_type": "code",
   "execution_count": 460,
   "metadata": {
    "id": "gfujWbX42c-Z"
   },
   "outputs": [],
   "source": [
    "test['delivery date'] = pd.to_datetime(test['delivery date'])\n",
    "test['placement date'] = pd.to_datetime(test['placement date'])\n",
    "test['duration'] = (test['delivery date'] - test['placement date']).dt.days"
   ]
  },
  {
   "cell_type": "code",
   "execution_count": 461,
   "metadata": {
    "colab": {
     "base_uri": "https://localhost:8080/"
    },
    "id": "VqzNDsLW29b6",
    "outputId": "9d9f0def-2a20-464f-8e3b-93b1bf9976be"
   },
   "outputs": [
    {
     "name": "stderr",
     "output_type": "stream",
     "text": [
      "/usr/local/lib/python3.7/dist-packages/ipykernel_launcher.py:2: FutureWarning: Series.dt.weekofyear and Series.dt.week have been deprecated.  Please use Series.dt.isocalendar().week instead.\n",
      "  \n",
      "/usr/local/lib/python3.7/dist-packages/ipykernel_launcher.py:4: FutureWarning: Series.dt.weekofyear and Series.dt.week have been deprecated.  Please use Series.dt.isocalendar().week instead.\n",
      "  after removing the cwd from sys.path.\n"
     ]
    }
   ],
   "source": [
    "test['delivery_month']=test['delivery date'].dt.month\n",
    "test['delivery_week']=test['delivery date'].dt.week\n",
    "test['placement_month']=test['placement date'].dt.month\n",
    "test['placement_week']=test['placement date'].dt.week\n"
   ]
  },
  {
   "cell_type": "code",
   "execution_count": 462,
   "metadata": {
    "id": "3ZP9dyCS29Xo"
   },
   "outputs": [],
   "source": [
    "# duration={31:5,0:4,29:3,30:2,28:1}\n",
    "test['duration_map']=test['duration'].map(duration)"
   ]
  },
  {
   "cell_type": "code",
   "execution_count": 463,
   "metadata": {
    "id": "kD0w7YXd4yoG"
   },
   "outputs": [],
   "source": [
    "test.set_index('id',inplace=True)"
   ]
  },
  {
   "cell_type": "code",
   "execution_count": 464,
   "metadata": {
    "colab": {
     "base_uri": "https://localhost:8080/"
    },
    "id": "SHQHnPMG29UB",
    "outputId": "4cf24a1c-ba60-435e-ef14-69f40a28500b"
   },
   "outputs": [
    {
     "data": {
      "text/plain": [
       "Index(['departure city', 'discount', 'price', 'no of items', 'location',\n",
       "       'class', 'segment', 'sub-class', 'delivery type', 'delivery date',\n",
       "       'address code', 'departure state', 'placement date', 'item_map',\n",
       "       'loc_map', 'class_map', 'seg_map', 'sub_class_map', 'del_map',\n",
       "       'dep_class', 'dep_city_class', 'address_class', 'duration',\n",
       "       'placement_month', 'placement_week', 'delivery_month', 'delivery_week',\n",
       "       'duration_map'],\n",
       "      dtype='object')"
      ]
     },
     "execution_count": 464,
     "metadata": {
      "tags": []
     },
     "output_type": "execute_result"
    }
   ],
   "source": [
    "test.columns"
   ]
  },
  {
   "cell_type": "code",
   "execution_count": 465,
   "metadata": {
    "colab": {
     "base_uri": "https://localhost:8080/"
    },
    "id": "FAPgh-6_29Me",
    "outputId": "49d0ddb6-3c6d-4d71-a808-869a70d8b791"
   },
   "outputs": [
    {
     "data": {
      "text/plain": [
       "Index(['departure city', 'discount', 'price', 'no of items', 'location',\n",
       "       'class', 'segment', 'sub-class', 'delivery type', 'profit',\n",
       "       'delivery date', 'address code', 'departure state', 'placement date',\n",
       "       'item_map', 'loc_map', 'class_map', 'seg_map', 'sub_class_map',\n",
       "       'del_map', 'dep_class', 'dep_city_class', 'address_class', 'duration',\n",
       "       'delivery_month', 'delivery_week', 'placement_month', 'placement_week',\n",
       "       'duration_map'],\n",
       "      dtype='object')"
      ]
     },
     "execution_count": 465,
     "metadata": {
      "tags": []
     },
     "output_type": "execute_result"
    }
   ],
   "source": [
    "df.columns"
   ]
  },
  {
   "cell_type": "code",
   "execution_count": 465,
   "metadata": {
    "id": "GlzecVnO4tud"
   },
   "outputs": [],
   "source": []
  }
 ],
 "metadata": {
  "colab": {
   "collapsed_sections": [],
   "name": "Mengary Revenue Prediction.ipynb",
   "provenance": []
  },
  "kernelspec": {
   "display_name": "Python 3",
   "language": "python",
   "name": "python3"
  },
  "language_info": {
   "codemirror_mode": {
    "name": "ipython",
    "version": 3
   },
   "file_extension": ".py",
   "mimetype": "text/x-python",
   "name": "python",
   "nbconvert_exporter": "python",
   "pygments_lexer": "ipython3",
   "version": "3.7.6"
  }
 },
 "nbformat": 4,
 "nbformat_minor": 1
}
